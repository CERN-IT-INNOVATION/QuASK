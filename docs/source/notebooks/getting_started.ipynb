{
 "cells": [
  {
   "cell_type": "markdown",
   "id": "42bef169-944b-41b7-84e8-f41e6f9d62cc",
   "metadata": {},
   "source": [
    "# Getting started"
   ]
  },
  {
   "cell_type": "code",
   "execution_count": 1,
   "id": "f463bcd7-dc70-44fb-8695-2399fe4c925c",
   "metadata": {},
   "outputs": [],
   "source": [
    "import sys\n",
    "import os\n",
    "# to import quask, move from docs/source/notebooks to src\n",
    "sys.path.append('../../../src')"
   ]
  },
  {
   "cell_type": "markdown",
   "id": "00653702-d41a-41e8-a813-4f9c9b9aed1c",
   "metadata": {},
   "source": [
    "Are you curious to know if _quask_ is the right library for your project? Here is a quick and straightforward guide on how to get started using this tool. We will see:\n",
    "\n",
    "1. how to quickly install the framework;\n",
    "2. what are the main components of _quask_ and how to use them; \n",
    "3. how to solve a toy classification problem using quantum kernels via the _quask_ application programming interface.\n"
   ]
  },
  {
   "cell_type": "raw",
   "id": "6e14567c-28c2-4e86-9940-6e6a9842496c",
   "metadata": {},
   "source": [
    ".. warning::\n",
    "\n",
    "    This first tutorial illustrates the functionalities of the framework. It presumes a pre-existing knowledge of kernel methods and quantum computing. For a more beginner's level introduction, take a look at the `Intro to classical kernels <tutorials_classical/index.html>`__ page. "
   ]
  },
  {
   "cell_type": "markdown",
   "id": "76b42334-4f31-4391-8053-96bdac09d770",
   "metadata": {},
   "source": [
    "## Fast installation\n",
    "\n",
    "The easiest way to use _quask_ is by installing it in your Python3 environment (version >= 3.10) via the _pip_ packet manager,"
   ]
  },
  {
   "cell_type": "code",
   "execution_count": 4,
   "id": "d2de250b-692b-467b-8bbe-6b555eb151e2",
   "metadata": {},
   "outputs": [
    {
     "name": "stdout",
     "output_type": "stream",
     "text": [
      "Requirement already satisfied: quask==2.0.0-alpha1 in /Users/fradm98/Desktop/QuASK/src (2.0.0a1)\n",
      "Requirement already satisfied: pennylane==0.33.1 in /Users/fradm98/opt/anaconda3/envs/quask/lib/python3.12/site-packages (from quask==2.0.0-alpha1) (0.33.1)\n",
      "Requirement already satisfied: pytest>=7.4.3 in /Users/fradm98/opt/anaconda3/envs/quask/lib/python3.12/site-packages (from quask==2.0.0-alpha1) (7.4.3)\n",
      "Requirement already satisfied: numpy>=1.23.5 in /Users/fradm98/opt/anaconda3/envs/quask/lib/python3.12/site-packages (from quask==2.0.0-alpha1) (1.26.2)\n",
      "Requirement already satisfied: pandas>=2.1.2 in /Users/fradm98/opt/anaconda3/envs/quask/lib/python3.12/site-packages (from quask==2.0.0-alpha1) (2.1.3)\n",
      "Requirement already satisfied: scikit-learn>=1.3.1 in /Users/fradm98/opt/anaconda3/envs/quask/lib/python3.12/site-packages (from quask==2.0.0-alpha1) (1.3.2)\n",
      "Requirement already satisfied: scipy>=1.11.2 in /Users/fradm98/opt/anaconda3/envs/quask/lib/python3.12/site-packages (from quask==2.0.0-alpha1) (1.11.3)\n",
      "Requirement already satisfied: networkx in /Users/fradm98/opt/anaconda3/envs/quask/lib/python3.12/site-packages (from pennylane==0.33.1->quask==2.0.0-alpha1) (3.2.1)\n",
      "Requirement already satisfied: rustworkx in /Users/fradm98/opt/anaconda3/envs/quask/lib/python3.12/site-packages (from pennylane==0.33.1->quask==2.0.0-alpha1) (0.13.2)\n",
      "Requirement already satisfied: autograd in /Users/fradm98/opt/anaconda3/envs/quask/lib/python3.12/site-packages (from pennylane==0.33.1->quask==2.0.0-alpha1) (1.6.2)\n",
      "Requirement already satisfied: toml in /Users/fradm98/opt/anaconda3/envs/quask/lib/python3.12/site-packages (from pennylane==0.33.1->quask==2.0.0-alpha1) (0.10.2)\n",
      "Requirement already satisfied: appdirs in /Users/fradm98/opt/anaconda3/envs/quask/lib/python3.12/site-packages (from pennylane==0.33.1->quask==2.0.0-alpha1) (1.4.4)\n",
      "Requirement already satisfied: semantic-version>=2.7 in /Users/fradm98/opt/anaconda3/envs/quask/lib/python3.12/site-packages (from pennylane==0.33.1->quask==2.0.0-alpha1) (2.10.0)\n",
      "Requirement already satisfied: autoray>=0.6.1 in /Users/fradm98/opt/anaconda3/envs/quask/lib/python3.12/site-packages (from pennylane==0.33.1->quask==2.0.0-alpha1) (0.6.7)\n",
      "Requirement already satisfied: cachetools in /Users/fradm98/opt/anaconda3/envs/quask/lib/python3.12/site-packages (from pennylane==0.33.1->quask==2.0.0-alpha1) (5.3.2)\n",
      "Requirement already satisfied: pennylane-lightning>=0.33 in /Users/fradm98/opt/anaconda3/envs/quask/lib/python3.12/site-packages (from pennylane==0.33.1->quask==2.0.0-alpha1) (0.33.1)\n",
      "Requirement already satisfied: requests in /Users/fradm98/opt/anaconda3/envs/quask/lib/python3.12/site-packages (from pennylane==0.33.1->quask==2.0.0-alpha1) (2.31.0)\n",
      "Requirement already satisfied: typing-extensions in /Users/fradm98/opt/anaconda3/envs/quask/lib/python3.12/site-packages (from pennylane==0.33.1->quask==2.0.0-alpha1) (4.8.0)\n",
      "Requirement already satisfied: python-dateutil>=2.8.2 in /Users/fradm98/opt/anaconda3/envs/quask/lib/python3.12/site-packages (from pandas>=2.1.2->quask==2.0.0-alpha1) (2.8.2)\n",
      "Requirement already satisfied: pytz>=2020.1 in /Users/fradm98/opt/anaconda3/envs/quask/lib/python3.12/site-packages (from pandas>=2.1.2->quask==2.0.0-alpha1) (2023.3.post1)\n",
      "Requirement already satisfied: tzdata>=2022.1 in /Users/fradm98/opt/anaconda3/envs/quask/lib/python3.12/site-packages (from pandas>=2.1.2->quask==2.0.0-alpha1) (2023.3)\n",
      "Requirement already satisfied: iniconfig in /Users/fradm98/opt/anaconda3/envs/quask/lib/python3.12/site-packages (from pytest>=7.4.3->quask==2.0.0-alpha1) (2.0.0)\n",
      "Requirement already satisfied: packaging in /Users/fradm98/opt/anaconda3/envs/quask/lib/python3.12/site-packages (from pytest>=7.4.3->quask==2.0.0-alpha1) (23.2)\n",
      "Requirement already satisfied: pluggy<2.0,>=0.12 in /Users/fradm98/opt/anaconda3/envs/quask/lib/python3.12/site-packages (from pytest>=7.4.3->quask==2.0.0-alpha1) (1.3.0)\n",
      "Requirement already satisfied: joblib>=1.1.1 in /Users/fradm98/opt/anaconda3/envs/quask/lib/python3.12/site-packages (from scikit-learn>=1.3.1->quask==2.0.0-alpha1) (1.3.2)\n",
      "Requirement already satisfied: threadpoolctl>=2.0.0 in /Users/fradm98/opt/anaconda3/envs/quask/lib/python3.12/site-packages (from scikit-learn>=1.3.1->quask==2.0.0-alpha1) (3.2.0)\n",
      "Requirement already satisfied: six>=1.5 in /Users/fradm98/opt/anaconda3/envs/quask/lib/python3.12/site-packages (from python-dateutil>=2.8.2->pandas>=2.1.2->quask==2.0.0-alpha1) (1.16.0)\n",
      "Requirement already satisfied: future>=0.15.2 in /Users/fradm98/opt/anaconda3/envs/quask/lib/python3.12/site-packages (from autograd->pennylane==0.33.1->quask==2.0.0-alpha1) (0.18.3)\n",
      "Requirement already satisfied: charset-normalizer<4,>=2 in /Users/fradm98/opt/anaconda3/envs/quask/lib/python3.12/site-packages (from requests->pennylane==0.33.1->quask==2.0.0-alpha1) (3.3.2)\n",
      "Requirement already satisfied: idna<4,>=2.5 in /Users/fradm98/opt/anaconda3/envs/quask/lib/python3.12/site-packages (from requests->pennylane==0.33.1->quask==2.0.0-alpha1) (3.4)\n",
      "Requirement already satisfied: urllib3<3,>=1.21.1 in /Users/fradm98/opt/anaconda3/envs/quask/lib/python3.12/site-packages (from requests->pennylane==0.33.1->quask==2.0.0-alpha1) (2.1.0)\n",
      "Requirement already satisfied: certifi>=2017.4.17 in /Users/fradm98/opt/anaconda3/envs/quask/lib/python3.12/site-packages (from requests->pennylane==0.33.1->quask==2.0.0-alpha1) (2023.7.22)\n"
     ]
    }
   ],
   "source": [
    "!python3 -m pip install quask==2.0.0-alpha1"
   ]
  },
  {
   "cell_type": "markdown",
   "id": "9b9e49a5-5610-47e8-a04c-fed81151d1a7",
   "metadata": {},
   "source": [
    "You also need any quantum SDK installed on your system. For example, we can install Qiskit. For more information about the installation process, you can see [the Installation section](installation.html). "
   ]
  },
  {
   "cell_type": "code",
   "execution_count": 2,
   "id": "52b381e9-3a03-4870-a5cc-47685791e3cd",
   "metadata": {},
   "outputs": [
    {
     "name": "stdout",
     "output_type": "stream",
     "text": [
      "Collecting qiskit\n",
      "  Downloading qiskit-0.45.1-py3-none-any.whl.metadata (12 kB)\n",
      "Collecting qiskit_ibm_runtime\n",
      "  Downloading qiskit_ibm_runtime-0.17.0-py3-none-any.whl.metadata (18 kB)\n",
      "Collecting qiskit-terra==0.45.1 (from qiskit)\n",
      "  Downloading qiskit_terra-0.45.1-cp38-abi3-macosx_10_9_x86_64.whl.metadata (12 kB)\n",
      "Requirement already satisfied: rustworkx>=0.13.0 in /Users/fradm98/opt/anaconda3/envs/quask/lib/python3.12/site-packages (from qiskit-terra==0.45.1->qiskit) (0.13.2)\n",
      "Requirement already satisfied: numpy<2,>=1.17 in /Users/fradm98/opt/anaconda3/envs/quask/lib/python3.12/site-packages (from qiskit-terra==0.45.1->qiskit) (1.26.2)\n",
      "Collecting ply>=3.10 (from qiskit-terra==0.45.1->qiskit)\n",
      "  Downloading ply-3.11-py2.py3-none-any.whl (49 kB)\n",
      "\u001b[2K     \u001b[90m━━━━━━━━━━━━━━━━━━━━━━━━━━━━━━━━━━━━━━━\u001b[0m \u001b[32m49.6/49.6 kB\u001b[0m \u001b[31m856.3 kB/s\u001b[0m eta \u001b[36m0:00:00\u001b[0m \u001b[36m0:00:01\u001b[0m\n",
      "\u001b[?25hRequirement already satisfied: psutil>=5 in /Users/fradm98/opt/anaconda3/envs/quask/lib/python3.12/site-packages (from qiskit-terra==0.45.1->qiskit) (5.9.5)\n",
      "Requirement already satisfied: scipy>=1.5 in /Users/fradm98/opt/anaconda3/envs/quask/lib/python3.12/site-packages (from qiskit-terra==0.45.1->qiskit) (1.11.3)\n",
      "Collecting sympy>=1.3 (from qiskit-terra==0.45.1->qiskit)\n",
      "  Using cached sympy-1.12-py3-none-any.whl (5.7 MB)\n",
      "Collecting dill>=0.3 (from qiskit-terra==0.45.1->qiskit)\n",
      "  Downloading dill-0.3.7-py3-none-any.whl.metadata (9.9 kB)\n",
      "Requirement already satisfied: python-dateutil>=2.8.0 in /Users/fradm98/opt/anaconda3/envs/quask/lib/python3.12/site-packages (from qiskit-terra==0.45.1->qiskit) (2.8.2)\n",
      "Collecting stevedore>=3.0.0 (from qiskit-terra==0.45.1->qiskit)\n",
      "  Downloading stevedore-5.1.0-py3-none-any.whl.metadata (2.2 kB)\n",
      "Collecting symengine!=0.10.0,>=0.9 (from qiskit-terra==0.45.1->qiskit)\n",
      "  Downloading symengine-0.11.0-cp312-cp312-macosx_10_9_x86_64.whl.metadata (1.2 kB)\n",
      "Requirement already satisfied: requests>=2.19 in /Users/fradm98/opt/anaconda3/envs/quask/lib/python3.12/site-packages (from qiskit_ibm_runtime) (2.31.0)\n",
      "Collecting requests-ntlm>=1.1.0 (from qiskit_ibm_runtime)\n",
      "  Downloading requests_ntlm-1.2.0-py3-none-any.whl (6.0 kB)\n",
      "Requirement already satisfied: urllib3>=1.21.1 in /Users/fradm98/opt/anaconda3/envs/quask/lib/python3.12/site-packages (from qiskit_ibm_runtime) (2.1.0)\n",
      "Collecting websocket-client>=1.5.1 (from qiskit_ibm_runtime)\n",
      "  Downloading websocket_client-1.7.0-py3-none-any.whl.metadata (7.9 kB)\n",
      "Collecting ibm-platform-services>=0.22.6 (from qiskit_ibm_runtime)\n",
      "  Downloading ibm-platform-services-0.48.1.tar.gz (300 kB)\n",
      "\u001b[2K     \u001b[90m━━━━━━━━━━━━━━━━━━━━━━━━━━━━━━━━━━━━━━━\u001b[0m \u001b[32m300.8/300.8 kB\u001b[0m \u001b[31m4.1 MB/s\u001b[0m eta \u001b[36m0:00:00\u001b[0ma \u001b[36m0:00:01\u001b[0m\n",
      "\u001b[?25h  Installing build dependencies ... \u001b[?25ldone\n",
      "\u001b[?25h  Getting requirements to build wheel ... \u001b[?25ldone\n",
      "\u001b[?25h  Preparing metadata (pyproject.toml) ... \u001b[?25ldone\n",
      "\u001b[?25hCollecting qiskit-ibm-provider>=0.7.2 (from qiskit_ibm_runtime)\n",
      "  Downloading qiskit_ibm_provider-0.7.3-py3-none-any.whl.metadata (7.2 kB)\n",
      "Collecting ibm-cloud-sdk-core<4.0.0,>=3.18.1 (from ibm-platform-services>=0.22.6->qiskit_ibm_runtime)\n",
      "  Downloading ibm-cloud-sdk-core-3.18.2.tar.gz (57 kB)\n",
      "\u001b[2K     \u001b[90m━━━━━━━━━━━━━━━━━━━━━━━━━━━━━━━━━━━━━━━━\u001b[0m \u001b[32m57.9/57.9 kB\u001b[0m \u001b[31m2.3 MB/s\u001b[0m eta \u001b[36m0:00:00\u001b[0m\n",
      "\u001b[?25h  Installing build dependencies ... \u001b[?25ldone\n",
      "\u001b[?25h  Getting requirements to build wheel ... \u001b[?25ldone\n",
      "\u001b[?25h  Preparing metadata (pyproject.toml) ... \u001b[?25ldone\n",
      "\u001b[?25hRequirement already satisfied: six>=1.5 in /Users/fradm98/opt/anaconda3/envs/quask/lib/python3.12/site-packages (from python-dateutil>=2.8.0->qiskit-terra==0.45.1->qiskit) (1.16.0)\n",
      "Collecting websockets>=10.0 (from qiskit-ibm-provider>=0.7.2->qiskit_ibm_runtime)\n",
      "  Downloading websockets-12.0-cp312-cp312-macosx_10_9_x86_64.whl.metadata (6.6 kB)\n",
      "Requirement already satisfied: typing-extensions>=4.3 in /Users/fradm98/opt/anaconda3/envs/quask/lib/python3.12/site-packages (from qiskit-ibm-provider>=0.7.2->qiskit_ibm_runtime) (4.8.0)\n",
      "Requirement already satisfied: charset-normalizer<4,>=2 in /Users/fradm98/opt/anaconda3/envs/quask/lib/python3.12/site-packages (from requests>=2.19->qiskit_ibm_runtime) (3.3.2)\n",
      "Requirement already satisfied: idna<4,>=2.5 in /Users/fradm98/opt/anaconda3/envs/quask/lib/python3.12/site-packages (from requests>=2.19->qiskit_ibm_runtime) (3.4)\n",
      "Requirement already satisfied: certifi>=2017.4.17 in /Users/fradm98/opt/anaconda3/envs/quask/lib/python3.12/site-packages (from requests>=2.19->qiskit_ibm_runtime) (2023.7.22)\n",
      "Collecting cryptography>=1.3 (from requests-ntlm>=1.1.0->qiskit_ibm_runtime)\n",
      "  Downloading cryptography-41.0.7-cp37-abi3-macosx_10_12_x86_64.whl.metadata (5.2 kB)\n",
      "Collecting pyspnego>=0.1.6 (from requests-ntlm>=1.1.0->qiskit_ibm_runtime)\n",
      "  Downloading pyspnego-0.10.2-py3-none-any.whl.metadata (5.4 kB)\n",
      "Collecting cffi>=1.12 (from cryptography>=1.3->requests-ntlm>=1.1.0->qiskit_ibm_runtime)\n",
      "  Using cached cffi-1.16.0-cp312-cp312-macosx_10_9_x86_64.whl.metadata (1.5 kB)\n",
      "Collecting PyJWT<3.0.0,>=2.8.0 (from ibm-cloud-sdk-core<4.0.0,>=3.18.1->ibm-platform-services>=0.22.6->qiskit_ibm_runtime)\n",
      "  Downloading PyJWT-2.8.0-py3-none-any.whl.metadata (4.2 kB)\n",
      "Collecting pbr!=2.1.0,>=2.0.0 (from stevedore>=3.0.0->qiskit-terra==0.45.1->qiskit)\n",
      "  Downloading pbr-6.0.0-py2.py3-none-any.whl.metadata (1.3 kB)\n",
      "Collecting mpmath>=0.19 (from sympy>=1.3->qiskit-terra==0.45.1->qiskit)\n",
      "  Using cached mpmath-1.3.0-py3-none-any.whl (536 kB)\n",
      "Collecting pycparser (from cffi>=1.12->cryptography>=1.3->requests-ntlm>=1.1.0->qiskit_ibm_runtime)\n",
      "  Using cached pycparser-2.21-py2.py3-none-any.whl (118 kB)\n",
      "Downloading qiskit-0.45.1-py3-none-any.whl (9.6 kB)\n",
      "Downloading qiskit_terra-0.45.1-cp38-abi3-macosx_10_9_x86_64.whl (5.4 MB)\n",
      "\u001b[2K   \u001b[90m━━━━━━━━━━━━━━━━━━━━━━━━━━━━━━━━━━━━━━━━\u001b[0m \u001b[32m5.4/5.4 MB\u001b[0m \u001b[31m14.7 MB/s\u001b[0m eta \u001b[36m0:00:00\u001b[0m00:01\u001b[0m00:01\u001b[0m\n",
      "\u001b[?25hDownloading qiskit_ibm_runtime-0.17.0-py3-none-any.whl (229 kB)\n",
      "\u001b[2K   \u001b[90m━━━━━━━━━━━━━━━━━━━━━━━━━━━━━━━━━━━━━━━━\u001b[0m \u001b[32m229.7/229.7 kB\u001b[0m \u001b[31m9.4 MB/s\u001b[0m eta \u001b[36m0:00:00\u001b[0m\n",
      "\u001b[?25hDownloading qiskit_ibm_provider-0.7.3-py3-none-any.whl (243 kB)\n",
      "\u001b[2K   \u001b[90m━━━━━━━━━━━━━━━━━━━━━━━━━━━━━━━━━━━━━━━━\u001b[0m \u001b[32m243.9/243.9 kB\u001b[0m \u001b[31m10.7 MB/s\u001b[0m eta \u001b[36m0:00:00\u001b[0m\n",
      "\u001b[?25hDownloading websocket_client-1.7.0-py3-none-any.whl (58 kB)\n",
      "\u001b[2K   \u001b[90m━━━━━━━━━━━━━━━━━━━━━━━━━━━━━━━━━━━━━━━━\u001b[0m \u001b[32m58.5/58.5 kB\u001b[0m \u001b[31m2.2 MB/s\u001b[0m eta \u001b[36m0:00:00\u001b[0m\n",
      "\u001b[?25hDownloading cryptography-41.0.7-cp37-abi3-macosx_10_12_x86_64.whl (2.9 MB)\n",
      "\u001b[2K   \u001b[90m━━━━━━━━━━━━━━━━━━━━━━━━━━━━━━━━━━━━━━━━\u001b[0m \u001b[32m2.9/2.9 MB\u001b[0m \u001b[31m43.9 MB/s\u001b[0m eta \u001b[36m0:00:00\u001b[0ma \u001b[36m0:00:01\u001b[0m\n",
      "\u001b[?25hDownloading dill-0.3.7-py3-none-any.whl (115 kB)\n",
      "\u001b[2K   \u001b[90m━━━━━━━━━━━━━━━━━━━━━━━━━━━━━━━━━━━━━━━━\u001b[0m \u001b[32m115.3/115.3 kB\u001b[0m \u001b[31m4.9 MB/s\u001b[0m eta \u001b[36m0:00:00\u001b[0m\n",
      "\u001b[?25hDownloading pyspnego-0.10.2-py3-none-any.whl (129 kB)\n",
      "\u001b[2K   \u001b[90m━━━━━━━━━━━━━━━━━━━━━━━━━━━━━━━━━━━━━━━━\u001b[0m \u001b[32m129.9/129.9 kB\u001b[0m \u001b[31m5.7 MB/s\u001b[0m eta \u001b[36m0:00:00\u001b[0m\n",
      "\u001b[?25hDownloading stevedore-5.1.0-py3-none-any.whl (49 kB)\n",
      "\u001b[2K   \u001b[90m━━━━━━━━━━━━━━━━━━━━━━━━━━━━━━━━━━━━━━━━\u001b[0m \u001b[32m49.6/49.6 kB\u001b[0m \u001b[31m1.9 MB/s\u001b[0m eta \u001b[36m0:00:00\u001b[0m\n",
      "\u001b[?25hDownloading symengine-0.11.0-cp312-cp312-macosx_10_9_x86_64.whl (23.7 MB)\n",
      "\u001b[2K   \u001b[90m━━━━━━━━━━━━━━━━━━━━━━━━━━━━━━━━━━━━━━━━\u001b[0m \u001b[32m23.7/23.7 MB\u001b[0m \u001b[31m6.7 MB/s\u001b[0m eta \u001b[36m0:00:00\u001b[0m00:01\u001b[0m00:01\u001b[0mm\n",
      "\u001b[?25hDownloading websockets-12.0-cp312-cp312-macosx_10_9_x86_64.whl (121 kB)\n",
      "\u001b[2K   \u001b[90m━━━━━━━━━━━━━━━━━━━━━━━━━━━━━━━━━━━━━━━━\u001b[0m \u001b[32m121.3/121.3 kB\u001b[0m \u001b[31m4.8 MB/s\u001b[0m eta \u001b[36m0:00:00\u001b[0m\n",
      "\u001b[?25hUsing cached cffi-1.16.0-cp312-cp312-macosx_10_9_x86_64.whl (183 kB)\n",
      "Downloading pbr-6.0.0-py2.py3-none-any.whl (107 kB)\n",
      "\u001b[2K   \u001b[90m━━━━━━━━━━━━━━━━━━━━━━━━━━━━━━━━━━━━━━━━\u001b[0m \u001b[32m107.5/107.5 kB\u001b[0m \u001b[31m4.7 MB/s\u001b[0m eta \u001b[36m0:00:00\u001b[0m\n",
      "\u001b[?25hDownloading PyJWT-2.8.0-py3-none-any.whl (22 kB)\n",
      "Building wheels for collected packages: ibm-platform-services, ibm-cloud-sdk-core\n",
      "  Building wheel for ibm-platform-services (pyproject.toml) ... \u001b[?25ldone\n",
      "\u001b[?25h  Created wheel for ibm-platform-services: filename=ibm_platform_services-0.48.1-py3-none-any.whl size=315012 sha256=3788ac78663f431ee7da948319931bdcc0025faf4a93c296ea231cb7655bf5b2\n",
      "  Stored in directory: /Users/fradm98/Library/Caches/pip/wheels/9e/74/07/f0575391ee560ac57d2e64c7b8f85b00bb22b5c81036d2a92b\n",
      "  Building wheel for ibm-cloud-sdk-core (pyproject.toml) ... \u001b[?25ldone\n",
      "\u001b[?25h  Created wheel for ibm-cloud-sdk-core: filename=ibm_cloud_sdk_core-3.18.2-py3-none-any.whl size=94323 sha256=1e479b1c905dec8cc79bdb6442e63a6c9e8971451ec51f88b6b99d061a7fcb7b\n",
      "  Stored in directory: /Users/fradm98/Library/Caches/pip/wheels/67/37/c0/29b249389239fed0d64bd07e0406ce1930d55b9e987d304644\n",
      "Successfully built ibm-platform-services ibm-cloud-sdk-core\n",
      "Installing collected packages: ply, mpmath, websockets, websocket-client, sympy, symengine, PyJWT, pycparser, pbr, dill, stevedore, ibm-cloud-sdk-core, cffi, qiskit-terra, ibm-platform-services, cryptography, qiskit, pyspnego, requests-ntlm, qiskit-ibm-provider, qiskit_ibm_runtime\n",
      "Successfully installed PyJWT-2.8.0 cffi-1.16.0 cryptography-41.0.7 dill-0.3.7 ibm-cloud-sdk-core-3.18.2 ibm-platform-services-0.48.1 mpmath-1.3.0 pbr-6.0.0 ply-3.11 pycparser-2.21 pyspnego-0.10.2 qiskit-0.45.1 qiskit-ibm-provider-0.7.3 qiskit-terra-0.45.1 qiskit_ibm_runtime-0.17.0 requests-ntlm-1.2.0 stevedore-5.1.0 symengine-0.11.0 sympy-1.12 websocket-client-1.7.0 websockets-12.0\n",
      "Requirement already satisfied: qiskit_ibm_runtime in /Users/fradm98/opt/anaconda3/envs/quask/lib/python3.12/site-packages (0.17.0)\n",
      "Requirement already satisfied: qiskit>=0.44.1 in /Users/fradm98/opt/anaconda3/envs/quask/lib/python3.12/site-packages (from qiskit_ibm_runtime) (0.45.1)\n",
      "Requirement already satisfied: requests>=2.19 in /Users/fradm98/opt/anaconda3/envs/quask/lib/python3.12/site-packages (from qiskit_ibm_runtime) (2.31.0)\n",
      "Requirement already satisfied: requests-ntlm>=1.1.0 in /Users/fradm98/opt/anaconda3/envs/quask/lib/python3.12/site-packages (from qiskit_ibm_runtime) (1.2.0)\n",
      "Requirement already satisfied: numpy>=1.13 in /Users/fradm98/opt/anaconda3/envs/quask/lib/python3.12/site-packages (from qiskit_ibm_runtime) (1.26.2)\n",
      "Requirement already satisfied: urllib3>=1.21.1 in /Users/fradm98/opt/anaconda3/envs/quask/lib/python3.12/site-packages (from qiskit_ibm_runtime) (2.1.0)\n",
      "Requirement already satisfied: python-dateutil>=2.8.0 in /Users/fradm98/opt/anaconda3/envs/quask/lib/python3.12/site-packages (from qiskit_ibm_runtime) (2.8.2)\n",
      "Requirement already satisfied: websocket-client>=1.5.1 in /Users/fradm98/opt/anaconda3/envs/quask/lib/python3.12/site-packages (from qiskit_ibm_runtime) (1.7.0)\n",
      "Requirement already satisfied: ibm-platform-services>=0.22.6 in /Users/fradm98/opt/anaconda3/envs/quask/lib/python3.12/site-packages (from qiskit_ibm_runtime) (0.48.1)\n",
      "Requirement already satisfied: qiskit-ibm-provider>=0.7.2 in /Users/fradm98/opt/anaconda3/envs/quask/lib/python3.12/site-packages (from qiskit_ibm_runtime) (0.7.3)\n",
      "Requirement already satisfied: ibm-cloud-sdk-core<4.0.0,>=3.18.1 in /Users/fradm98/opt/anaconda3/envs/quask/lib/python3.12/site-packages (from ibm-platform-services>=0.22.6->qiskit_ibm_runtime) (3.18.2)\n",
      "Requirement already satisfied: six>=1.5 in /Users/fradm98/opt/anaconda3/envs/quask/lib/python3.12/site-packages (from python-dateutil>=2.8.0->qiskit_ibm_runtime) (1.16.0)\n",
      "Requirement already satisfied: qiskit-terra==0.45.1 in /Users/fradm98/opt/anaconda3/envs/quask/lib/python3.12/site-packages (from qiskit>=0.44.1->qiskit_ibm_runtime) (0.45.1)\n",
      "Requirement already satisfied: rustworkx>=0.13.0 in /Users/fradm98/opt/anaconda3/envs/quask/lib/python3.12/site-packages (from qiskit-terra==0.45.1->qiskit>=0.44.1->qiskit_ibm_runtime) (0.13.2)\n",
      "Requirement already satisfied: ply>=3.10 in /Users/fradm98/opt/anaconda3/envs/quask/lib/python3.12/site-packages (from qiskit-terra==0.45.1->qiskit>=0.44.1->qiskit_ibm_runtime) (3.11)\n",
      "Requirement already satisfied: psutil>=5 in /Users/fradm98/opt/anaconda3/envs/quask/lib/python3.12/site-packages (from qiskit-terra==0.45.1->qiskit>=0.44.1->qiskit_ibm_runtime) (5.9.5)\n",
      "Requirement already satisfied: scipy>=1.5 in /Users/fradm98/opt/anaconda3/envs/quask/lib/python3.12/site-packages (from qiskit-terra==0.45.1->qiskit>=0.44.1->qiskit_ibm_runtime) (1.11.3)\n",
      "Requirement already satisfied: sympy>=1.3 in /Users/fradm98/opt/anaconda3/envs/quask/lib/python3.12/site-packages (from qiskit-terra==0.45.1->qiskit>=0.44.1->qiskit_ibm_runtime) (1.12)\n",
      "Requirement already satisfied: dill>=0.3 in /Users/fradm98/opt/anaconda3/envs/quask/lib/python3.12/site-packages (from qiskit-terra==0.45.1->qiskit>=0.44.1->qiskit_ibm_runtime) (0.3.7)\n",
      "Requirement already satisfied: stevedore>=3.0.0 in /Users/fradm98/opt/anaconda3/envs/quask/lib/python3.12/site-packages (from qiskit-terra==0.45.1->qiskit>=0.44.1->qiskit_ibm_runtime) (5.1.0)\n",
      "Requirement already satisfied: symengine!=0.10.0,>=0.9 in /Users/fradm98/opt/anaconda3/envs/quask/lib/python3.12/site-packages (from qiskit-terra==0.45.1->qiskit>=0.44.1->qiskit_ibm_runtime) (0.11.0)\n",
      "Requirement already satisfied: websockets>=10.0 in /Users/fradm98/opt/anaconda3/envs/quask/lib/python3.12/site-packages (from qiskit-ibm-provider>=0.7.2->qiskit_ibm_runtime) (12.0)\n",
      "Requirement already satisfied: typing-extensions>=4.3 in /Users/fradm98/opt/anaconda3/envs/quask/lib/python3.12/site-packages (from qiskit-ibm-provider>=0.7.2->qiskit_ibm_runtime) (4.8.0)\n",
      "Requirement already satisfied: charset-normalizer<4,>=2 in /Users/fradm98/opt/anaconda3/envs/quask/lib/python3.12/site-packages (from requests>=2.19->qiskit_ibm_runtime) (3.3.2)\n",
      "Requirement already satisfied: idna<4,>=2.5 in /Users/fradm98/opt/anaconda3/envs/quask/lib/python3.12/site-packages (from requests>=2.19->qiskit_ibm_runtime) (3.4)\n",
      "Requirement already satisfied: certifi>=2017.4.17 in /Users/fradm98/opt/anaconda3/envs/quask/lib/python3.12/site-packages (from requests>=2.19->qiskit_ibm_runtime) (2023.7.22)\n",
      "Requirement already satisfied: cryptography>=1.3 in /Users/fradm98/opt/anaconda3/envs/quask/lib/python3.12/site-packages (from requests-ntlm>=1.1.0->qiskit_ibm_runtime) (41.0.7)\n",
      "Requirement already satisfied: pyspnego>=0.1.6 in /Users/fradm98/opt/anaconda3/envs/quask/lib/python3.12/site-packages (from requests-ntlm>=1.1.0->qiskit_ibm_runtime) (0.10.2)\n",
      "Requirement already satisfied: cffi>=1.12 in /Users/fradm98/opt/anaconda3/envs/quask/lib/python3.12/site-packages (from cryptography>=1.3->requests-ntlm>=1.1.0->qiskit_ibm_runtime) (1.16.0)\n",
      "Requirement already satisfied: PyJWT<3.0.0,>=2.8.0 in /Users/fradm98/opt/anaconda3/envs/quask/lib/python3.12/site-packages (from ibm-cloud-sdk-core<4.0.0,>=3.18.1->ibm-platform-services>=0.22.6->qiskit_ibm_runtime) (2.8.0)\n",
      "Requirement already satisfied: pycparser in /Users/fradm98/opt/anaconda3/envs/quask/lib/python3.12/site-packages (from cffi>=1.12->cryptography>=1.3->requests-ntlm>=1.1.0->qiskit_ibm_runtime) (2.21)\n",
      "Requirement already satisfied: pbr!=2.1.0,>=2.0.0 in /Users/fradm98/opt/anaconda3/envs/quask/lib/python3.12/site-packages (from stevedore>=3.0.0->qiskit-terra==0.45.1->qiskit>=0.44.1->qiskit_ibm_runtime) (6.0.0)\n",
      "Requirement already satisfied: mpmath>=0.19 in /Users/fradm98/opt/anaconda3/envs/quask/lib/python3.12/site-packages (from sympy>=1.3->qiskit-terra==0.45.1->qiskit>=0.44.1->qiskit_ibm_runtime) (1.3.0)\n",
      "Collecting qiskit-aer\n",
      "  Downloading qiskit-aer-0.13.1.tar.gz (6.5 MB)\n",
      "\u001b[2K     \u001b[90m━━━━━━━━━━━━━━━━━━━━━━━━━━━━━━━━━━━━━━━━\u001b[0m \u001b[32m6.5/6.5 MB\u001b[0m \u001b[31m6.8 MB/s\u001b[0m eta \u001b[36m0:00:00\u001b[0m00:01\u001b[0m00:01\u001b[0mm\n",
      "\u001b[?25h  Installing build dependencies ... \u001b[?25ldone\n",
      "\u001b[?25h  Getting requirements to build wheel ... \u001b[?25ldone\n",
      "\u001b[?25h  Preparing metadata (pyproject.toml) ... \u001b[?25ldone\n",
      "\u001b[?25hRequirement already satisfied: qiskit>=0.44.0 in /Users/fradm98/opt/anaconda3/envs/quask/lib/python3.12/site-packages (from qiskit-aer) (0.45.1)\n",
      "Requirement already satisfied: numpy>=1.16.3 in /Users/fradm98/opt/anaconda3/envs/quask/lib/python3.12/site-packages (from qiskit-aer) (1.26.2)\n",
      "Requirement already satisfied: scipy>=1.0 in /Users/fradm98/opt/anaconda3/envs/quask/lib/python3.12/site-packages (from qiskit-aer) (1.11.3)\n",
      "Requirement already satisfied: psutil>=5 in /Users/fradm98/opt/anaconda3/envs/quask/lib/python3.12/site-packages (from qiskit-aer) (5.9.5)\n",
      "Requirement already satisfied: qiskit-terra==0.45.1 in /Users/fradm98/opt/anaconda3/envs/quask/lib/python3.12/site-packages (from qiskit>=0.44.0->qiskit-aer) (0.45.1)\n",
      "Requirement already satisfied: rustworkx>=0.13.0 in /Users/fradm98/opt/anaconda3/envs/quask/lib/python3.12/site-packages (from qiskit-terra==0.45.1->qiskit>=0.44.0->qiskit-aer) (0.13.2)\n",
      "Requirement already satisfied: ply>=3.10 in /Users/fradm98/opt/anaconda3/envs/quask/lib/python3.12/site-packages (from qiskit-terra==0.45.1->qiskit>=0.44.0->qiskit-aer) (3.11)\n",
      "Requirement already satisfied: sympy>=1.3 in /Users/fradm98/opt/anaconda3/envs/quask/lib/python3.12/site-packages (from qiskit-terra==0.45.1->qiskit>=0.44.0->qiskit-aer) (1.12)\n",
      "Requirement already satisfied: dill>=0.3 in /Users/fradm98/opt/anaconda3/envs/quask/lib/python3.12/site-packages (from qiskit-terra==0.45.1->qiskit>=0.44.0->qiskit-aer) (0.3.7)\n",
      "Requirement already satisfied: python-dateutil>=2.8.0 in /Users/fradm98/opt/anaconda3/envs/quask/lib/python3.12/site-packages (from qiskit-terra==0.45.1->qiskit>=0.44.0->qiskit-aer) (2.8.2)\n",
      "Requirement already satisfied: stevedore>=3.0.0 in /Users/fradm98/opt/anaconda3/envs/quask/lib/python3.12/site-packages (from qiskit-terra==0.45.1->qiskit>=0.44.0->qiskit-aer) (5.1.0)\n",
      "Requirement already satisfied: symengine!=0.10.0,>=0.9 in /Users/fradm98/opt/anaconda3/envs/quask/lib/python3.12/site-packages (from qiskit-terra==0.45.1->qiskit>=0.44.0->qiskit-aer) (0.11.0)\n",
      "Requirement already satisfied: six>=1.5 in /Users/fradm98/opt/anaconda3/envs/quask/lib/python3.12/site-packages (from python-dateutil>=2.8.0->qiskit-terra==0.45.1->qiskit>=0.44.0->qiskit-aer) (1.16.0)\n",
      "Requirement already satisfied: pbr!=2.1.0,>=2.0.0 in /Users/fradm98/opt/anaconda3/envs/quask/lib/python3.12/site-packages (from stevedore>=3.0.0->qiskit-terra==0.45.1->qiskit>=0.44.0->qiskit-aer) (6.0.0)\n",
      "Requirement already satisfied: mpmath>=0.19 in /Users/fradm98/opt/anaconda3/envs/quask/lib/python3.12/site-packages (from sympy>=1.3->qiskit-terra==0.45.1->qiskit>=0.44.0->qiskit-aer) (1.3.0)\n",
      "Building wheels for collected packages: qiskit-aer\n",
      "  Building wheel for qiskit-aer (pyproject.toml) ... \u001b[?25ldone\n",
      "\u001b[?25h  Created wheel for qiskit-aer: filename=qiskit_aer-0.13.1-cp312-cp312-macosx_14_0_x86_64.whl size=2429577 sha256=2527d55a3f8973df15934c3003f655cafcec31a1b05836f2daa8438a7d3687f5\n",
      "  Stored in directory: /Users/fradm98/Library/Caches/pip/wheels/de/c7/84/9063b067561514950e30dfb70cb1259e22c134bf204f1af062\n",
      "Successfully built qiskit-aer\n",
      "Installing collected packages: qiskit-aer\n",
      "Successfully installed qiskit-aer-0.13.1\n"
     ]
    }
   ],
   "source": [
    "!python3 -m pip install qiskit qiskit_ibm_runtime\n",
    "!python3 -m pip install qiskit_ibm_runtime --upgrade\n",
    "!python3 -m pip install qiskit-aer"
   ]
  },
  {
   "cell_type": "markdown",
   "id": "8ad60ede-fcb9-44ad-859f-15a03b045091",
   "metadata": {},
   "source": [
    "You can check if the installation has been successful by running the command:"
   ]
  },
  {
   "cell_type": "code",
   "execution_count": 5,
   "id": "ab3dc1db-c3ec-41d3-be46-7d9ccafe4b6f",
   "metadata": {},
   "outputs": [
    {
     "ename": "AttributeError",
     "evalue": "module 'quask' has no attribute '__version__'",
     "output_type": "error",
     "traceback": [
      "\u001b[0;31m---------------------------------------------------------------------------\u001b[0m",
      "\u001b[0;31mAttributeError\u001b[0m                            Traceback (most recent call last)",
      "Cell \u001b[0;32mIn[5], line 2\u001b[0m\n\u001b[1;32m      1\u001b[0m \u001b[38;5;28;01mimport\u001b[39;00m \u001b[38;5;21;01mquask\u001b[39;00m\n\u001b[0;32m----> 2\u001b[0m \u001b[38;5;28mprint\u001b[39m(\u001b[43mquask\u001b[49m\u001b[38;5;241;43m.\u001b[39;49m\u001b[43m__version__\u001b[49m)\n",
      "\u001b[0;31mAttributeError\u001b[0m: module 'quask' has no attribute '__version__'"
     ]
    }
   ],
   "source": [
    "import quask\n",
    "print(quask.__version__)"
   ]
  },
  {
   "cell_type": "markdown",
   "id": "5cc35daa-bdd8-47c4-bf87-6921acdbe66b",
   "metadata": {},
   "source": [
    "In this way, _quask_ has been started as a standalone application, meaning it can be used via the command line without the need for coding. This modality is explored in depth later."
   ]
  },
  {
   "cell_type": "markdown",
   "id": "f402ee7a-93a5-4a5e-b6fe-4d5e911f9a62",
   "metadata": {},
   "source": [
    "## Hello world, quantum kernels!\n"
   ]
  },
  {
   "cell_type": "code",
   "execution_count": 6,
   "id": "8558acef-bd9e-465a-a042-43f951474b9f",
   "metadata": {},
   "outputs": [],
   "source": [
    "from quask.core import Ansatz, Kernel, KernelFactory, KernelType\n",
    "import numpy as np"
   ]
  },
  {
   "cell_type": "markdown",
   "id": "7d524a70-c7d2-4c27-b218-b1a5e5206761",
   "metadata": {},
   "source": [
    "Here, we can see the main objects of _quask_. The class `Ansatz` represents the function that maps classical data to the Hilbert space of the quantum system using a parametric quantum circuit. This class is parameterized by the number of qubits in the underlying quantum circuit, which often corresponds to the number of features (although it's not a strict rule), the number of gates applied to the quantum circuit, and the number of features that the classical data point has.\n",
    "\n",
    "The class `Kernel` represents a kernel object, which is essentially an ansatz along with additional information on how to effectively implement the quantum circuit for the entire procedure. The kernel object must be executed using one of the available backends (Qiskit, Pennylane, Qibo, etc.). To achieve this, the kernel class has been designed as an abstract object, meaning it cannot be used directly. Instead, we can use one of its subclasses, with each subclass interfacing with a particular backend. We can instantiate the concrete (non-abstract) kernel objects using the `KernelFactory` class.\n",
    "\n",
    "Since there are several ways to design a quantum kernel using a single ansatz, the `KernelType` class is an enumeration whose values indicate the kind of kernel to be implemented."
   ]
  },
  {
   "cell_type": "code",
   "execution_count": 7,
   "id": "1e8e3d9d-9b2d-47ff-b794-e8b93b6de691",
   "metadata": {},
   "outputs": [],
   "source": [
    "# Number of features in the data point to be mapped in the Hilbert space of the quantum system\n",
    "N_FEATURES = 1\n",
    "\n",
    "# Number of gates applied to the quantum circuit\n",
    "N_OPERATIONS = 1\n",
    "\n",
    "# Number of qubits of the quantum circuit\n",
    "N_QUBITS = 2\n",
    "\n",
    "# Ansatz object, representing the feature map\n",
    "ansatz = Ansatz(n_features=N_FEATURES, n_qubits=N_QUBITS, n_operations=N_OPERATIONS)"
   ]
  },
  {
   "cell_type": "markdown",
   "id": "084113fe-1a32-47b9-a8f5-dccdace1a3ea",
   "metadata": {},
   "source": [
    "The ansatz class is not immediately usable when instantiated. It needs to be initialized so that all its operations correspond to valid gates, in this case, corresponding to the identity."
   ]
  },
  {
   "cell_type": "code",
   "execution_count": 8,
   "id": "b8ff120f-fad9-4f25-9789-ca1cc5f5dc0d",
   "metadata": {},
   "outputs": [],
   "source": [
    "ansatz.initialize_to_identity()"
   ]
  },
  {
   "cell_type": "markdown",
   "id": "18050fd3-2594-4a77-bdc9-9e6028ead0ba",
   "metadata": {},
   "source": [
    "Each operation acts on two qubits and is defined as\n",
    "$$U(\\beta \\theta) = \\exp(-i \\beta \\frac{\\theta}{2} \\sigma_1 \\sigma_2),$$\n",
    "where the generators $\\sigma_1$ and $\\sigma_2$ correspond to the Pauli matrices $X, Y, Z$, and $\\mathrm{Id}$. When one of these generators is the identity, the gate effectively applies nontrivially to a single qubit.\n",
    "\n",
    "All the gates are parameterized by a single real-valued parameter, $\\theta$, which can optionally be rescaled by a global scaling parameter $0 < \\beta < 1$. We can characterize each parametric gate by the following:\n",
    "\n",
    "* The feature that parameterizes the rotation, with $0 \\le f \\le N\\_FEATURES - 1$, or the constant feature $1$. The constant features allow us to construct non-parameterized gates.\n",
    "* A pair of generators, represented by a 2-character string.\n",
    "* The qubits on which the operation acts, denoted as $(q_1, q_2)$, where $0 \\le q_i < N\\_QUBITS$, and $q_1 \\neq q_2$. For 'single-qubit gates' with the identity as one or both generators, the qubit on which the identity is applied has a negligible effect on the transformation.\n",
    "* The scaling parameter $\\beta$."
   ]
  },
  {
   "cell_type": "code",
   "execution_count": 9,
   "id": "bf968d0d-eb19-4397-b868-1ae541c83dbc",
   "metadata": {},
   "outputs": [],
   "source": [
    "ansatz.change_operation(0, new_feature=0, new_wires=[0, 1], new_generator=\"XX\", new_bandwidth=0.9)"
   ]
  },
  {
   "cell_type": "markdown",
   "id": "93175ce7-e709-4630-a8c1-4c23f6f7f4ee",
   "metadata": {},
   "source": [
    "The ansatz serves as the feature map for our quantum kernel. To calculate kernel values, however, we have the opportunity to specify the method of calculation. This can be done using the fidelity test or by computing the expectation value of some observable. Additionally, we need to specify the backend to be used.\n",
    "\n",
    "Currently, we support Qiskit, Pennylane, and Braket. More detailed information is available at the [Backends in quask](tutorials_quask/quask_0_backends.html) tutorial. Here, we suppose to use Qiskit as a backend, which has to be installed separately. To create the commonly used fidelity kernel, we provide the ansatz, the basis on which we will perform the measurement (typically the computational basis), and the type of kernel."
   ]
  },
  {
   "cell_type": "code",
   "execution_count": 51,
   "id": "07a93cfe-43a8-42fa-9fc8-ab1088a420e9",
   "metadata": {},
   "outputs": [],
   "source": [
    "from quask.core_implementation import QiskitKernel\n",
    "kernel = QiskitKernel(ansatz, \"Z\" * N_QUBITS, KernelType.FIDELITY)"
   ]
  },
  {
   "cell_type": "markdown",
   "id": "0ba55553-6ef2-4508-bd39-529008816550",
   "metadata": {},
   "source": [
    "To test if the kernel object function correctly we can call the kernel function on a pair of data point."
   ]
  },
  {
   "cell_type": "code",
   "execution_count": 62,
   "id": "814ee677-5dd0-400f-b9d0-3e6eaae1d357",
   "metadata": {},
   "outputs": [
    {
     "name": "stdout",
     "output_type": "stream",
     "text": [
      "The kernel value between x1 and x2 is 0.39697265625\n"
     ]
    }
   ],
   "source": [
    "x1 = np.array([0.001])\n",
    "x2 = np.array([0.999])\n",
    "similarity = kernel.kappa(x1, x2)\n",
    "print(\"The kernel value between x1 and x2 is\", similarity)"
   ]
  },
  {
   "cell_type": "markdown",
   "id": "bc790ee8",
   "metadata": {},
   "source": [
    "If you execute the above cell repeatedly you can see that the similarity value changes. This is due to the fact that the `QiskitKernel` class was instanciated with a default value of number of shots equals to $2048$."
   ]
  },
  {
   "cell_type": "markdown",
   "id": "f7f41599-ae05-48e6-8045-6dd5da419d48",
   "metadata": {},
   "source": [
    "We can decouple the actual backend used from the high-level APIs. The decoupling is managed by the `KernelFactory` class.  to the `create_kernel` method. By default, `KernelFactory` creates objects that rely on the noiseless, infinite-shot simulation of Pennylane as a backend. To use the `KernelFactory` class, you first have to set up which backend are you using. "
   ]
  },
  {
   "cell_type": "code",
   "execution_count": 65,
   "id": "d177df5e-8218-47cc-94b8-2184181b06bd",
   "metadata": {},
   "outputs": [],
   "source": [
    "def create_qiskit_noiseless(ansatz: Ansatz, measurement: str, type: KernelType):\n",
    "    return QiskitKernel(ansatz, measurement, type, n_shots=None)\n",
    "\n",
    "# if you have already added the implementation comment the line below and set the current implementation\n",
    "KernelFactory.add_implementation('qiskit_noiseless', create_qiskit_noiseless)\n",
    "KernelFactory.set_current_implementation('qiskit_noiseless')\n",
    "kernel = KernelFactory.create_kernel(ansatz, \"Z\" * N_QUBITS, KernelType.FIDELITY) # QiskitKernel"
   ]
  },
  {
   "cell_type": "markdown",
   "id": "7a7d5049",
   "metadata": {},
   "source": [
    "If we now repeat the above test with arbitrary features we can see a constant value of the similarity since we are using a kernel with an infinite number of shots. "
   ]
  },
  {
   "cell_type": "code",
   "execution_count": 76,
   "id": "c82fabc9",
   "metadata": {},
   "outputs": [
    {
     "name": "stdout",
     "output_type": "stream",
     "text": [
      "The kernel value between x1 and x2 is 0.3881526107367118\n"
     ]
    }
   ],
   "source": [
    "x1 = np.array([0.001])\n",
    "x2 = np.array([0.999])\n",
    "similarity = kernel.kappa(x1, x2)\n",
    "print(\"The kernel value between x1 and x2 is\", similarity)"
   ]
  },
  {
   "cell_type": "markdown",
   "id": "d26baa0c-56f6-46b0-9e24-585abc5f1dfe",
   "metadata": {},
   "source": [
    "## Solve the iris dataset classification using _quask_"
   ]
  },
  {
   "cell_type": "markdown",
   "id": "8955d04c-497a-4771-afcf-5b8a4c66fa7c",
   "metadata": {},
   "source": [
    "We demonstrate how to integrate _quask_ into a machine learning pipeline based on the library [scikit-learn](https://scikit-learn.org/stable). This package allows us to effortlessly set up a toy classification problem that can be solved using kernel machines with quantum kernels.\n"
   ]
  },
  {
   "cell_type": "code",
   "execution_count": 77,
   "id": "0eda078b-a07a-463a-99c7-fdb1a888ac78",
   "metadata": {},
   "outputs": [],
   "source": [
    "from sklearn.datasets import load_iris\n",
    "from sklearn.svm import SVC\n",
    "from sklearn.metrics import mean_squared_error, r2_score\n",
    "from sklearn.model_selection import train_test_split\n",
    "from sklearn.preprocessing import StandardScaler\n",
    "import numpy as np"
   ]
  },
  {
   "cell_type": "markdown",
   "id": "9e528fa6-0568-4d04-8b2c-290826ac1a26",
   "metadata": {},
   "source": [
    "First, we load the dataset. It can be retrieved directly from the Python package of scikit-learn.\n",
    "\n",
    "It contains 150 samples associated with the three different subspecies of the Iris flower, with 50 samples for each subspecies. To simplify the task, we classify only the first two classes and select 10 samples for each class.\n",
    "\n",
    "Each sample has 4 real features.\n"
   ]
  },
  {
   "cell_type": "code",
   "execution_count": 134,
   "id": "04903893-8c56-495b-b7e3-c866e2221533",
   "metadata": {},
   "outputs": [],
   "source": [
    "N_ELEMENTS_PER_CLASS = 10\n",
    "iris = load_iris()\n",
    "X = np.row_stack([iris.data[0:N_ELEMENTS_PER_CLASS], iris.data[50:50+N_ELEMENTS_PER_CLASS]])\n",
    "y = np.array([0] * N_ELEMENTS_PER_CLASS + [1] * N_ELEMENTS_PER_CLASS)"
   ]
  },
  {
   "cell_type": "markdown",
   "id": "87ed0d0b-9d5e-4f02-8ad8-c500951b68e9",
   "metadata": {},
   "source": [
    "We preprocess our data and divide the dataset in training and testing set."
   ]
  },
  {
   "cell_type": "code",
   "execution_count": 135,
   "id": "c8860146-d5d5-4b2d-90e0-d5f77e342578",
   "metadata": {},
   "outputs": [],
   "source": [
    "# Standardize the features\n",
    "scaler = StandardScaler()\n",
    "X = scaler.fit_transform(X)\n",
    "\n",
    "# Split the data into training and testing sets\n",
    "X_train, X_test, y_train, y_test = train_test_split(X, y, test_size=0.5, random_state=5454)"
   ]
  },
  {
   "cell_type": "markdown",
   "id": "cbc4df54-4e2c-4765-959b-af7409f17cb2",
   "metadata": {},
   "source": [
    "We then define the machine learning model to solve the classification task. Among the possibilities, we choose the Support Vector Machine. In order to use the quantum kernel, we specify we will give the kernel machine the kernel Gram matrix instead of the original features, by using the precomputed option. "
   ]
  },
  {
   "cell_type": "code",
   "execution_count": 136,
   "id": "8269657d-cc87-457e-bcd3-8c799be57dcd",
   "metadata": {},
   "outputs": [],
   "source": [
    "# Instantiate a machine learning model\n",
    "model = SVC(kernel='precomputed')"
   ]
  },
  {
   "cell_type": "markdown",
   "id": "c5c250f5-5054-41c0-8836-61db77306db2",
   "metadata": {},
   "source": [
    "We then calculate the kernel Gram matrices and train the model. "
   ]
  },
  {
   "cell_type": "code",
   "execution_count": 137,
   "id": "a739941b-20fb-402b-936f-44e7b8758e2f",
   "metadata": {},
   "outputs": [
    {
     "data": {
      "text/html": [
       "<style>#sk-container-id-5 {color: black;}#sk-container-id-5 pre{padding: 0;}#sk-container-id-5 div.sk-toggleable {background-color: white;}#sk-container-id-5 label.sk-toggleable__label {cursor: pointer;display: block;width: 100%;margin-bottom: 0;padding: 0.3em;box-sizing: border-box;text-align: center;}#sk-container-id-5 label.sk-toggleable__label-arrow:before {content: \"▸\";float: left;margin-right: 0.25em;color: #696969;}#sk-container-id-5 label.sk-toggleable__label-arrow:hover:before {color: black;}#sk-container-id-5 div.sk-estimator:hover label.sk-toggleable__label-arrow:before {color: black;}#sk-container-id-5 div.sk-toggleable__content {max-height: 0;max-width: 0;overflow: hidden;text-align: left;background-color: #f0f8ff;}#sk-container-id-5 div.sk-toggleable__content pre {margin: 0.2em;color: black;border-radius: 0.25em;background-color: #f0f8ff;}#sk-container-id-5 input.sk-toggleable__control:checked~div.sk-toggleable__content {max-height: 200px;max-width: 100%;overflow: auto;}#sk-container-id-5 input.sk-toggleable__control:checked~label.sk-toggleable__label-arrow:before {content: \"▾\";}#sk-container-id-5 div.sk-estimator input.sk-toggleable__control:checked~label.sk-toggleable__label {background-color: #d4ebff;}#sk-container-id-5 div.sk-label input.sk-toggleable__control:checked~label.sk-toggleable__label {background-color: #d4ebff;}#sk-container-id-5 input.sk-hidden--visually {border: 0;clip: rect(1px 1px 1px 1px);clip: rect(1px, 1px, 1px, 1px);height: 1px;margin: -1px;overflow: hidden;padding: 0;position: absolute;width: 1px;}#sk-container-id-5 div.sk-estimator {font-family: monospace;background-color: #f0f8ff;border: 1px dotted black;border-radius: 0.25em;box-sizing: border-box;margin-bottom: 0.5em;}#sk-container-id-5 div.sk-estimator:hover {background-color: #d4ebff;}#sk-container-id-5 div.sk-parallel-item::after {content: \"\";width: 100%;border-bottom: 1px solid gray;flex-grow: 1;}#sk-container-id-5 div.sk-label:hover label.sk-toggleable__label {background-color: #d4ebff;}#sk-container-id-5 div.sk-serial::before {content: \"\";position: absolute;border-left: 1px solid gray;box-sizing: border-box;top: 0;bottom: 0;left: 50%;z-index: 0;}#sk-container-id-5 div.sk-serial {display: flex;flex-direction: column;align-items: center;background-color: white;padding-right: 0.2em;padding-left: 0.2em;position: relative;}#sk-container-id-5 div.sk-item {position: relative;z-index: 1;}#sk-container-id-5 div.sk-parallel {display: flex;align-items: stretch;justify-content: center;background-color: white;position: relative;}#sk-container-id-5 div.sk-item::before, #sk-container-id-5 div.sk-parallel-item::before {content: \"\";position: absolute;border-left: 1px solid gray;box-sizing: border-box;top: 0;bottom: 0;left: 50%;z-index: -1;}#sk-container-id-5 div.sk-parallel-item {display: flex;flex-direction: column;z-index: 1;position: relative;background-color: white;}#sk-container-id-5 div.sk-parallel-item:first-child::after {align-self: flex-end;width: 50%;}#sk-container-id-5 div.sk-parallel-item:last-child::after {align-self: flex-start;width: 50%;}#sk-container-id-5 div.sk-parallel-item:only-child::after {width: 0;}#sk-container-id-5 div.sk-dashed-wrapped {border: 1px dashed gray;margin: 0 0.4em 0.5em 0.4em;box-sizing: border-box;padding-bottom: 0.4em;background-color: white;}#sk-container-id-5 div.sk-label label {font-family: monospace;font-weight: bold;display: inline-block;line-height: 1.2em;}#sk-container-id-5 div.sk-label-container {text-align: center;}#sk-container-id-5 div.sk-container {/* jupyter's `normalize.less` sets `[hidden] { display: none; }` but bootstrap.min.css set `[hidden] { display: none !important; }` so we also need the `!important` here to be able to override the default hidden behavior on the sphinx rendered scikit-learn.org. See: https://github.com/scikit-learn/scikit-learn/issues/21755 */display: inline-block !important;position: relative;}#sk-container-id-5 div.sk-text-repr-fallback {display: none;}</style><div id=\"sk-container-id-5\" class=\"sk-top-container\"><div class=\"sk-text-repr-fallback\"><pre>SVC(kernel=&#x27;precomputed&#x27;)</pre><b>In a Jupyter environment, please rerun this cell to show the HTML representation or trust the notebook. <br />On GitHub, the HTML representation is unable to render, please try loading this page with nbviewer.org.</b></div><div class=\"sk-container\" hidden><div class=\"sk-item\"><div class=\"sk-estimator sk-toggleable\"><input class=\"sk-toggleable__control sk-hidden--visually\" id=\"sk-estimator-id-5\" type=\"checkbox\" checked><label for=\"sk-estimator-id-5\" class=\"sk-toggleable__label sk-toggleable__label-arrow\">SVC</label><div class=\"sk-toggleable__content\"><pre>SVC(kernel=&#x27;precomputed&#x27;)</pre></div></div></div></div></div>"
      ],
      "text/plain": [
       "SVC(kernel='precomputed')"
      ]
     },
     "execution_count": 137,
     "metadata": {},
     "output_type": "execute_result"
    }
   ],
   "source": [
    "# Create a quantum kernel\n",
    "ansatz = Ansatz(n_features=4, n_qubits=4, n_operations=4)\n",
    "ansatz.initialize_to_identity()\n",
    "# create a circular entanglement circuit\n",
    "ansatz.change_operation(0, new_feature=0, new_wires=[0, 1], new_generator=\"XX\", new_bandwidth=0.9)\n",
    "ansatz.change_operation(1, new_feature=1, new_wires=[1, 2], new_generator=\"XX\", new_bandwidth=0.9)\n",
    "ansatz.change_operation(2, new_feature=2, new_wires=[2, 3], new_generator=\"XX\", new_bandwidth=0.9)\n",
    "ansatz.change_operation(3, new_feature=3, new_wires=[3, 0], new_generator=\"XX\", new_bandwidth=0.9)\n",
    "# remember we set the kernel with the 'qiskit_noiseless' implementation\n",
    "kernel = KernelFactory.create_kernel(ansatz, \"ZZZZ\", KernelType.FIDELITY)\n",
    "\n",
    "# Fit the model to the training data\n",
    "K_train = kernel.build_kernel(X_train, X_train)\n",
    "model.fit(K_train, y_train)"
   ]
  },
  {
   "cell_type": "markdown",
   "id": "d166a82e-be7b-49b7-90ed-a992bcfda082",
   "metadata": {},
   "source": [
    "We then use the model to predict the label of elements in the testing set. Again, we need to create the kernel Gram matrix of the elements in the testing set. "
   ]
  },
  {
   "cell_type": "code",
   "execution_count": 138,
   "id": "8d31ead9-007d-48a6-869f-757e5149ca85",
   "metadata": {},
   "outputs": [],
   "source": [
    "# Predict the labels for the test data\n",
    "K_test = kernel.build_kernel(X_test, X_train)\n",
    "y_pred = model.predict(K_test)"
   ]
  },
  {
   "cell_type": "markdown",
   "id": "522071c2-5755-489b-bdf4-7418ac1b2af2",
   "metadata": {},
   "source": [
    "Finally, we can calculate the accuracy with respect to the testing set."
   ]
  },
  {
   "cell_type": "code",
   "execution_count": 139,
   "id": "6b8ff0e5-d8ca-4a9e-b724-64df7e17f6be",
   "metadata": {},
   "outputs": [
    {
     "name": "stdout",
     "output_type": "stream",
     "text": [
      "Accuracy: 0.7\n"
     ]
    }
   ],
   "source": [
    "# Calculate the accuracy\n",
    "accuracy = np.sum(y_test == y_pred) / len(y_test)\n",
    "print(\"Accuracy:\", accuracy)"
   ]
  },
  {
   "cell_type": "markdown",
   "id": "e79c8191-1a01-4bc7-b82c-83a357494ba2",
   "metadata": {},
   "source": [
    "Among the features of _quask_ is the ability to evaluate the kernel according to criteria known in the literature. We demonstrate one possible method for evaluating our quantum kernel with respect to the Centered Kernel Target Alignment. The lower the cost, the better the kernel is suited for the task.\n"
   ]
  },
  {
   "cell_type": "code",
   "execution_count": 140,
   "id": "4995cefe-2b79-405a-8371-e82f9bcfcad7",
   "metadata": {},
   "outputs": [
    {
     "name": "stdout",
     "output_type": "stream",
     "text": [
      "The cost according to the Centered-KTA is: -0.12288156059347581\n",
      "The cost according to the Centered-KTA is: -0.07224213757570128\n"
     ]
    }
   ],
   "source": [
    "from quask.evaluator import CenteredKernelAlignmentEvaluator\n",
    "ce = CenteredKernelAlignmentEvaluator()\n",
    "cost_tr = ce.evaluate(None, K_train, X_train, y_train)\n",
    "cost_te = ce.evaluate(None, K_test, X_test, y_test)\n",
    "print(\"The cost according to the Centered-KTA is:\", cost_tr)\n",
    "print(\"The cost according to the Centered-KTA is:\", cost_te)"
   ]
  }
 ],
 "metadata": {
  "kernelspec": {
   "display_name": "Python 3 (ipykernel)",
   "language": "python",
   "name": "python3"
  },
  "language_info": {
   "codemirror_mode": {
    "name": "ipython",
    "version": 3
   },
   "file_extension": ".py",
   "mimetype": "text/x-python",
   "name": "python",
   "nbconvert_exporter": "python",
   "pygments_lexer": "ipython3",
   "version": "3.12.0"
  }
 },
 "nbformat": 4,
 "nbformat_minor": 5
}
