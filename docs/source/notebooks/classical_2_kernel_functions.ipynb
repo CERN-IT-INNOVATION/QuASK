{
 "cells": [
  {
   "cell_type": "markdown",
   "id": "35ab8876-f9b6-42af-ac7f-70fca2336dba",
   "metadata": {},
   "source": [
    "# Kernel methods"
   ]
  },
  {
   "cell_type": "code",
   "execution_count": null,
   "id": "d28d2df4-ad0d-4bd9-bca4-46ae826a76ac",
   "metadata": {},
   "outputs": [],
   "source": []
  }
 ],
 "metadata": {
  "kernelspec": {
   "display_name": "Python 3 (ipykernel)",
   "language": "python",
   "name": "python3"
  },
  "language_info": {
   "codemirror_mode": {
    "name": "ipython",
    "version": 3
   },
   "file_extension": ".py",
   "mimetype": "text/x-python",
   "name": "python",
   "nbconvert_exporter": "python",
   "pygments_lexer": "ipython3",
   "version": "3.10.12"
  }
 },
 "nbformat": 4,
 "nbformat_minor": 5
}
