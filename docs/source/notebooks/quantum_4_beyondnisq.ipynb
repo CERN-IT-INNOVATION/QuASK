{
 "cells": [
  {
   "cell_type": "markdown",
   "id": "ed5d3e8a-29e7-4c92-bfcc-5a022bed9bb5",
   "metadata": {},
   "source": [
    "# Quantum kernels beyond NISQ"
   ]
  },
  {
   "cell_type": "code",
   "execution_count": null,
   "id": "8451a531-df1e-43f3-aec4-521a9afde619",
   "metadata": {},
   "outputs": [],
   "source": []
  }
 ],
 "metadata": {
  "kernelspec": {
   "display_name": "Python 3 (ipykernel)",
   "language": "python",
   "name": "python3"
  },
  "language_info": {
   "codemirror_mode": {
    "name": "ipython",
    "version": 3
   },
   "file_extension": ".py",
   "mimetype": "text/x-python",
   "name": "python",
   "nbconvert_exporter": "python",
   "pygments_lexer": "ipython3",
   "version": "3.10.12"
  }
 },
 "nbformat": 4,
 "nbformat_minor": 5
}
