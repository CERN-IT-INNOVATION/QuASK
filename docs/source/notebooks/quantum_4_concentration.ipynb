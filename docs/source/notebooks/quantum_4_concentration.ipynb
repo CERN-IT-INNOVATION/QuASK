{
 "cells": [
  {
   "cell_type": "markdown",
   "id": "0de4d542-0c9f-4ffe-ab93-fdb9e0d6e8fa",
   "metadata": {},
   "source": [
    "# Exponential concentration of kernel values"
   ]
  },
  {
   "cell_type": "code",
   "execution_count": null,
   "id": "bac3aeec-8536-4e20-9cb8-22235ae11289",
   "metadata": {},
   "outputs": [],
   "source": []
  }
 ],
 "metadata": {
  "kernelspec": {
   "display_name": "Python 3 (ipykernel)",
   "language": "python",
   "name": "python3"
  },
  "language_info": {
   "codemirror_mode": {
    "name": "ipython",
    "version": 3
   },
   "file_extension": ".py",
   "mimetype": "text/x-python",
   "name": "python",
   "nbconvert_exporter": "python",
   "pygments_lexer": "ipython3",
   "version": "3.10.12"
  }
 },
 "nbformat": 4,
 "nbformat_minor": 5
}
