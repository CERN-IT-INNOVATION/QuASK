{
 "cells": [
  {
   "cell_type": "markdown",
   "id": "dedc06c6-36d6-41c5-a196-ca9a30a99491",
   "metadata": {},
   "source": [
    "# Expressibility in quantum kernels "
   ]
  },
  {
   "cell_type": "code",
   "execution_count": 27,
   "id": "ab05cb1d-619d-4b67-877e-b07ae538aeb1",
   "metadata": {},
   "outputs": [],
   "source": [
    "import sys\n",
    "import os\n",
    "# to import quask, move from docs/source/notebooks to src\n",
    "# sys.path.append('../../../src')"
   ]
  },
  {
   "cell_type": "markdown",
   "id": "0467a8f8-2c64-484b-8d82-a72be720b92e",
   "metadata": {},
   "source": [
    "In this tutorial, we start to charatetize the properties of a quantum kernel. The *expressibility* is definitively the most important. _quask_ has some built in facilities to evaluate a quantum kernel from this perspective. "
   ]
  },
  {
   "cell_type": "markdown",
   "id": "b2bc8dfb-9208-4d18-bca5-18e13f92b4d9",
   "metadata": {},
   "source": [
    "## Expressibility of a parameterized quantum circuit\n",
    "\n",
    "The concept of _expressibility_ for $U(\\mathbf{x})$ can be understood as its capacity to distribute classical data throughout the Hilbert space of the quantum system. To formally quantify this expressibility, we rely on the norm of the super-operator $A$, given by $||A||=\\mathrm{Trace}[AA^\\dagger]$. This can be defined as:\n",
    "\n",
    "$$\n",
    "A = \\int_\\text{Haar} (\\ketbra{\\phi}{\\phi})^{\\otimes t} d\\phi - \\int_\\Theta (U(\\mathbf{\\theta}) \\ketbra{0}{0} U^\\dagger (\\mathbf{\\theta}))^{\\otimes t} d\\mathbf{\\theta},\n",
    "$$\n",
    "\n",
    "where $t$ is an integer with $t \\ge 2$ \\[sim19\\].\n",
    "\n",
    "The super-operator $A$ quantifies the extent to which the ensemble of states, obtained by initiating the system in $\\ket{0}$ and evolving it with $U(\\theta)$ (where $\\theta$ is randomly chosen), deviates from the Haar-random ensemble of states. The Haar-random ensemble represents a uniform distribution of quantum states throughout the Hilbert space. When this deviation is small, we consider the unitary $U$ to be expressible.\n",
    "\n",
    "As comparing a distribution to the true Haar-random distribution of states can be challenging, the concept of $\\varepsilon$-approximate state $t$-design is employed. This ensemble of states closely approximates the Haar random ensemble of states up to the $t$-th statistical moment, hence the parameter $t$. For $t = 1$, only the first statistical moment (the average) is considered, which is generally less informative. For $t=2$, both the average and standard deviation are taken into account, making it a suitable choice for most use cases. The higher the value of $t$, the more precise the quantification of the deviation, but the more computationally expensive the calculation becomes.\n",
    "\n",
    "Understanding the expressibility of the parameterized quantum circuit $U$ provides insights into the potential performance of the kernel that utilizes $U$. Further details on these aspects are covered in the tutorial [Spectral Bias](xxx).\n"
   ]
  },
  {
   "cell_type": "markdown",
   "id": "babb0aeb-5543-4fc4-9c09-383d722bd405",
   "metadata": {},
   "source": [
    "### The `KernelEvaluator` object\n",
    "\n",
    "In _quask_, you can assess a kernel object based on specific criteria using the `KernelEvaluator`. Each sub-class of KernelEvaluator contains a single method, `evaluate`, which provides a cost associated with the given object. The kernel's quality with respect to a particular criterion is indicated by a lower cost. Additionally, the cost may be influenced by a set of data, as is the case with accuracy.\n",
    "\n",
    "### The `HaarEvaluator` object\n",
    "\n",
    "The `HaarEvaluator` class inherits `KernelEvaluator` and is used to calculate $||A||$. It can be used as follows, "
   ]
  },
  {
   "cell_type": "code",
   "execution_count": 56,
   "id": "78122793-3f0d-4eea-b589-b71ee711f45b",
   "metadata": {},
   "outputs": [
    {
     "name": "stdout",
     "output_type": "stream",
     "text": [
      "Cost (norm of A): 0.16714\n"
     ]
    }
   ],
   "source": [
    "from quask.core import Ansatz, Kernel, KernelFactory, KernelType\n",
    "from quask.evaluator import HaarEvaluator\n",
    "\n",
    "N_FEATURES = 2\n",
    "N_OPERATIONS = 3\n",
    "N_QUBITS = 2\n",
    "ansatz = Ansatz(n_features=N_FEATURES, n_qubits=N_QUBITS, n_operations=N_OPERATIONS)\n",
    "ansatz.initialize_to_identity()\n",
    "ansatz.change_operation(0, new_feature=0, new_wires=[0, 1], new_generator=\"ZZ\", new_bandwidth=1.0)\n",
    "ansatz.change_operation(1, new_feature=1, new_wires=[0, 1], new_generator=\"XX\", new_bandwidth=1.0)\n",
    "ansatz.change_operation(2, new_feature=2, new_wires=[0, 1], new_generator=\"IX\", new_bandwidth=0.123)\n",
    "kernel = KernelFactory.create_kernel(ansatz, \"Z\" * N_QUBITS, KernelType.FIDELITY)\n",
    "\n",
    "he = HaarEvaluator(n_bins=40, n_samples=10000)\n",
    "cost = he.evaluate(kernel=kernel, K=None, X=None, y=None)\n",
    "print(f\"Cost (norm of A): {cost:3.5f}\")"
   ]
  },
  {
   "cell_type": "markdown",
   "id": "326cca23-d797-4dd6-9c20-c5886a6b66ab",
   "metadata": {},
   "source": [
    "Usually, the kernel evaluator needs only the `kernel` argument. If the criteria depend on the data, `X` and `y` parameters must be provided, which correspond to the dataset features and dataset labels, respectively. If the kernel Gram matrix must be calculated, it will be done using `kernel` and `X`; however, if it has been pre-calculated previously, then it should be passed to the `K` parameter to avoid losing time to re-calculate it.\r\n"
   ]
  },
  {
   "cell_type": "markdown",
   "id": "eef83983-cd14-4c2a-9c8a-5e1bc82a0e11",
   "metadata": {},
   "source": [
    "## Dynamical Lie algebra of a parameterized quantum circuit\n",
    "\n",
    "The parameterized unitary transformation $U(\\cdot)$, which operates on $n$ qubits, can be expressed as a sum of Pauli generators:\n",
    "\n",
    "$$U(\\mathbf{x}) = \\exp\\left(-i \\sum_{j = 0}^{4^n-1} f_j(\\mathbf{x}) \\sigma_j \\right)$$\n",
    "\n",
    "Here, $f_j(\\mathbf{x})$ belongs to $\\mathbb{R}$, and $\\sigma_j$ represents the tensor product of $n$ Pauli matrices. For instance:\n",
    "\n",
    "- $\\sigma_0 = \\mathrm{Id} \\otimes \\mathrm{Id} \\otimes ... \\otimes \\mathrm{Id}$,\n",
    "- $\\sigma_1 = \\mathrm{Id} \\otimes \\mathrm{Id} \\otimes ... \\otimes X$,\n",
    "- $\\sigma_{4^n-1} = Z \\otimes Z \\otimes ... \\otimes Z$.\n",
    "\n",
    "Each unitary transformation can depend on all $4^n$ generators or only on a subset of them. In the context of a quantum circuit, $U$ is represented by the product of elementary one-qubit and two-qubit gates. To determine the generator of this transformation, we employ the tools of the Dynamical Lie Algebra, a vector space with a bilinear operation denoted as the commutator ($[\\sigma, \\eta] = \\sigma\\eta - \\eta\\sigma$). This vector space is spanned by the generators of $U$, which include the generators of both single one- and two-qubit gates and the generators derived through repeated application of the commutator until a fixed point is reached.\n",
    "\n",
    "The number of generators is the rank of the Dynamical Lie Algebra. "
   ]
  },
  {
   "cell_type": "markdown",
   "id": "73803dd2-e41f-4094-abe6-360955214dc8",
   "metadata": {},
   "source": [
    "### The `LieRankEvaluator`\n",
    "\n",
    "The rank of the Dynamical Lie Algebra can be determined using the `LieRankEvaluator`. This class inherits from `KernelEvaluator` and is employed in a manner similar to the previous examples. It's important to note that from a computational perspective, exact calculation is feasible only for small values of $n$ or specific cases. In the worst-case scenario, calculating an exponential number of commutations is required to cover all the $4^n$ potential Pauli strings. To address this, the search can be truncated once a predefined threshold $T$ is reached."
   ]
  },
  {
   "cell_type": "code",
   "execution_count": 60,
   "id": "5865ed98-39ed-4b18-8c0c-d6e4bde0b928",
   "metadata": {},
   "outputs": [
    {
     "name": "stdout",
     "output_type": "stream",
     "text": [
      "Cost (-1 * rank of DLA): -8.00000\n"
     ]
    }
   ],
   "source": [
    "from quask.evaluator import LieRankEvaluator\n",
    "lre = LieRankEvaluator(T=500)\n",
    "cost = lre.evaluate(kernel=kernel, K=None, X=None, y=None)\n",
    "print(f\"Cost (-1 * rank of DLA): {cost:3.5f}\")"
   ]
  },
  {
   "cell_type": "markdown",
   "id": "cae7f7d1-2d3f-49a2-b326-6098a7860aba",
   "metadata": {},
   "source": [
    "### Use of the DLA in quantum kernels\n",
    "\n",
    "The application of the Dynamical Lie Algebra (DLA) in quantum machine learning has significantly contributed to the theoretical development of various tools. It has been demonstrated that the rank of the DLA serves as a proxy for expressibility. Essentially, the more generators a unitary transformation $U$ possesses, the greater the capacity to map quantum states across the Hilbert space of the quantum system \\[lar21\\].\n",
    "\n",
    "However, it's worth noting that this measure lacks some precision. For instance, it doesn't account for the density of the distribution of quantum states, a consideration addressed by the norm of the super-operator $A$. Moreover, when we introduce a bandwidth parameter $\\beta$ to restrict the rotational angles, we effectively limit the region in which states can be mapped. In such cases, we may encounter a unitary transformation that, despite having an exponential number of generators, exhibits only mild expressibility.\n",
    "\n",
    "The rank of the DLA also sheds light on another intriguing aspect. Some relatively simple quantum circuits can be efficiently simulated on classical computers, rendering the use of quantum hardware redundant. This is particularly evident for circuits consisting solely of single-qubit gates. \\[som06\\] has established that unitary transformations with a polynomial number of generators can be efficiently simulated in polynomial time on classical hardware. While the reverse is not universally proven, having a multitude of generators offers favorable evidence that can be used to speculate that the chosen quantum circuit is challenging to simulate classically."
   ]
  },
  {
   "cell_type": "markdown",
   "id": "1b364175-dc84-4856-b8da-d9183ad1e45c",
   "metadata": {},
   "source": [
    "## References \n",
    "\n",
    "\\[sim19\\] Sim, Sukin, Peter D. Johnson, and Alán Aspuru‐Guzik. \"Expressibility and entangling capability of parameterized quantum circuits for hybrid quantum‐classical algorithms.\" Advanced Quantum Technologies 2.12 (2019): 1900070.\n",
    "\n",
    "\\[lar21\\] Larocca, Martin, et al. \"Diagnosing barren plateaus with tools from quantum optimal control.\" Quantum 6 (2022): 824.\n",
    "\n",
    "\\[som06\\] Somma, Rolando, et al. \"Efficient solvability of Hamiltonians and limits on the power of some quantum computational models.\" Physical review letters 97.19 (2006): 190501."
   ]
  },
  {
   "cell_type": "raw",
   "id": "9fb6e435-083c-4ab7-8eac-af55fb0da2b3",
   "metadata": {},
   "source": [
    ".. note::\n",
    "\n",
    "   Author's note."
   ]
  }
 ],
 "metadata": {
  "kernelspec": {
   "display_name": "Python 3 (ipykernel)",
   "language": "python",
   "name": "python3"
  },
  "language_info": {
   "codemirror_mode": {
    "name": "ipython",
    "version": 3
   },
   "file_extension": ".py",
   "mimetype": "text/x-python",
   "name": "python",
   "nbconvert_exporter": "python",
   "pygments_lexer": "ipython3",
   "version": "3.10.12"
  }
 },
 "nbformat": 4,
 "nbformat_minor": 5
}
