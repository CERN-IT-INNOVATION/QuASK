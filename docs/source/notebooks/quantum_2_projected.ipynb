{
 "cells": [
  {
   "cell_type": "markdown",
   "id": "9d15079b-8f4a-4f61-9742-b4c0d5cd27d6",
   "metadata": {},
   "source": [
    "# Projected quantum kernels\n",
    "\n",
    "Use of projector / partial tracesmances. "
   ]
  },
  {
   "cell_type": "markdown",
   "id": "a0bc7a86-9592-4576-ae55-49fa9c68405e",
   "metadata": {},
   "source": [
    "## Expressibility and curse of dimensionality in kernel methods\n",
    "\n",
    "When dealing with kernel methods, whether classical or quantum, we must exercise caution when working in high-dimensional (or even infinite-dimensional) Hilbert spaces. This is due to the fact that in high dimensions, certain unfavorable phenomena can occur, resulting in a kernel machine that, after the training phase, becomes a complex function prone to overfitting. These phenomena are explored in the [upcoming tutorial](xxx).\n",
    "\n",
    "For instance, in the classical context, the Gaussian kernel maps any $\\mathbf{x} \\in \\mathbb{R}^d$ to a multi-dimensional Gaussian distribution with an average of $\\mathbf{x}$ and a covariance matrix of $\\sigma I$. When $\\sigma$ is small, data points are mapped to different regions of this infinite-dimensional Hilbert space, and $\\kappa(\\mathbf{x}, \\mathbf{x}') \\approx 0$ for all $\\mathbf{x} \\neq \\mathbf{x}'$. To avoid this, a larger $\\sigma$ is chosen to ensure that most data points relevant to our task have some nontrivial overlap.\n",
    "\n",
    "As the Hilbert space for quantum systems grows exponentially with the number of qubits $n$, similar challenges can arise when using quantum kernels. This situation occurs with expressible $U(\\cdot)$, which allows access to various regions within the Hilbert space. In such cases, similar to classical kernels, techniques must be employed to control expressibility and, consequently, the model's complexity."
   ]
  },
  {
   "cell_type": "markdown",
   "id": "9d015e55-133a-4f59-aff6-c292aaee05d1",
   "metadata": {},
   "source": [
    "### Projection as expressibility control\n",
    "\n",
    "The authors of \\[Hua21\\], who initially addressed the challenge of the exponential dimensionality of Hilbert space in the context of quantum kernels, have introduced the concept of _projected quantum kernels_ to mitigate this issue.\n",
    "\n",
    "The concept is straightforward: first, the unitary transformation $U$ maps classical data into the Hilbert space of the quantum system. Subsequently, a projection maps these elements back to a lower-dimensional Hilbert space. The overall transformation, thanks to the contribution of $U$, remains beyond the capabilities of classical kernels.\n",
    "\n",
    "For a single data point encoded in the quantum system, denoted as $\\rho_x = U(x) \\rho_0 U(x)$, projected quantum kernels can be implemented in two different ways:\n",
    "- We can implement the feature map $\\phi(x) = \\mathrm{\\tilde{Tr}}[\\rho_x]$, with $\\mathrm{\\tilde{Tr}}$ representing partial trace.\n",
    "- Alternatively, we can implement the feature map $\\phi(x) = \\{ \\mathrm{Tr}[\\rho_x O^{(j)}] \\}_{j=1}^k$, where the observable $O^{(j)}$ is employed for the projections.\n",
    "\n",
    "Finally, the kernel $\\kappa(x, x')$ is explicitly constructed as the inner product between $\\phi(x)$ and $\\phi(x')$.\n"
   ]
  },
  {
   "cell_type": "markdown",
   "id": "39cd1083-1bd1-4651-8113-1020fa96b1e8",
   "metadata": {},
   "source": [
    "### Implementation of projected quantum kernel in _quask_\n",
    "\n",
    "We first create the parameterized quantum circuit $U$ as in the previous tutorials. "
   ]
  },
  {
   "cell_type": "code",
   "execution_count": null,
   "id": "d1d0e2df-e91a-48ed-8410-b83a580c1b56",
   "metadata": {},
   "outputs": [],
   "source": [
    "from quask.core import Ansatz, Kernel, KernelFactory, KernelType\n",
    "\n",
    "N_FEATURES = 2\n",
    "N_OPERATIONS = 3\n",
    "N_QUBITS = 2\n",
    "ansatz = Ansatz(n_features=N_FEATURES, n_qubits=N_QUBITS, n_operations=N_OPERATIONS)\n",
    "ansatz.initialize_to_identity()\n",
    "ansatz.change_operation(0, new_feature=0, new_wires=[0, 1], new_generator=\"ZZ\", new_bandwidth=1.0)\n",
    "ansatz.change_operation(1, new_feature=1, new_wires=[0, 1], new_generator=\"XX\", new_bandwidth=1.0)\n",
    "ansatz.change_operation(2, new_feature=2, new_wires=[0, 1], new_generator=\"IX\", new_bandwidth=0.123)"
   ]
  },
  {
   "cell_type": "markdown",
   "id": "60a8e11d-4858-46fe-9ea7-7198d905092d",
   "metadata": {},
   "source": [
    "Now, by employing the SWAP test over a subset of the $n$ qubits, only a small and constant number of qubits are measured while the rest remain unmeasured. This calculation is equivalent to performing the inner product between partial traces of two quantum-encoded data points can be achieved. \n",
    "\n",
    "In the following example, the measurement is performed only on the first of two qubits.\n"
   ]
  },
  {
   "cell_type": "code",
   "execution_count": null,
   "id": "4533f360-52cf-482b-812b-bd1cd770f079",
   "metadata": {},
   "outputs": [],
   "source": [
    "kernel = KernelFactory.create_kernel(ansatz, \"ZI\", KernelType.SWAP_TEST)"
   ]
  },
  {
   "cell_type": "markdown",
   "id": "6e5eecf2-0c12-42f6-831b-f92e2cb4a786",
   "metadata": {},
   "source": [
    "We can also obtain the kernel by projecting onto a single observable described by a Pauli string."
   ]
  },
  {
   "cell_type": "code",
   "execution_count": null,
   "id": "c8c04a61-b685-4fd2-8edb-59db83481a4e",
   "metadata": {},
   "outputs": [],
   "source": [
    "kernel = KernelFactory.create_kernel(ansatz, \"XY\", KernelType.OBSERVABLE)"
   ]
  },
  {
   "cell_type": "markdown",
   "id": "96dfd18b-69f9-4d16-a77a-333537011e52",
   "metadata": {},
   "source": [
    "Multiple observable can be tested if we compose together kernel functions made of different observables. Due to the properties of positive semidefinite functions, the sum and product and tensor of positive semidefinite operators is again positive semidefinite."
   ]
  },
  {
   "cell_type": "markdown",
   "id": "730358bc-6945-452a-bd63-dec11173be8f",
   "metadata": {},
   "source": [
    "## Learning of quantum processes\n",
    "\n",
    "The projected quantum kernel finds application in the realm of learning a quantum process, described by a function:\n",
    "\n",
    "$$f(x) = \\mathrm{Tr}[U^\\dagger(x) \\rho_0 U(x) O]$$\n",
    "\n",
    "Here, $U$ represents a parameterized quantum circuit, $\\rho_0$ is the initial state, and $O$ stands for the observable. This family of functions carries significant theoretical importance, as it has facilitated the formal demonstration of quantum advantages. It also holds practical significance, as certain use cases in physics and chemistry can be conceptualized as quantum processes.\n",
    "\n",
    "We are given a dataset, denoted as $\\{ (x^{(j)}, y^{(j)}) \\}_{j=1}^m$. Additionally, we assume that each label in this dataset is noise-free, meaning that $y^{(j)} = f(x^{(j)})$.\n"
   ]
  },
  {
   "cell_type": "markdown",
   "id": "0d747e21-af0d-4604-8ba2-c3aba23a4768",
   "metadata": {},
   "source": [
    "### S-value\n",
    "\n",
    "We can train a kernel machine on a dataset using a kernel $\\kappa$. The resulting model takes the form $h(x) = w^\\top \\phi(x)$. \n",
    "This representation is a kernel machine in its primal form, and the corresponding kernel Gram matrix is defined as $K = [\\kappa(x^{(i)}, x^{(j)})]_{i,j=1}^m$.  Assuming that the kernel Gram matrix is normalized, i.e., $\\mathrm{Tr}[K]=m$, we can define the _s-value_, a quantity that depends on the process $f$, the input data, and the kernel Gram matrix $K:\n",
    "\n",
    "$$s_K = \\sum_{i,j=1}^m (K_{i,j}^{-1}) \\, f(x^{(i)}) \\, f(x^{(j)})$$\n",
    "\n",
    "This value quantifies how well the kernel function captures the behavior of the quantum process. The kernel is indeed able to capture the relationship within the data if:\n",
    "\n",
    "$$\\kappa(x^{(i)}, x^{(j)}) \\approx f(x^{(i)}) \\, f(x^{(j)})$$\n",
    "\n",
    "It's important to note that $s_K = \\lVert w \\rVert$, making it a measure of the model's complexity. Higher values of $s_K$ suggest that the kernel machine $h$ becomes a more complex function, which can lead to overfitting and poor generalization performance.\n"
   ]
  },
  {
   "cell_type": "markdown",
   "id": "b4e9220e-0540-4c09-a431-03382448283a",
   "metadata": {},
   "source": [
    "### Geometric difference\n",
    "\n",
    "While the quantity $s_K$ compare a kernel and the target function, the geometric difference quantifies the divergence between two kernels. \n",
    "\n",
    "Assume for the two kernel matrices $K_1, K_2$ that their trace is equal to $m$. This is a valid assumption for quantum kernels, as the inner product between unitary vectors (or corresponding density matrices) is one, which then has to be multiplied for the $m$ elements. For classical kernels, the Gram matrix needs to be normalized. \n",
    "\n",
    "The geometric difference is defined by\n",
    "$$g(K_1, K_2) = \\sqrt{\\lVert \\sqrt{K_2} K_1^{-1} \\sqrt{K_2} \\rVert_{\\infty}},$$\n",
    "where $\\lVert \\cdot \\rVert_\\infty$ is the spectral norm, i.e. the largest singular value. \n",
    "\n",
    "One should use the geometric difference to compare the quantum kernel $K_Q$ with several classical kernels $K_{C_1}, K_{C_2}, ...$. Then, $\\min g(K_C, K_Q)$ has to be calculated: \n",
    "* if this difference is small, $g(K_C, K_Q) \\ll \\sqrt{m}$, then one of the classical kernels, the one with the smallest geometric difference, is guaranteed to provide similar performances;\n",
    "* if the difference is high, $g(K_C, K_Q) \\approx \\sqrt{m}$, the quantum kernel might outperform all the classical kernels tested. "
   ]
  },
  {
   "cell_type": "markdown",
   "id": "c2e7e570-460c-47c0-8519-dc44698c4f54",
   "metadata": {},
   "source": [
    "### Geometry Test\r\n",
    "\r\n",
    "The geometry test, introduced by [Hua21], serves as a means to assess whether a particular dataset holds the potential for a quantum advantage or if such an advantage is unlikely. The test operates as follows:\r\n",
    "\r\n",
    "- When $g(K_C, K_Q) \\ll \\sqrt{m}$, a classical kernel exhibits behavior similar to the quantum kernel, rendering the use of the quantum kernel redundant.\r\n",
    "\r\n",
    "- When $g(K_C, K_Q) \\approx \\sqrt{m}$, the quantum kernel significantly deviates from all tested classical kernels. The outcome depends on the complexity of classical kernel machines:\r\n",
    "    - If the complexity of any classical kernel machine is low ($s_{K_C} \\ll m$), classical kernels perform well, and the quantum kernel's divergence from classical  $K_C$, doesn't yield superior performance.\r\n",
    "    - When the complexity of all classical kernel machines is high ($s_{K_C} \\approx m$), classical models struggle to learn the function $f$. In this scenario:\r\n",
    "        - If the quantum model's complexity is low ($s_{K_Q} \\ll m$), the quantum kernel successfully solves the task while the classical models do not.\r\n",
    "        - If the quantum model's complexity is high ($s_{K_Q} \\approx m$), even the quantum model struggles to solve the problem.\r\n"
   ]
  },
  {
   "cell_type": "markdown",
   "id": "d5dcd606-7674-4087-a0e5-dc177e57b6dd",
   "metadata": {},
   "source": []
  },
  {
   "cell_type": "code",
   "execution_count": 2,
   "id": "16a0e1d5-e69f-41b6-acb9-af8ab3f492fc",
   "metadata": {},
   "outputs": [
    {
     "name": "stderr",
     "output_type": "stream",
     "text": [
      "\n",
      "KeyboardInterrupt\n",
      "\n"
     ]
    }
   ],
   "source": [
    "from quask.evaluator import EssEvaluator, GeometricDifferenceEvaluator, GeometryTestEvaluator"
   ]
  },
  {
   "cell_type": "markdown",
   "id": "7cb9e979-3e4e-48bb-a646-f050f6d8e953",
   "metadata": {},
   "source": [
    "## References & acknowledgements\n",
    "\n"
   ]
  },
  {
   "cell_type": "markdown",
   "id": "c2da78b7-8776-4a30-b07b-ab7c9c70865d",
   "metadata": {},
   "source": [
    "\\[Hua21\\] Huang, HY., Broughton, M., Mohseni, M. et al. Power of data in quantum machine learning. Nat Commun 12, 2631 (2021). https://doi.org/10.1038/s41467-021-22539-9"
   ]
  },
  {
   "cell_type": "code",
   "execution_count": null,
   "id": "3ff7f87d-91d8-43d1-b8d3-7911dd5b2b42",
   "metadata": {},
   "outputs": [],
   "source": []
  }
 ],
 "metadata": {
  "kernelspec": {
   "display_name": "Python 3 (ipykernel)",
   "language": "python",
   "name": "python3"
  },
  "language_info": {
   "codemirror_mode": {
    "name": "ipython",
    "version": 3
   },
   "file_extension": ".py",
   "mimetype": "text/x-python",
   "name": "python",
   "nbconvert_exporter": "python",
   "pygments_lexer": "ipython3",
   "version": "3.10.12"
  }
 },
 "nbformat": 4,
 "nbformat_minor": 5
}
