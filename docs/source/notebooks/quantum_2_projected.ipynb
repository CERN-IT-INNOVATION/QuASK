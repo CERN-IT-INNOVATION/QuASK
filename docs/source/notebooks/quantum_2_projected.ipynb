{
 "cells": [
  {
   "cell_type": "markdown",
   "id": "9d15079b-8f4a-4f61-9742-b4c0d5cd27d6",
   "metadata": {},
   "source": [
    "# Projected quantum kernels"
   ]
  },
  {
   "cell_type": "code",
   "execution_count": null,
   "id": "ae6d0f94-55ed-432f-a37a-888362c148ec",
   "metadata": {},
   "outputs": [],
   "source": []
  }
 ],
 "metadata": {
  "kernelspec": {
   "display_name": "Python 3 (ipykernel)",
   "language": "python",
   "name": "python3"
  },
  "language_info": {
   "codemirror_mode": {
    "name": "ipython",
    "version": 3
   },
   "file_extension": ".py",
   "mimetype": "text/x-python",
   "name": "python",
   "nbconvert_exporter": "python",
   "pygments_lexer": "ipython3",
   "version": "3.10.12"
  }
 },
 "nbformat": 4,
 "nbformat_minor": 5
}
