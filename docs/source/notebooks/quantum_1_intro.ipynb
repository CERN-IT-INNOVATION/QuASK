{
 "cells": [
  {
   "cell_type": "markdown",
   "id": "dedc06c6-36d6-41c5-a196-ca9a30a99491",
   "metadata": {},
   "source": [
    "# Quantum kernels "
   ]
  },
  {
   "cell_type": "code",
   "execution_count": null,
   "id": "ab05cb1d-619d-4b67-877e-b07ae538aeb1",
   "metadata": {},
   "outputs": [],
   "source": []
  }
 ],
 "metadata": {
  "kernelspec": {
   "display_name": "Python 3 (ipykernel)",
   "language": "python",
   "name": "python3"
  },
  "language_info": {
   "codemirror_mode": {
    "name": "ipython",
    "version": 3
   },
   "file_extension": ".py",
   "mimetype": "text/x-python",
   "name": "python",
   "nbconvert_exporter": "python",
   "pygments_lexer": "ipython3",
   "version": "3.10.12"
  }
 },
 "nbformat": 4,
 "nbformat_minor": 5
}
