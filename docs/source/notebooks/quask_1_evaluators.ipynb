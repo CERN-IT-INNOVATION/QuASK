{
 "cells": [
  {
   "cell_type": "markdown",
   "id": "66c99cd8-418d-4be5-a573-e440824b52e5",
   "metadata": {},
   "source": [
    "# Criteria to evaluate a quantum kernel\r\n",
    "\r\n",
    "One of the main features of _quask_ is the opportunity to evaluate a quantum kernel according to the various criteria proposed in the literature. These criteria are especially important in the context of seeking a quantum advantage, a model that outperforms existing classical choices.\r\n",
    "\r\n",
    "All the criteria are available as classes that inherit the abstract class `KernelEvaluator`. This object has only one abstract method, `evaluate`, which takes four arguments:\r\n",
    "\r\n",
    "1. The `Kernel` object.\r\n",
    "2. The set of training data `X`, which might be used by some criteria.\r\n",
    "3. The set of labels `y`, which might be used by some criteria in conjunction with the training data.\r\n",
    "4. The kernel Gram matrix `K`, which is entirely optional and can be built from `kappa` and `X`.\r\n",
    "\r\n",
    "The argument `K` is provided in case such an object has been previously calculated and is kept for the purpose of speeding up the computation.\r\n"
   ]
  },
  {
   "cell_type": "markdown",
   "id": "2d78c4e0-851f-49df-9966-999bf5e6976c",
   "metadata": {},
   "source": [
    "## Depending uniquely on the structure of the kernel \n",
    "\n",
    "These first criteria measure the expressibility of the given ansatz, thus do not need any information about the data used."
   ]
  },
  {
   "cell_type": "markdown",
   "id": "f1a083c2-59fe-428b-a067-c13265e4d4de",
   "metadata": {},
   "source": [
    "### Haar evaluator evaluator\n",
    "\n",
    "A criteria inspired by the definition of expressiblity given in \\[sim19\\]. A discretized, approximated version of this metric is given, and compares the histogram of inner products between Haar random vectors, with the inner product of vectors generated with the given kernel kappa. Note that, for $n \\to \\infty$, the Haar random histogram concentrates around zero.\n"
   ]
  },
  {
   "cell_type": "code",
   "execution_count": null,
   "id": "938ac932-729f-484f-a914-23e3d88b6782",
   "metadata": {},
   "outputs": [],
   "source": [
    "from quask.evaluator import HaarEvaluator\n",
    "n = 100 # number of bins discretizing the histogram\n",
    "m = 10000 #number of randomly sampled data for creating the ansatz's ensemble of states\n",
    "h_eval = HaarEvaluator(n, m)"
   ]
  },
  {
   "cell_type": "markdown",
   "id": "2f80a0ee-974d-4a58-a821-b44c6d05e1bc",
   "metadata": {},
   "source": [
    "### Lie Rank evaluator evaluator\n",
    "\n",
    "A criteria inspired by the work in \\[lar21\\]. The rank of the Lie algebra associated with the ansatz is computed, truncated to a maximum value $T$. In this case, the criteria can both be associated with the expressibility (higher rank leads to higher expressibility) or with the efficiency of simulation on a classical device (higher rank leads to harder to simulate unitaries). \n"
   ]
  },
  {
   "cell_type": "code",
   "execution_count": null,
   "id": "36359d8b-8554-446b-91e1-eba97bfcf692",
   "metadata": {},
   "outputs": [],
   "source": [
    "from quask.evaluator import LieRankEvaluator\n",
    "t = 10_000 # threshold on the rank of the Lie algebra\n",
    "lr_eval = LieRankEvaluator(t)"
   ]
  },
  {
   "cell_type": "markdown",
   "id": "e27bf3dd-73e9-4c29-ac2e-8e106074112f",
   "metadata": {},
   "source": [
    "### Covering numbers evaluator\n",
    "\n",
    "A criteria inspired by the work in \\[du22\\]. The expressibility is upper bounded by a quantity exponential in the number of trainable gates. In our context, it is quite a loose bound, but the original article allows to consider a more precise bounds in some cases."
   ]
  },
  {
   "cell_type": "code",
   "execution_count": null,
   "id": "1dace440-d38d-4fcb-9f8c-832760f1760b",
   "metadata": {},
   "outputs": [],
   "source": [
    "from quask.evaluator import CoveringNumberEvaluator\n",
    "cn_eval = CoveringNumberEvaluator()"
   ]
  },
  {
   "cell_type": "markdown",
   "id": "d6a29536-f1eb-4c1c-9b15-0456c7a4ef6a",
   "metadata": {},
   "source": [
    "## Depending on the kernel and on the training features, but not on the labels\n",
    "\n",
    "These criteria depends on the kernel itself and the training data. "
   ]
  },
  {
   "cell_type": "markdown",
   "id": "bcda3c04-00d6-489c-bf55-1376ff7b5014",
   "metadata": {},
   "source": [
    "### Geometric difference evaluator\n",
    "\n",
    "A criteria inspired by the work in \\[hua21\\]. The geometric difference has been extensively studied in the [Projected quantum kernels tutorial](\"../tutorial_quantum/quantum_2_projected\"). It is used as follows:"
   ]
  },
  {
   "cell_type": "code",
   "execution_count": null,
   "id": "70bfcef1-3853-401c-a9f7-cec61fe3f4d2",
   "metadata": {},
   "outputs": [],
   "source": [
    "from quask.evaluator import GeometricDifferenceEvaluator\n",
    "\n",
    "Kc1 = ... # first classical kernel\n",
    "Kc2 = ... # second classical kernel\n",
    "# ...\n",
    "Kc100 = ... # last classical kernel\n",
    "lam = 0.0001 # regularization \n",
    "\n",
    "gd_eval = GeometricDifferenceEvaluator([Kc1, Kc2, ..., Kc100], lam)"
   ]
  },
  {
   "cell_type": "markdown",
   "id": "9094fa19-4c26-4321-8f9b-44e6488aeb59",
   "metadata": {},
   "source": [
    "## Depending on the kernel, the training features and training labels\n"
   ]
  },
  {
   "cell_type": "markdown",
   "id": "8d9d7a20-3cea-47b4-9001-9328da896ca2",
   "metadata": {},
   "source": [
    "### Kernel alignment evaluator\n",
    "\n",
    "A criteria inspired by the work in \\[cri01\\]. "
   ]
  },
  {
   "cell_type": "code",
   "execution_count": null,
   "id": "661b3276-602e-47a5-b390-f7e14ed019c3",
   "metadata": {},
   "outputs": [],
   "source": [
    "from quask.evaluator import KernelAlignmentEvaluator\n",
    "ka_eval = KernelAlignmentEvaluator()"
   ]
  },
  {
   "cell_type": "markdown",
   "id": "92d4f4a8-fed1-44bd-afb5-82268bfa7476",
   "metadata": {},
   "source": [
    "### Centered Kernel alignment evaluator\n",
    "\n",
    "A criteria inspired by the work in \\[cor12\\]."
   ]
  },
  {
   "cell_type": "code",
   "execution_count": null,
   "id": "4ab4991c-9ea9-41f7-ab22-683cb3b949cc",
   "metadata": {},
   "outputs": [],
   "source": [
    "from quask.evaluator import CenteredKernelAlignmentEvaluator\n",
    "cka_eval = CenteredKernelAlignmentEvaluator()"
   ]
  },
  {
   "cell_type": "markdown",
   "id": "69e1a559-c4fe-456b-852b-c7e0b366b188",
   "metadata": {},
   "source": [
    "### Ridge generalization evaluator\n"
   ]
  },
  {
   "cell_type": "code",
   "execution_count": null,
   "id": "b38103f8-ad3d-47ee-935a-5f8a5c04a4e5",
   "metadata": {},
   "outputs": [],
   "source": [
    "from quask.evaluator import RidgeGeneralizationEvaluator\n",
    "rg_eval = RidgeGeneralizationEvaluator()"
   ]
  },
  {
   "cell_type": "markdown",
   "id": "9859de1f-9894-420a-a0db-71bbaf4db301",
   "metadata": {},
   "source": [
    "### 'S' model complexity evaluator\n",
    "\n",
    "A criteria inspired by the work in \\[hua21\\]. The 'S' model complexity has been extensively studied in the [Projected quantum kernels tutorial](\"../tutorial_quantum/quantum3_spectralbias.html\"). It is used as follows:"
   ]
  },
  {
   "cell_type": "code",
   "execution_count": null,
   "id": "dcfd35cf-458d-48ce-b48d-cd5c8c5b4c9f",
   "metadata": {},
   "outputs": [],
   "source": [
    "from quask.evaluator import EssModelComplexityEvaluator\n",
    "smc_eval = EssModelComplexityEvaluator()"
   ]
  },
  {
   "cell_type": "markdown",
   "id": "d31d3fd5-991c-4b26-a896-78ffeaad478a",
   "metadata": {},
   "source": [
    "### Spectral bias evaluator\n",
    "\n",
    "A criteria inspired by the work in \\[can21\\]. "
   ]
  },
  {
   "cell_type": "code",
   "execution_count": null,
   "id": "4de53f91-2057-4dd9-94a9-ad9832fa21b6",
   "metadata": {},
   "outputs": [],
   "source": [
    "from quask.evaluator import SpectralBiasEvaluator\n",
    "sb_eval = SpectralBiasEvaluator(10)"
   ]
  },
  {
   "cell_type": "markdown",
   "id": "2e08e7c5-2245-404d-b9f6-871fce5ff587",
   "metadata": {},
   "source": [
    "## Add your own criteria\n",
    "\n"
   ]
  },
  {
   "cell_type": "markdown",
   "id": "9161c827-7e53-43df-a42e-5b97d5c84b83",
   "metadata": {},
   "source": [
    "## References \n",
    "\n",
    "\\[sim19\\] Sim, Sukin, Peter D. Johnson, and Alán Aspuru‐Guzik. \"Expressibility and entangling capability of parameterized quantum circuits for hybrid quantum‐classical algorithms.\" Advanced Quantum Technologies 2.12 (2019): 1900070.\n",
    "\n",
    "\\[lar21\\] Larocca, Martin, et al. \"Diagnosing barren plateaus with tools from quantum optimal control.\" Quantum 6 (2022): 824.\n",
    "\n",
    "\\[du22\\] Du, Yuxuan, et al. \"Efficient measure for the expressivity of variational quantum algorithms.\" Physical Review Letters 128.8 (2022): 080506.\n",
    "\n",
    "\\[cri01\\] Cristianini, Nello, et al. \"On kernel-target alignment.\" Advances in neural information processing systems 14 (2001).\n",
    "\n",
    "\\[cor12\\] Cortes, Corinna, Mehryar Mohri, and Afshin Rostamizadeh. \"Algorithms for learning kernels based on centered alignment.\" The Journal of Machine Learning Research 13.1 (2012): 795-828.\n",
    "\n",
    "\\[can21\\] Canatar, Abdulkadir, Blake Bordelon, and Cengiz Pehlevan. \"Spectral bias and task-model alignment explain generalization in kernel regression and infinitely wide neural networks.\" Nature communications 12.1 (2021): 2914.\n",
    "\n",
    "\\[hua21\\] Huang, HY., Broughton, M., Mohseni, M. et al. Power of data in quantum machine learning. Nat Commun 12, 2631 (2021). https://doi.org/10.1038/s41467-021-22539-9"
   ]
  },
  {
   "cell_type": "raw",
   "id": "2c630cb4-56e4-4ef5-806e-c324b06bec81",
   "metadata": {},
   "source": [
    ".. note::\n",
    "\n",
    "   Author's note."
   ]
  },
  {
   "cell_type": "code",
   "execution_count": null,
   "id": "e706a00d-adc8-44c7-ae39-d704b6a99de9",
   "metadata": {},
   "outputs": [],
   "source": []
  }
 ],
 "metadata": {
  "kernelspec": {
   "display_name": "Python 3 (ipykernel)",
   "language": "python",
   "name": "python3"
  },
  "language_info": {
   "codemirror_mode": {
    "name": "ipython",
    "version": 3
   },
   "file_extension": ".py",
   "mimetype": "text/x-python",
   "name": "python",
   "nbconvert_exporter": "python",
   "pygments_lexer": "ipython3",
   "version": "3.10.12"
  }
 },
 "nbformat": 4,
 "nbformat_minor": 5
}
