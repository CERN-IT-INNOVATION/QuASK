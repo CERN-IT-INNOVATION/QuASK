{
 "cells": [
  {
   "cell_type": "markdown",
   "id": "609152fd-e4c8-4d09-99e4-8970bff9d16b",
   "metadata": {},
   "source": [
    "# Backends in _quask_\n",
    "\n",
    "In this tutorial, we show how to use _quask_ with different backends. These APIs have been designed to allow us to work with quantum kernels at a high level, hiding all the hardware (or simulator) details. The current APIs are categorized as follows:\n",
    "\n",
    "- The `core` package contains the high-level APIs, with the `Operation` class representing a gate, the `Ansatz` class that represents a parametric quantum circuit, and the `Kernel` abstract class representing the quantum kernel.\n",
    "- The `core_implementation` package contains the low-level implementation of the `Kernel` class on some quantum programming framework.\n",
    "- The `core.KernelFactory` class is used to instantiate `Kernel` objects on the chosen, pre-configured backend.\n",
    "\n",
    "We have seen in the [first tutorial on quantum kernels](quantum_0_intro.html) how to work with the Pennylane Backend in a noiseless simulation setting. Here we explore further options.\n"
   ]
  },
  {
   "cell_type": "raw",
   "id": "f723e9d9-390b-4396-a2cf-ec2f8c9e5cc6",
   "metadata": {},
   "source": [
    ".. warning::\n",
    "\n",
    "    During the installation of _quask_, not all the dependencies are installed: there is no need, for most users, to have all the possible backend available on the machine. For this reason, no backend library is installed and the user have to do it manually. "
   ]
  },
  {
   "cell_type": "markdown",
   "id": "64952e1b-d803-4c3b-bcd7-3711132447bf",
   "metadata": {},
   "source": [
    "## Working with the Qiskit backend\n",
    "\n",
    "We support Qiskit SDK. It can be installed via _pip_ using the following command:"
   ]
  },
  {
   "cell_type": "code",
   "execution_count": null,
   "id": "6d1c3648-ec2a-4e0d-9b93-6844a4218856",
   "metadata": {},
   "outputs": [],
   "source": [
    "# !pip install qiskit\n",
    "# !pip install qiskit_ibm_runtime"
   ]
  },
  {
   "cell_type": "markdown",
   "id": "ba4e8c2d-4811-48ed-9cef-76a64a59f31d",
   "metadata": {},
   "source": [
    "Once configured, the class `core_implementation.QiskitKernel` can be used. The objects of this class need few configurations:\n",
    "* platform, \"BasicAer\" or \"QiskitRuntimeService\" for simulation and access to IBM cloud\n",
    "* backend, the default ones for \"BasicAer\" platform, or one of the available in your account for  \"QiskitRuntimeService\" platform\n",
    "* the number of samples\n",
    "* optimization_level, the [optimization configuration](https://qiskit.org/ecosystem/ibm-runtime/how_to/error-suppression.html)\n",
    "* resilience_level, the [error mitigation configuration](https://qiskit.org/ecosystem/ibm-runtime/how_to/error-mitigation.html)\n",
    "* the token, if platform \"QiskitRuntimeService\" is used and the token has not been configured yet on the device, `None` otherwise"
   ]
  },
  {
   "cell_type": "code",
   "execution_count": null,
   "id": "4d46eb24-da24-4d6c-a7d8-75f1c67668cf",
   "metadata": {},
   "outputs": [],
   "source": [
    "from quask.core import Ansatz, Kernel, KernelFactory, KernelType\n",
    "from quask.core_implementation import QiskitKernel\n",
    "\n",
    "def create_qiskit_noiseless(ansatz: Ansatz, measurement: str, type: KernelType):\n",
    "    return QiskitKernel(ansatz, measurement, type, device_name=\"default.qubit\", n_shots=None)\n",
    "\n",
    "KernelFactory.add_implementation('qiskit_noiseless', create_qiskit_noiseless)"
   ]
  },
  {
   "cell_type": "markdown",
   "id": "2832927f-d226-4fe7-9cc2-ac282776c75d",
   "metadata": {},
   "source": [
    "## Working with the Pennylane backend\n",
    "\n",
    "We support Pennylane SDK. It can be installed via _pip_ using the following command:"
   ]
  },
  {
   "cell_type": "code",
   "execution_count": null,
   "id": "2e7b2283-7eb3-4696-86f2-92a477300297",
   "metadata": {},
   "outputs": [],
   "source": [
    "# !pip install pennylane"
   ]
  },
  {
   "cell_type": "markdown",
   "id": "d56e4a7a-1bf9-4d79-97ac-ed7c69d00cba",
   "metadata": {},
   "source": [
    "Once configured, the class `core_implementation.PennylaneKernel` can be used. The objects of this class need few configurations:\n",
    "* the name of the device to be used ('default.qubit' being the noiseless simulator);\n",
    "* the number of shots ('None' being infinite shots)."
   ]
  },
  {
   "cell_type": "code",
   "execution_count": null,
   "id": "87fed844-e812-4ae1-bd2b-d8ca1b60e4a3",
   "metadata": {},
   "outputs": [],
   "source": [
    "from quask.core import Ansatz, Kernel, KernelFactory, KernelType\n",
    "from quask.core_implementation import PennylaneKernel\n",
    "\n",
    "def create_pennylane_noiseless(ansatz: Ansatz, measurement: str, type: KernelType):\n",
    "    return PennylaneKernel(ansatz, measurement, type, device_name=\"default.qubit\", n_shots=None)\n",
    "\n",
    "KernelFactory.add_implementation('pennylane_noiseless', create_pennylane_noiseless)"
   ]
  },
  {
   "cell_type": "raw",
   "id": "d2138990-9d64-451f-87ee-0eeca1ce648c",
   "metadata": {},
   "source": [
    ".. note::\n",
    "\n",
    "    The `PennylaneKernel` class supports the basic functionalities of Pennylane, but not the most advanced ones. In particular, if you want to work with JAX you should copy this class and modify the creation of the device to use JAX instead of the standard libraries. "
   ]
  },
  {
   "cell_type": "markdown",
   "id": "808737ad-8348-42eb-8b2f-28584d132a38",
   "metadata": {},
   "source": [
    "## Working with the Amazon Braket backend\n",
    "\n",
    "We support Amazon Braket via the PennyLane plugins. It can be installed via _pip_ using the following command:"
   ]
  },
  {
   "cell_type": "code",
   "execution_count": null,
   "id": "8ee3164e-4ae1-4463-991f-a98ed1064c41",
   "metadata": {},
   "outputs": [],
   "source": [
    "# !pip install amazon-braket-sdk\n",
    "# !pip install amazon-braket-pennylane-plugin"
   ]
  },
  {
   "cell_type": "markdown",
   "id": "80547f02-fca6-4c21-b95c-8e27cef81eee",
   "metadata": {},
   "source": [
    "The Amazon SDK has to be configured via the Amazon CLI, whose procedure is detailed in the [documentation](https://boto3.amazonaws.com/v1/documentation/api/latest/guide/quickstart.html). Basically, you have to run `aws configure` command and follow the instruction to insert the access key, secret access key, and region of your account. "
   ]
  },
  {
   "cell_type": "markdown",
   "id": "4beed9ff-b40b-4fb9-af6d-386274a2024c",
   "metadata": {},
   "source": [
    "Once configured, the class `core_implementation.BraketKernel` can be used. The objects of this class need few configurations:\n",
    "* the name of the device to be used;\n",
    "* the Amazon S3 bucket and prefix to save the results;\n",
    "* the number of shots. \n",
    "\n",
    "For more detailed explaination on the setup of Amazon Braket objects, you can follow the [Amazon Braket documentation](https://docs.aws.amazon.com/braket/latest/developerguide/hybrid.html). Here's an example on how to configure the backend in _quask_:"
   ]
  },
  {
   "cell_type": "code",
   "execution_count": null,
   "id": "35b79ebe-801e-4c59-9ff2-246d7e0c16db",
   "metadata": {},
   "outputs": [],
   "source": [
    "from quask.core import Ansatz, Kernel, KernelFactory, KernelType\n",
    "from quask.core_implementation import BraketKernel\n",
    "        \n",
    "def create_braket(ansatz: Ansatz, measurement: str, type: KernelType):\n",
    "    return BraketKernel(ansatz, measurement, type,\n",
    "                        device_name=\"arn:aws:braket:us-west-1::device/qpu/rigetti/Aspen-M-3\", \n",
    "                        s3_bucket=\"my_s3_bucket\", \n",
    "                        s3_prefix=\"my_s3_prefix\", \n",
    "                        n_shots=1024)\n",
    "\n",
    "KernelFactory.add_implementation('braket_example', create_braket)\n",
    "KernelFactory.set_current_implementation('braket_example')"
   ]
  },
  {
   "cell_type": "raw",
   "id": "68926a42-0dc1-4e99-819c-17461f91ff24",
   "metadata": {},
   "source": [
    ".. note::\n",
    "\n",
    "    If you need to extend _quask_ to support a certain hardware, the easiest way to implement it is by checking if there exists a plugin to make it work with PennyLane. In that case, you can copy the `BraketKernel` and change the setup of Braket with the setup of the hardware you want to support."
   ]
  },
  {
   "cell_type": "markdown",
   "id": "54bc829b-3c15-4bd2-916f-a2d598139f23",
   "metadata": {},
   "source": [
    "## Working with the Qibo backend\n",
    "\n",
    "We support Qibo SDK. It can be installed via _pip_ using the following command:"
   ]
  },
  {
   "cell_type": "raw",
   "id": "093d368c",
   "metadata": {},
   "source": [
    "# !pip install qibo"
   ]
  },
  {
   "cell_type": "markdown",
   "id": "307f8199-9203-422d-bc9f-588dba30a67d",
   "metadata": {},
   "source": [
    "## Add your own backend\n",
    "\n",
    "Do you want to extend the list of _quask_ backends? Do you need a particular feature that is not supported built-in by our classes? If so, you should consider writing your own backend.\n",
    "\n",
    "We have designed _quask_ in a modular fashion so that users can modify it to suit their every need with minimal effort. To start the creation of a brand new backend, you need to create a class that extends `Kernel` and implements the abstract methods. These are:\n",
    "\n",
    "1. `kappa`: calculates the inner product between a pair of data points.\n",
    "2. `phi`: calculates the feature map corresponding to a single data point if the `kernel_type` field is _observable_, throws an error otherwise.\n",
    "\n",
    "Furthermore, the initialization method should set up the backend's environment properly. For example, if the backend is meant to work on some quantum hardware accessed via the cloud, it should set up all the necessary configurations.\n",
    "\n",
    "Once you have set this up, you can make it available via the `KernelFactory`. Here follows an example of a mock backend:\n"
   ]
  },
  {
   "cell_type": "code",
   "execution_count": null,
   "id": "66c8b270-0760-4743-a718-3f77c7a0967a",
   "metadata": {},
   "outputs": [],
   "source": [
    "import numpy as np\n",
    "from quask.core import Ansatz, Kernel, KernelFactory, KernelType\n",
    "\n",
    "class MockKernel(Kernel):\n",
    "\n",
    "    def __init__(self, ansatz: Ansatz, measurement: str, type: KernelType):\n",
    "        super().__init__(ansatz, measurement, type)\n",
    "\n",
    "    def kappa(self, x1, x2) -> float:\n",
    "        if self.type == KernelType.OBSERVABLE:\n",
    "            return 1.0 if np.isclose(x1, x2) else 0.0\n",
    "        elif self.type == KernelType.FIDELITY:\n",
    "            return 1.0 if np.isclose(x1, x2) else 0.0\n",
    "        elif self.type == KernelType.SWAP_TEST:\n",
    "            return 1.0 if np.isclose(x1, x2) else 0.0\n",
    "\n",
    "    def phi(self, x) -> float:\n",
    "        if self.type == KernelType.OBSERVABLE:\n",
    "            return np.array([1.0])\n",
    "        elif self.type in [KernelType.FIDELITY, KernelType.SWAP_TEST]:\n",
    "            raise ValueError(\"phi not available for fidelity kernels\")\n",
    "        else:\n",
    "            raise ValueError(\"Unknown type, possible erroneous loading from a numpy array\")\n",
    "        \n",
    "def create_mock(ansatz: Ansatz, measurement: str, type: KernelType):\n",
    "    return MockKernel(ansatz, measurement, type)\n",
    "\n",
    "KernelFactory.add_implementation('mock', create_mock)\n",
    "KernelFactory.set_current_implementation('mock')"
   ]
  },
  {
   "cell_type": "raw",
   "id": "f03c4a22-d63d-4f18-afe3-edf29936bf2c",
   "metadata": {},
   "source": [
    ".. note::\n",
    "\n",
    "    If you have added a particular functionality to _quask_, consider reaching out to us if you want if included in a future version of our software. "
   ]
  }
 ],
 "metadata": {
  "kernelspec": {
   "display_name": "Python 3 (ipykernel)",
   "language": "python",
   "name": "python3"
  },
  "language_info": {
   "codemirror_mode": {
    "name": "ipython",
    "version": 3
   },
   "file_extension": ".py",
   "mimetype": "text/x-python",
   "name": "python",
   "nbconvert_exporter": "python",
   "pygments_lexer": "ipython3",
   "version": "3.12.0"
  }
 },
 "nbformat": 4,
 "nbformat_minor": 5
}
