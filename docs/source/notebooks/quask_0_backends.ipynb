{
 "cells": [
  {
   "cell_type": "markdown",
   "id": "609152fd-e4c8-4d09-99e4-8970bff9d16b",
   "metadata": {},
   "source": [
    "# Backends in _quask_"
   ]
  },
  {
   "cell_type": "code",
   "execution_count": null,
   "id": "6ac55c18-d76e-420d-b228-6c43a38126bc",
   "metadata": {},
   "outputs": [],
   "source": []
  }
 ],
 "metadata": {
  "kernelspec": {
   "display_name": "Python 3 (ipykernel)",
   "language": "python",
   "name": "python3"
  },
  "language_info": {
   "codemirror_mode": {
    "name": "ipython",
    "version": 3
   },
   "file_extension": ".py",
   "mimetype": "text/x-python",
   "name": "python",
   "nbconvert_exporter": "python",
   "pygments_lexer": "ipython3",
   "version": "3.10.12"
  }
 },
 "nbformat": 4,
 "nbformat_minor": 5
}
