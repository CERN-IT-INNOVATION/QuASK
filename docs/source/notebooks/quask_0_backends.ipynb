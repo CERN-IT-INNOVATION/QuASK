{
 "cells": [
  {
   "cell_type": "markdown",
   "id": "609152fd-e4c8-4d09-99e4-8970bff9d16b",
   "metadata": {},
   "source": [
    "# Backends in _quask_"
   ]
  },
  {
   "cell_type": "markdown",
   "id": "64952e1b-d803-4c3b-bcd7-3711132447bf",
   "metadata": {},
   "source": [
    "## Working with the Qiskit backend"
   ]
  },
  {
   "cell_type": "markdown",
   "id": "2832927f-d226-4fe7-9cc2-ac282776c75d",
   "metadata": {},
   "source": [
    "## Working with the Pennylane backend"
   ]
  },
  {
   "cell_type": "markdown",
   "id": "808737ad-8348-42eb-8b2f-28584d132a38",
   "metadata": {},
   "source": [
    "## Working with the Amazon Braket backend"
   ]
  },
  {
   "cell_type": "markdown",
   "id": "54bc829b-3c15-4bd2-916f-a2d598139f23",
   "metadata": {},
   "source": [
    "## Working with the Qibo backend"
   ]
  },
  {
   "cell_type": "markdown",
   "id": "307f8199-9203-422d-bc9f-588dba30a67d",
   "metadata": {},
   "source": [
    "## Add your own backend"
   ]
  },
  {
   "cell_type": "code",
   "execution_count": null,
   "id": "29d255a8-81da-48af-b46a-e89387377c01",
   "metadata": {},
   "outputs": [],
   "source": []
  }
 ],
 "metadata": {
  "kernelspec": {
   "display_name": "Python 3 (ipykernel)",
   "language": "python",
   "name": "python3"
  },
  "language_info": {
   "codemirror_mode": {
    "name": "ipython",
    "version": 3
   },
   "file_extension": ".py",
   "mimetype": "text/x-python",
   "name": "python",
   "nbconvert_exporter": "python",
   "pygments_lexer": "ipython3",
   "version": "3.10.12"
  }
 },
 "nbformat": 4,
 "nbformat_minor": 5
}
