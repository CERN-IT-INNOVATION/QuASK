{
 "cells": [
  {
   "cell_type": "markdown",
   "id": "dedc06c6-36d6-41c5-a196-ca9a30a99491",
   "metadata": {},
   "source": [
    "# Quantum kernels "
   ]
  },
  {
   "cell_type": "code",
   "execution_count": 1,
   "id": "e3376f7a-c399-4248-9f74-750271325dd0",
   "metadata": {},
   "outputs": [],
   "source": [
    "import sys\n",
    "import os\n",
    "# to import quask, move from docs/source/notebooks to src\n",
    "sys.path.append('../../../src')\n",
    "import quask"
   ]
  },
  {
   "cell_type": "markdown",
   "id": "ae7056d4-25b3-491b-9abf-69f72155668d",
   "metadata": {},
   "source": [
    "In this tutorial, we explore one of the paradigms of QML, the use of  *quantum algorithms* with *classical data*.\n",
    "The quantum kernel maps the classical data into the Hilbert space of a quantum system, and then the pair of encoded samples is tested via the overlap test or the swap test, simple procedures that allow to estimate the inner products of quantum states with a small overhead in terms of depth of the circuit.\n",
    "\n",
    "The work in [rml14] introduced the Quantum Support Vector Machine. The theory of quantum kernels has been first explored in [sch19] and [hav19]. A concise, theoretical introduction to the topic is [sch21]."
   ]
  },
  {
   "cell_type": "markdown",
   "id": "a3e5d70e-da11-4d29-84a8-0d7d909f6c1d",
   "metadata": {},
   "source": [
    "## Parameterized quantum circuits as feature maps\n",
    "\n",
    "A parameterized quantum circuit, which is a function mapping a classical vector of features $\\mathbf{x} \\in \\mathbb{R}^d$ to a unitary operator $U(\\mathbf{x})$, corresponds to the feature map in the classical machine learning setting. We start the computation in the initial state $\\rho_0$, which is usually the $\\ketbra{0}{0}$ pure density matrix, and then evolve the initial state via the parametric unitary whose arguments correspond to the features of the first data point, \n",
    "$$\\rho_{\\mathbf{x}} = U^\\dagger(\\mathbf{x}) \\rho_0 U(\\mathbf{x}).$$\n",
    "\n",
    "### The `Operator` class\n",
    "\n",
    "Firstly, we will see how to implement the feature map in _quask_. The object that implements $U(\\cdot)$ is the `Ansatz` class, and each of the gates of the underlying quantum circuit is an `Operation`. "
   ]
  },
  {
   "cell_type": "code",
   "execution_count": 2,
   "id": "49efd83b-24b1-4425-9a8a-e7b89fed0be0",
   "metadata": {},
   "outputs": [],
   "source": [
    "from quask.core import Operation\n",
    "import numpy as np"
   ]
  },
  {
   "cell_type": "markdown",
   "id": "046bbb11-c2e2-42d7-9a4b-59b5d96aacde",
   "metadata": {},
   "source": [
    "Any operation corresponds to a two-qubit gate in the form\n",
    "$$\n",
    "U(\\theta) = \\exp\\left(-i \\frac{\\beta \\theta}{2} \\sigma_1^{(p)} \\sigma_2^{(q)}\\right),\n",
    "$$\n",
    "with $\\theta \\in \\mathbb{R}$ being the single real value that parameterizes the unitary rotation. The operation is also characterized by its generators, $\\sigma_1$ and $\\sigma_2$, the qubits on which the operation is applied, $p$ and $q$, and a scaling constant $\\beta$.ed in great detail later.\n"
   ]
  },
  {
   "cell_type": "markdown",
   "id": "5f1d44f7-47f6-4acb-8001-4dd88d75fd45",
   "metadata": {},
   "source": [
    "The parameter $\\theta$ corresponds to one of the components of\n",
    "$\\mathbf{x} \\in \\mathbb{R}^d$ and can be identified with the index\n",
    "$i \\in \\{0, \\ldots, d-1\\}$. \n",
    "In some works, you can see $\\theta$\n",
    "is a function of the parameters of $\\mathbf{x}$, e.g.\n",
    "$(\\mathbf{x}_1 - \\pi)(\\mathbf{x}_2 - \\pi)$.\n",
    "This particular custom function can be used to reduce the number of qubits needed\n",
    "to embed the full feature vector $\\mathbf{x}$.\n",
    "We add the calculated new feature to $\\mathbf{x}$, $\\mathbf{x}'_d \\leftarrow (\\mathbf{x}_1 - \\pi)(\\mathbf{x}_2 - \\pi)$. Then, $\\mathbf{x}' \\in \\mathbb{R}^{d+1}$.\n",
    "Furthermore, to allow the action of constant gates, the feature of \n",
    "index $i = d$ corresponds to the constant $1$. By fixing \n",
    "the constant feature and an arbitrary value of $\\beta$, one can \n",
    "define any rotational angle."
   ]
  },
  {
   "cell_type": "markdown",
   "id": "9cb47b08-343f-48d5-b4a8-6391f84aaa63",
   "metadata": {},
   "source": [
    "Clearly, $p$ and $q$ are in $\\{0, 1, \\ldots, n-1\\}$ where $n$ is the number of qubits in the quantum circuit, and $p \\neq q$. Due to the design of our API, you need to always specify the qubit on which any transformation acts, even if the corresponding generator is the identity. This aspect, although unnecessary at this stage, simplifies other advanced operations available in _quask_, such as the automatic discovery of quantum kernels.\n",
    "\n",
    "Finally, the scaling constant $0 \\leq \\beta \\leq 1$ is a \"bandwidth\" and is used for different purposes. When used on a constant gate (e.g., non-rotational, with feature index equal to $d$), it allows arbitrary rotations. When used on parameterized gates, it can limit the \"expressibility\" of the feature map, an aspect that is studied in great detail later.\n"
   ]
  },
  {
   "cell_type": "code",
   "execution_count": 3,
   "id": "235a0487-ad2d-40e8-a02f-d4752bdaef73",
   "metadata": {},
   "outputs": [
    {
     "name": "stdout",
     "output_type": "stream",
     "text": [
      "-i 0.40 * x[2] XI^(1,0)\n"
     ]
    }
   ],
   "source": [
    "# Define some information about the parameterized quantum circuit\n",
    "N_FEATURES = 2\n",
    "N_QUBITS = 2\n",
    "\n",
    "# Create a random operation\n",
    "allowed_generators = Operation.PAULI_GENERATORS\n",
    "generators = np.random.choice(allowed_generators)\n",
    "\n",
    "allowed_qubits = list(range(N_QUBITS))\n",
    "wires = np.random.choice(allowed_qubits, 2, replace=False)\n",
    "\n",
    "allowed_features_plus_constant_element = list(range(N_FEATURES + 1))\n",
    "feature = np.random.choice(allowed_features_plus_constant_element)\n",
    "\n",
    "bandwidth = np.random.uniform(0.0, 1.0)\n",
    "\n",
    "operation = Operation(generators, wires, feature, bandwidth)\n",
    "print(operation)"
   ]
  },
  {
   "cell_type": "markdown",
   "id": "eb73cba1-6195-42af-b623-d4888d16c6cf",
   "metadata": {},
   "source": [
    "### The `Ansatz` class\n",
    "\n",
    "An `Ansatz` is a sequence of parameterized quantum gates. This class wraps individual operations and performs consistency checks to ensure the validity of each operation. To accomplish this, the Ansatz object contains shared information about the quantum circuit, which avoids to \r\n",
    "repeat checks for each operation. This shared information includes:\n",
    "the number of features $d$ in the classical data vector, \n",
    "the total number of operations in the quantum circuit, and\n",
    "the number of qubits in the quantum system.\n",
    "\n",
    "By storing these details at the `Ansatz` level, we streamline the management and validation of operations, ensuring coherence and consistency within the ansatz."
   ]
  },
  {
   "cell_type": "code",
   "execution_count": 4,
   "id": "2b79a211-d202-415e-866d-c55fc26b2105",
   "metadata": {},
   "outputs": [],
   "source": [
    "from quask.core import Ansatz\n",
    "N_FEATURES = 2\n",
    "N_OPERATIONS = 3\n",
    "N_QUBITS = 2\n",
    "ansatz = Ansatz(n_features=N_FEATURES, n_qubits=N_QUBITS, n_operations=N_OPERATIONS)"
   ]
  },
  {
   "cell_type": "markdown",
   "id": "c3fb34b0-3fe7-4a81-935c-294543dffe6f",
   "metadata": {},
   "source": [
    "The `Ansatz` object requires to be initialized, and subsequently, each operation, distinct from the identity transformation, needs to be configured.\n"
   ]
  },
  {
   "cell_type": "code",
   "execution_count": 5,
   "id": "38587449-d15d-4a7e-ab80-986d3d0d8df5",
   "metadata": {},
   "outputs": [],
   "source": [
    "ansatz.initialize_to_identity()\n",
    "\n",
    "# parameterized rotation R_{ZZ}(x_0) on the qubits 0, 1\n",
    "ansatz.change_operation(0, new_feature=0, new_wires=[0, 1], new_generator=\"ZZ\", new_bandwidth=1.0)\n",
    "\n",
    "# parameterized rotation R_{XX}(x_1) on the qubits 0, 1\n",
    "ansatz.change_operation(1, new_feature=1, new_wires=[0, 1], new_generator=\"XX\", new_bandwidth=1.0)\n",
    "\n",
    "# constant R_x(0.123) of the qubit 1 (the second)\n",
    "ansatz.change_operation(2, new_feature=2, new_wires=[0, 1], new_generator=\"IX\", new_bandwidth=0.123)"
   ]
  },
  {
   "cell_type": "markdown",
   "id": "8505300d-2219-4e2e-98a6-f489acf3f1fd",
   "metadata": {},
   "source": [
    "### Serialization of the Ansatz objects\n",
    "\n",
    "Both Operation and Ansatz can be serialized into NumPy arrays. The Operation is serialized into a vector of 5 elements, where a pair of generators corresponds to a single element. The vector includes the two qubits, the feature, and the bandwidth. The elements in the vector are of type float. Consequently, during deserialization, certain elements need to be transformed from float encoding back to integer encoding.\n",
    "\n",
    "On the other hand, the ansatz is serialized into a matrix of $5 \\times p$ elements, where $p$ is the number of operations. This serialization approach represents each operation individually.\n",
    "\n",
    "It's important to note that serializing an Ansatz object at this level results in the loss of information regarding the number of features, operations, and qubits. "
   ]
  },
  {
   "cell_type": "code",
   "execution_count": 6,
   "id": "e10098c2-ec67-4259-97b8-a86034747dda",
   "metadata": {},
   "outputs": [
    {
     "name": "stdout",
     "output_type": "stream",
     "text": [
      "[15.     0.     1.     0.     1.     5.     0.     1.     1.     1.\n",
      "  1.     0.     1.     2.     0.123]\n",
      "[-i 1.00 * x[0] ZZ^(0,1), -i 1.00 * x[1] XX^(0,1), -i 0.12 * x[2] IX^(0,1)]\n"
     ]
    }
   ],
   "source": [
    "vector = ansatz.to_numpy()\n",
    "print(vector)\n",
    "ansatz_back = Ansatz.from_numpy(vector, n_features=N_FEATURES, n_qubits=N_QUBITS, n_operations=N_OPERATIONS, allow_midcircuit_measurement=False)\n",
    "print(ansatz_back)"
   ]
  },
  {
   "cell_type": "markdown",
   "id": "c355a97b-1df4-4ff1-9e04-6fb9fded4592",
   "metadata": {},
   "source": [
    "### Decomposition of complex gates into a product of Pauli gates\n",
    "\n",
    "We have seen that the operation is specified in terms of Pauli matrix generators, instead of being specified as the more commonly used quantum gates $U_3, CNOT$. The scheme we have chosen greatly help in analyzing the _Lie algebra_ associated with the parameterized quantum circuit, which can give some insight on the functioning of the quantum kernel, while still giving the possibility of implementing all the usual quantum gates. In fact, any gate can be decomposed into a product of many of the operations we have specified. \n",
    "\n",
    "For example, the $U_3(\\alpha, \\beta, \\gamma)$ quantum gates can be defined in terms of three rotations $R_Z, R_X, R_Z$. However, new (calculated) features might be added. Another, more important example is the  CNOT gate. It allows for a similar decomposition, requiring a $R_{XX}$ gate and some single qubit gates:"
   ]
  },
  {
   "cell_type": "code",
   "execution_count": 7,
   "id": "f13f925e-29f7-4d81-ab5f-d7d626c002ba",
   "metadata": {},
   "outputs": [],
   "source": [
    "cnot_ansatz = Ansatz(n_features=1, n_qubits=2, n_operations=13)\n",
    "cnot_ansatz.initialize_to_identity()\n",
    "# U3 with constant angles on the first qubit\n",
    "cnot_ansatz.change_operation(0, new_feature=1, new_wires=[0, 1], new_generator=\"ZI\", new_bandwidth=3*np.pi/4)\n",
    "cnot_ansatz.change_operation(1, new_feature=1, new_wires=[0, 1], new_generator=\"XI\", new_bandwidth=np.pi/2)\n",
    "cnot_ansatz.change_operation(2, new_feature=1, new_wires=[0, 1], new_generator=\"ZI\", new_bandwidth=np.pi/2)\n",
    "# U3 with constant angles on the second qubit\n",
    "cnot_ansatz.change_operation(3, new_feature=1, new_wires=[0, 1], new_generator=\"IZ\", new_bandwidth=0.0)\n",
    "cnot_ansatz.change_operation(4, new_feature=1, new_wires=[0, 1], new_generator=\"IX\", new_bandwidth=-0.24498)\n",
    "cnot_ansatz.change_operation(5, new_feature=1, new_wires=[0, 1], new_generator=\"IZ\", new_bandwidth=-np.pi)\n",
    "# XX\n",
    "cnot_ansatz.change_operation(6, new_feature=1, new_wires=[0, 1], new_generator=\"XX\", new_bandwidth=np.pi/2)\n",
    "# U3 with constant angles on the first qubit (inverse of the first group)\n",
    "cnot_ansatz.change_operation(9, new_feature=1, new_wires=[0, 1], new_generator=\"ZI\", new_bandwidth=np.pi/2)\n",
    "cnot_ansatz.change_operation(8, new_feature=1, new_wires=[0, 1], new_generator=\"XI\", new_bandwidth=np.pi/2)\n",
    "cnot_ansatz.change_operation(7, new_feature=1, new_wires=[0, 1], new_generator=\"ZI\", new_bandwidth=3*np.pi/4)\n",
    "# U3 with constant angles on the second qubit (inverse of the second group)\n",
    "cnot_ansatz.change_operation(12, new_feature=1, new_wires=[0, 1], new_generator=\"IZ\", new_bandwidth=-np.pi)\n",
    "cnot_ansatz.change_operation(11, new_feature=1, new_wires=[0, 1], new_generator=\"IX\", new_bandwidth=-1.8158)\n",
    "cnot_ansatz.change_operation(10, new_feature=1, new_wires=[0, 1], new_generator=\"IZ\", new_bandwidth=0.0)"
   ]
  },
  {
   "cell_type": "markdown",
   "id": "15c7539f-38d5-4577-9cd1-3b26885950de",
   "metadata": {},
   "source": [
    "You can check that the transformation matches with any matrix decomposer, such as the one bundled in Qiskit:"
   ]
  },
  {
   "cell_type": "code",
   "execution_count": 8,
   "id": "05c6337b-92eb-40ba-929d-ca5d25d7bc16",
   "metadata": {},
   "outputs": [
    {
     "data": {
      "text/html": [
       "<pre style=\"word-wrap: normal;white-space: pre;background: #fff0;line-height: 1.1;font-family: &quot;Courier New&quot;,Courier,monospace\">global phase: π/4\n",
       "        ┌──────────┐  ┌─────────┐┌─────────┐┌───────────┐  ┌─────────┐  »\n",
       "q0_0: ──┤ Rz(3π/4) ├──┤ Rx(π/2) ├┤ Rz(π/2) ├┤0          ├──┤ Rz(π/2) ├──»\n",
       "      ┌─┴──────────┴─┐└┬────────┤└─────────┘│  Rxx(π/2) │┌─┴─────────┴─┐»\n",
       "q0_1: ┤ Rx(-0.24498) ├─┤ Rz(-π) ├───────────┤1          ├┤ Rx(-1.8158) ├»\n",
       "      └──────────────┘ └────────┘           └───────────┘└─────────────┘»\n",
       "«      ┌─────────┐┌──────────┐\n",
       "«q0_0: ┤ Rx(π/2) ├┤ Rz(3π/4) ├\n",
       "«      └┬────────┤└──────────┘\n",
       "«q0_1: ─┤ Rz(-π) ├────────────\n",
       "«       └────────┘            </pre>"
      ],
      "text/plain": [
       "global phase: π/4\n",
       "        ┌──────────┐  ┌─────────┐┌─────────┐┌───────────┐  ┌─────────┐  »\n",
       "q0_0: ──┤ Rz(3π/4) ├──┤ Rx(π/2) ├┤ Rz(π/2) ├┤0          ├──┤ Rz(π/2) ├──»\n",
       "      ┌─┴──────────┴─┐└┬────────┤└─────────┘│  Rxx(π/2) │┌─┴─────────┴─┐»\n",
       "q0_1: ┤ Rx(-0.24498) ├─┤ Rz(-π) ├───────────┤1          ├┤ Rx(-1.8158) ├»\n",
       "      └──────────────┘ └────────┘           └───────────┘└─────────────┘»\n",
       "«      ┌─────────┐┌──────────┐\n",
       "«q0_0: ┤ Rx(π/2) ├┤ Rz(3π/4) ├\n",
       "«      └┬────────┤└──────────┘\n",
       "«q0_1: ─┤ Rz(-π) ├────────────\n",
       "«       └────────┘            "
      ]
     },
     "execution_count": 8,
     "metadata": {},
     "output_type": "execute_result"
    }
   ],
   "source": [
    "import numpy as np \n",
    "from qiskit.circuit.library import CXGate, RXXGate\n",
    "from qiskit.quantum_info.synthesis import TwoQubitBasisDecomposer\n",
    "\n",
    "decomposer = TwoQubitBasisDecomposer(RXXGate(np.pi / 2), basis_fidelity = 1.0, euler_basis='ZXZ')\n",
    "circ = decomposer(CXGate().to_matrix())\n",
    "circ.draw()"
   ]
  },
  {
   "cell_type": "markdown",
   "id": "b9334ec4-1c11-413f-a078-0832496aae1b",
   "metadata": {},
   "source": [
    "Clearly, if you absolute need to encode CNOTs (e.g. to replicate an already pre-existing experiment), consider defining a function that automatize this process. "
   ]
  },
  {
   "cell_type": "markdown",
   "id": "5ebbe61a-ed3f-4e40-82ba-31f65d2173dd",
   "metadata": {},
   "source": [
    "## Quantum circuits for the calculation of the inner product\n",
    "\n",
    "Once implemented the feature map via the parameterized quantum circuit $U(\\cdot)$, and used such an object to encode a pair of classical vectors $\\mathbf{x}, \\mathbf{x}'$, we can implement a kernel function by taking the inner product of the two vectors transformed via the quantum operation, \n",
    "$$\\kappa(\\mathbf{x}, \\mathbf{x}') = \\mathrm{Trace}[\\rho_{\\mathbf{x}} \\rho_{\\mathbf{x}'}],$$\n",
    "where the Trace function corresponds to the inner product in the Hilbert space of density matrices $\\rho$. "
   ]
  },
  {
   "cell_type": "markdown",
   "id": "fc45647e-2875-483d-94ba-c9f02f64f1d0",
   "metadata": {},
   "source": [
    "### Setup the `Kernel` object\n",
    "\n",
    "One of the main advantages of _quask_ is being compatible with many different frameworks. We work with `Kernel` objects, which are high-level descriptions of the operations we want to perform, and then these descriptions are compiled into a low-level object via one of the many quantum SDKs available. \n",
    "\n",
    "The way _quask_ manages the different implementations is via the `KernelFactory` object. We cannot directly instantiate `Kernel` objects (the class is _abstract_), instead, we use `KernelFactory.create_kernel` which has the exact same argument as `Kernel.__init__`. \n",
    "\n",
    "The role of `KernelFactory` is to choose the subclass of `Kernel`, the one that concretely implements the methods of the class on some backend, and instantiates the object. To do that, we first have to list all the available implementations. "
   ]
  },
  {
   "cell_type": "code",
   "execution_count": 9,
   "id": "cae73dda-0a7d-4976-87c3-bf9740aad059",
   "metadata": {},
   "outputs": [],
   "source": [
    "from quask.core import Ansatz, Kernel, KernelFactory, KernelType\n",
    "from quask.core_implementation import PennylaneKernel"
   ]
  },
  {
   "cell_type": "markdown",
   "id": "afbe184a-943b-4ecf-a2c6-7aa8cae830f6",
   "metadata": {},
   "source": [
    "The class `PennylaneKernel` implements the Kernel on PennyLane. It requires all the arguments of `Kernel` plus some additional information such as the name of the device we are using, and the number of shots. We can instantiate a wrapper class that already gives all the configurations. It follows the example that configures a noiseless simulator with infinite shots. "
   ]
  },
  {
   "cell_type": "raw",
   "id": "38067046-98b2-4913-b03f-9d6fdeaf3b33",
   "metadata": {},
   "source": [
    ".. warning::\n",
    "\n",
    "    You need to have installed PennyLane to instantiate the class quask.core_implementation.PennylaneKernel.\n",
    "    If you are using a different quantum SDK (Qiskit, Qibo, ...) you should configure directly the corresponding object (QiskitKernel, QiboKernel, ...). Look at the *backends* tutorial for more details. "
   ]
  },
  {
   "cell_type": "code",
   "execution_count": 14,
   "id": "6d1703ea-50e7-44b5-9964-8177d92ad7d7",
   "metadata": {},
   "outputs": [],
   "source": [
    "def create_pennylane_noiseless(ansatz: Ansatz, measurement: str, type: KernelType):\n",
    "    return PennylaneKernel(ansatz, measurement, type, device_name=\"default.qubit\", n_shots=None)"
   ]
  },
  {
   "cell_type": "markdown",
   "id": "c8b9e738-427d-4158-9d44-efe12784c192",
   "metadata": {},
   "source": [
    "Then, we must tell `KernelFactory` that there is a new implementation that it can use to create kernels. "
   ]
  },
  {
   "cell_type": "code",
   "execution_count": null,
   "id": "9ed237e3-c435-4b42-980a-e1a8f076fb83",
   "metadata": {},
   "outputs": [],
   "source": [
    "KernelFactory.add_implementation('pennylane_noiseless', create_pennylane_noiseless)"
   ]
  },
  {
   "cell_type": "markdown",
   "id": "30689f78-2739-4716-bafb-6237f8f4158a",
   "metadata": {},
   "source": [
    "### The overlap test\n",
    "\n",
    "The transformation can be implemented, at the quantum circuit level, via the _overlap test_ or _fidelity test_. Such a test consists of encoding first the data point $\\mathbf{x}$ using $U$, then the second data point $\\mathbf{x}'$ using $U^\\dagger$. When measuring in the computational basis,\n",
    "$$M = \\{ M_0 = \\ketbra{0}{0}, M_1 = \\ketbra{1}{1}, ..., M_{2^n-1} = \\ketbra{2^n-1}{2^n-1} \\},$$\n",
    "the probability of observing the outcome $M_0$ corresponds to the inner product. The kernel function obtained via the overlap test corresponds to the following equation, \n",
    "$$\\kappa(\\mathbf{x}, \\mathbf{x}') = \\mathrm{Trace}[U^\\dagger(x')U(x) \\rho_0 U^\\dagger(x)U(x') M_0].$$\n",
    "\n",
    "To estimate the inner product with precision $\\varepsilon$, we need $O(1/\\epsilon^2)$ shots. \n",
    "\n",
    "The corresponding quantum circuit is:"
   ]
  },
  {
   "cell_type": "raw",
   "id": "538784f0-703e-4502-acfe-56a74a5d606c",
   "metadata": {},
   "source": [
    ".. image:: overlap_test.png\n",
    "    :width: 300\n",
    "    :alt: Quantum circuit of the overlap test"
   ]
  },
  {
   "cell_type": "markdown",
   "id": "367fea88-8645-4d5d-9712-c7e951c44c08",
   "metadata": {},
   "source": [
    "### Performing the overlap test via the `Kernel` object\n",
    "\n",
    "We can create the function that performs the overlap test using the `Kernel` class. \n",
    "\n",
    "The first thing we need to do to create a kernel object is select the backend. "
   ]
  },
  {
   "cell_type": "code",
   "execution_count": 16,
   "id": "37e113f7-8a0b-494b-a490-313f0b719524",
   "metadata": {},
   "outputs": [],
   "source": [
    "KernelFactory.set_current_implementation('pennylane_noiseless')"
   ]
  },
  {
   "cell_type": "markdown",
   "id": "bc4a7dcb-c5cf-490a-a912-7f1454cf1a8c",
   "metadata": {},
   "source": [
    "Then, we need to specify the ansatz and the kind of test we want to use to estimate the kernel function. The overlap test corresponds to setting a measurement parameter to \"ZZ...Z\" ($n$ times the character Z), which means measuring in the computational basis, where each elements belongs to the  eigendecomposition of the Pauli matrix $Z \\otimes Z \\otimes ... \\otimes Z$. Furthermore, we need to specify the KernelType constant set to _fidelity_."
   ]
  },
  {
   "cell_type": "code",
   "execution_count": 17,
   "id": "517bf298-e731-4e7e-9384-1dbd8e836ce1",
   "metadata": {},
   "outputs": [],
   "source": [
    "kernel = KernelFactory.create_kernel(ansatz, \"Z\" * N_QUBITS, KernelType.FIDELITY)"
   ]
  },
  {
   "cell_type": "markdown",
   "id": "10cda5ae-aaa5-4990-909b-ae46b52aead4",
   "metadata": {},
   "source": [
    "It's worth noting that the kernel object belongs to the `quask.core.Kernel` class. However, we did not instantiate it directly. Instead, we utilized a `KernelFactory` class to create the kernel. This approach is employed because the `Kernel` object deals with the abstract structure of the quantum kernel. At a certain point, we'll need to convert this abstract representation into a concrete one using one of the many quantum frameworks that handle lower-level aspects, such as simulation and execution on quantum hardware. Prominent examples include Qiskit, Pennylane, and Qibo.\n",
    "\n",
    "The `KernelFactory` handles the low-level aspects of executing the quantum circuit, while the `Kernel` class manages the high-level aspects. By default, the `KernelFactory` generates a `Kernel` object with a backend based on the Pennylane framework. For instructions on setting up a different backend, please refer to the advanced _quask_ tutorials.\n",
    "\n",
    "To calculate the kernel values, simply call the `kappa` method."
   ]
  },
  {
   "cell_type": "code",
   "execution_count": 18,
   "id": "87eb269d-af19-47b7-8765-5576d4d5f1b6",
   "metadata": {},
   "outputs": [
    {
     "name": "stdout",
     "output_type": "stream",
     "text": [
      "The kernel value between x1=array([0.15985191, 0.25483345]) and x2=array([0.1139941 , 0.61940653]) is 0.96714\n"
     ]
    }
   ],
   "source": [
    "x1 = np.random.random(size=(N_FEATURES,))\n",
    "x2 = np.random.random(size=(N_FEATURES,))\n",
    "similarity = kernel.kappa(x1, x2)\n",
    "print(f\"The kernel value between {x1=} and {x2=} is {similarity:0.5f}\")"
   ]
  },
  {
   "cell_type": "markdown",
   "id": "dc6b72b2-0cec-4d93-b000-642b1f4e2c61",
   "metadata": {},
   "source": [
    "### Serialization of the Kernel objects\n",
    "\n",
    "The kernel object can be serialized into a Numpy array. When de-serializing a kernel object, the KernelFactory.create_kernel method is invoked and the default backend of KernelFactory is chosen. The default behavior of the KernelFactory class can be changed via the KernelFactory API."
   ]
  },
  {
   "cell_type": "code",
   "execution_count": 19,
   "id": "b67e1f54-40a8-45fc-a2e0-9cc2b91596cc",
   "metadata": {},
   "outputs": [
    {
     "name": "stdout",
     "output_type": "stream",
     "text": [
      "[15.0 0.0 1.0 0.0 1.0 5.0 0.0 1.0 1.0 1.0 1.0 0.0 1.0 2.0 0.123 3 3 0]\n",
      "[-i 1.00 * x[0] ZZ^(0,1), -i 1.00 * x[1] XX^(0,1), -i 0.12 * x[2] IX^(0,1)] -> ZZ\n"
     ]
    }
   ],
   "source": [
    "vector = kernel.to_numpy()\n",
    "print(vector)\n",
    "kernel_back = Kernel.from_numpy(vector, n_features=N_FEATURES, n_qubits=N_QUBITS, n_operations=N_OPERATIONS, allow_midcircuit_measurement=False)\n",
    "print(kernel_back)"
   ]
  },
  {
   "cell_type": "markdown",
   "id": "6b939125-137b-42e1-a39a-e82321179a6c",
   "metadata": {},
   "source": [
    "### The swap test\n",
    "\n",
    "The [SWAP test](https://en.wikipedia.org/wiki/Swap_test) calculates the inner product between two states $\\rho_x, \\rho_{x'}$ using a quantum circuit that has $2n+1$ qubits, $n$ qubits of each state $\\rho$. The quantum circuit for the SWAP test is the following one:"
   ]
  },
  {
   "cell_type": "raw",
   "id": "31a558e4-29aa-4a94-abdf-f8acb2c6d0e5",
   "metadata": {},
   "source": [
    ".. image:: swap_test.png\n",
    "    :width: 300\n",
    "    :alt: Quantum circuit of the swap test"
   ]
  },
  {
   "cell_type": "markdown",
   "id": "0658f7e3-3f3e-4925-bc8d-ff3b7ecdc722",
   "metadata": {},
   "source": [
    "Only the ancilla qubit is measured, and the probability of having outcome $M_0 = \\ketbra{0}{0}$ is $\\frac{1}{2} + \\mathrm{Tr}[\\rho_x \\rho_{x'}]$. It is usually preferred to use the overlap test due to the fewer qubits required. However, the SWAP test can be easily adapted to perform a partial trace, i.e. measuring a subset of the qubits, which will be useful in the next tutorial. \n",
    "\n",
    "### Performing the swap test via the Kernel object\n",
    "\n",
    "The SWAP test can be constructed just as the fidelity test. "
   ]
  },
  {
   "cell_type": "code",
   "execution_count": 20,
   "id": "f1c0286d-6c45-4ad3-a7c2-9f7807c2ce4d",
   "metadata": {},
   "outputs": [
    {
     "name": "stdout",
     "output_type": "stream",
     "text": [
      "The kernel value between x1=array([0.15985191, 0.25483345]) and x2=array([0.1139941 , 0.61940653]) is 0.98357\n"
     ]
    }
   ],
   "source": [
    "from quask.core import Kernel, KernelFactory, KernelType\n",
    "swap_kernel = KernelFactory.create_kernel(ansatz, \"Z\" * N_QUBITS, KernelType.SWAP_TEST)\n",
    "swap_similarity = swap_kernel.kappa(x1, x2)\n",
    "print(f\"The kernel value between {x1=} and {x2=} is {swap_similarity:0.5f}\")"
   ]
  },
  {
   "cell_type": "markdown",
   "id": "fdd7f387-160d-4ecc-a09e-27c56a4bc8de",
   "metadata": {},
   "source": [
    "You can check that the value calculated with the SWAP test matches the one calculated with the overlap test. "
   ]
  },
  {
   "cell_type": "markdown",
   "id": "1b364175-dc84-4856-b8da-d9183ad1e45c",
   "metadata": {},
   "source": [
    "## References \n",
    "\n",
    "\\[rml14\\] Rebentrost, Mohseni, Lloyd. \"Quantum support vector machine for \r\n",
    "big data classification.\" Physical review letters 113 (2014): 130503\r\n",
    "\n",
    "\\[hav19\\] Havlíček, Vojtěch, et al. \"Supervised learning with quantum-enhanced feature spaces.\" Nature 567.7747 (2019): 209-212.\n",
    "\n",
    "\\[sch19\\] Schuld, Maria, and Nathan Killoran. \"Quantum machine learning in feature Hilbert spaces.\" Physical review letters 122.4 (2019): 040504.\n",
    "\n",
    "\\[sch21\\] Schuld, Maria. \"Supervised quantum machine learning models are kernel methods.\" arXiv preprint arXiv:2101.11020 (2021).\n",
    "the note."
   ]
  },
  {
   "cell_type": "raw",
   "id": "31fda058-830e-446e-bb80-364f7f8af452",
   "metadata": {},
   "source": [
    ".. note::\n",
    "\n",
    "   Author's note."
   ]
  }
 ],
 "metadata": {
  "kernelspec": {
   "display_name": "Python 3 (ipykernel)",
   "language": "python",
   "name": "python3"
  },
  "language_info": {
   "codemirror_mode": {
    "name": "ipython",
    "version": 3
   },
   "file_extension": ".py",
   "mimetype": "text/x-python",
   "name": "python",
   "nbconvert_exporter": "python",
   "pygments_lexer": "ipython3",
   "version": "3.10.12"
  }
 },
 "nbformat": 4,
 "nbformat_minor": 5
}
