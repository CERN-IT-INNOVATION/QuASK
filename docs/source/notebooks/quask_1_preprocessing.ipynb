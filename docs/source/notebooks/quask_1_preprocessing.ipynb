{
 "cells": [
  {
   "cell_type": "markdown",
   "id": "2a8663c7-7a47-4d6f-9fff-ab6e81ea238c",
   "metadata": {},
   "source": [
    "# Preprocessing techniques in _quask_"
   ]
  },
  {
   "cell_type": "code",
   "execution_count": null,
   "id": "3d2840ca-5172-46c5-ad81-dbeea80257e7",
   "metadata": {},
   "outputs": [],
   "source": []
  }
 ],
 "metadata": {
  "kernelspec": {
   "display_name": "Python 3 (ipykernel)",
   "language": "python",
   "name": "python3"
  },
  "language_info": {
   "codemirror_mode": {
    "name": "ipython",
    "version": 3
   },
   "file_extension": ".py",
   "mimetype": "text/x-python",
   "name": "python",
   "nbconvert_exporter": "python",
   "pygments_lexer": "ipython3",
   "version": "3.10.12"
  }
 },
 "nbformat": 4,
 "nbformat_minor": 5
}
