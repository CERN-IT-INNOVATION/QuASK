{
 "cells": [
  {
   "cell_type": "markdown",
   "id": "6ae43e80-26bd-4505-a5f8-9e1dd36ce64c",
   "metadata": {},
   "source": [
    "# How to optimize a quantum kernel"
   ]
  },
  {
   "cell_type": "markdown",
   "id": "0711af5f-01c5-4f52-8e15-cb59871882c5",
   "metadata": {},
   "source": [
    "## Gradient-descent-based optimization of a quantum kernel"
   ]
  },
  {
   "cell_type": "markdown",
   "id": "4434546c-3e83-42f0-b243-359859e5afb4",
   "metadata": {},
   "source": [
    "## Combinatorial optimization of a quantum kernel\n",
    "\n",
    "### Bayesian optimizer"
   ]
  },
  {
   "cell_type": "markdown",
   "id": "c16aac90-e4d4-478a-b523-d5aa78a64381",
   "metadata": {},
   "source": [
    "### Greedy optimizer"
   ]
  },
  {
   "cell_type": "markdown",
   "id": "533f0c7e-ed84-40f1-b7cd-3630f3d19945",
   "metadata": {},
   "source": [
    "### Meta-heuristic optimizer"
   ]
  },
  {
   "cell_type": "markdown",
   "id": "9120aa17-11ae-48d5-b076-b24a5d82f229",
   "metadata": {},
   "source": [
    "### Reinforcement learning optimizer"
   ]
  },
  {
   "cell_type": "markdown",
   "id": "5e4afd8e-bb0b-4e67-91b8-5f880fa3f8ec",
   "metadata": {},
   "source": [
    "### Add your own criteria"
   ]
  },
  {
   "cell_type": "markdown",
   "id": "901dca4a-2580-4c84-a24e-df828028eda8",
   "metadata": {},
   "source": [
    "## Multiple kernel learning"
   ]
  },
  {
   "cell_type": "markdown",
   "id": "a4a38f64-bdf9-4ad3-b49a-2204187d7d0a",
   "metadata": {},
   "source": [
    "## References"
   ]
  },
  {
   "cell_type": "raw",
   "id": "2d91993e-0cba-43fd-a0d0-1a795cda8769",
   "metadata": {},
   "source": [
    ".. note::\n",
    "\n",
    "    Author's note"
   ]
  },
  {
   "cell_type": "code",
   "execution_count": null,
   "id": "dfe9d82f-ffc0-4e58-8f7c-10f87d9e9add",
   "metadata": {},
   "outputs": [],
   "source": []
  }
 ],
 "metadata": {
  "kernelspec": {
   "display_name": "Python 3 (ipykernel)",
   "language": "python",
   "name": "python3"
  },
  "language_info": {
   "codemirror_mode": {
    "name": "ipython",
    "version": 3
   },
   "file_extension": ".py",
   "mimetype": "text/x-python",
   "name": "python",
   "nbconvert_exporter": "python",
   "pygments_lexer": "ipython3",
   "version": "3.10.12"
  }
 },
 "nbformat": 4,
 "nbformat_minor": 5
}
