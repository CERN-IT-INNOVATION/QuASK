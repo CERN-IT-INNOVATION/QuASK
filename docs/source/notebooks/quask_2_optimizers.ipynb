{
 "cells": [
  {
   "cell_type": "markdown",
   "id": "8f06e218-3ded-4926-8fe8-7df36f35055b",
   "metadata": {},
   "source": [
    "# How to optimize a quantum kernel\n",
    "\n",
    "One of the main challenges regarding quantum kernels is the need to choose the appropriate ansatz for each different problem. When little-to-no information about a certain task is known, we can use techniques to attempt to construct a suitable quantum kernel following an optimization problem. There are two main possible approaches:\n",
    "\n",
    "1. Choosing an ansatz where some of the parameters are the usual features, while others are freely tunable parameters that are optimized according to some cost function via a stochastic gradient descent-based algorithm.\n",
    "2. Avoid making any choice and let an optimization algorithm pick the entire quantum circuit.\n",
    "\n",
    "In this tutorial, we will demonstrate how to easily implement the first technique. Furthermore, we will also discuss how to leverage _quask_ built-in features to implement the second technique. Finally, we will show how it is possible to efficiently achieve the best-performing linear combination of these kernels when dealing with multiple different kernels.\n",
    "\n",
    "## Optimization of quantum kernels in _quask_\n",
    "\n",
    "The package quask.optimizer allows to define optimization procedure over quantum kernels. The main interface is the class BaseKernelOptimizer, which needs:\n",
    "* the kernel function;\n",
    "* a kernel evaluator to use as a cost function;\n"
   ]
  },
  {
   "cell_type": "code",
   "execution_count": null,
   "id": "392d3b3b-3c63-4603-8b4d-186ab42411cb",
   "metadata": {},
   "outputs": [],
   "source": []
  },
  {
   "cell_type": "markdown",
   "id": "9b4905b1-5370-43d7-8751-4425f263617c",
   "metadata": {},
   "source": [
    "## Gradient descent-based optimization of a quantum kernel\n"
   ]
  },
  {
   "cell_type": "markdown",
   "id": "4434546c-3e83-42f0-b243-359859e5afb4",
   "metadata": {},
   "source": [
    "## Combinatorial optimization of a quantum kernel\n",
    "\n",
    "### Bayesian optimizer"
   ]
  },
  {
   "cell_type": "markdown",
   "id": "c16aac90-e4d4-478a-b523-d5aa78a64381",
   "metadata": {},
   "source": [
    "### Greedy optimizer"
   ]
  },
  {
   "cell_type": "markdown",
   "id": "533f0c7e-ed84-40f1-b7cd-3630f3d19945",
   "metadata": {},
   "source": [
    "### Meta-heuristic optimizer"
   ]
  },
  {
   "cell_type": "markdown",
   "id": "9120aa17-11ae-48d5-b076-b24a5d82f229",
   "metadata": {},
   "source": [
    "### Reinforcement learning optimizer"
   ]
  },
  {
   "cell_type": "markdown",
   "id": "5e4afd8e-bb0b-4e67-91b8-5f880fa3f8ec",
   "metadata": {},
   "source": [
    "### Add your own criteria"
   ]
  },
  {
   "cell_type": "markdown",
   "id": "901dca4a-2580-4c84-a24e-df828028eda8",
   "metadata": {},
   "source": [
    "## Multiple kernel learning"
   ]
  },
  {
   "cell_type": "markdown",
   "id": "a4a38f64-bdf9-4ad3-b49a-2204187d7d0a",
   "metadata": {},
   "source": [
    "## References"
   ]
  },
  {
   "cell_type": "raw",
   "id": "2d91993e-0cba-43fd-a0d0-1a795cda8769",
   "metadata": {},
   "source": [
    ".. note::\n",
    "\n",
    "    Author's note"
   ]
  },
  {
   "cell_type": "code",
   "execution_count": null,
   "id": "dfe9d82f-ffc0-4e58-8f7c-10f87d9e9add",
   "metadata": {},
   "outputs": [],
   "source": []
  }
 ],
 "metadata": {
  "kernelspec": {
   "display_name": "Python 3 (ipykernel)",
   "language": "python",
   "name": "python3"
  },
  "language_info": {
   "codemirror_mode": {
    "name": "ipython",
    "version": 3
   },
   "file_extension": ".py",
   "mimetype": "text/x-python",
   "name": "python",
   "nbconvert_exporter": "python",
   "pygments_lexer": "ipython3",
   "version": "3.10.12"
  }
 },
 "nbformat": 4,
 "nbformat_minor": 5
}
