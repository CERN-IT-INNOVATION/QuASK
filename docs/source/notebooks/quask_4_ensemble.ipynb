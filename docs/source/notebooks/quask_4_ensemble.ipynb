{
 "cells": [
  {
   "cell_type": "markdown",
   "id": "39bb09ba-3793-4c04-90cf-ca68c99c5ae7",
   "metadata": {},
   "source": [
    "# Ensemble of kernel machines"
   ]
  },
  {
   "cell_type": "code",
   "execution_count": null,
   "id": "5a26af7d-3f9d-4cf0-aa69-835d2badd7b1",
   "metadata": {},
   "outputs": [],
   "source": []
  }
 ],
 "metadata": {
  "kernelspec": {
   "display_name": "Python 3 (ipykernel)",
   "language": "python",
   "name": "python3"
  },
  "language_info": {
   "codemirror_mode": {
    "name": "ipython",
    "version": 3
   },
   "file_extension": ".py",
   "mimetype": "text/x-python",
   "name": "python",
   "nbconvert_exporter": "python",
   "pygments_lexer": "ipython3",
   "version": "3.10.12"
  }
 },
 "nbformat": 4,
 "nbformat_minor": 5
}
