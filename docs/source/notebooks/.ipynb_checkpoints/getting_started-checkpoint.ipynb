{
 "cells": [
  {
   "cell_type": "markdown",
   "id": "42bef169-944b-41b7-84e8-f41e6f9d62cc",
   "metadata": {},
   "source": [
    "# Getting started"
   ]
  },
  {
   "cell_type": "code",
   "execution_count": 24,
   "id": "178a88ec-e7ac-4803-897b-4e5d00761e78",
   "metadata": {},
   "outputs": [],
   "source": [
    "import sys\n",
    "sys.path.append('./src')"
   ]
  },
  {
   "cell_type": "markdown",
   "id": "00653702-d41a-41e8-a813-4f9c9b9aed1c",
   "metadata": {},
   "source": [
    "Are you curious to know if _quask_ is the right library for your project? Here is a quick and straightforward guide on how to get started using this tool. We will see:\n",
    "\n",
    "1. how to quickly install the framework;\n",
    "3. what are the main components of _quask_ and how to use them;\n",
    "4. how to solve a toy classification problem using quantum kernels via the _quask_ application programming interface.\n",
    "5. how to solve a toy classification problem using quantum kernels via the _quask_ command-line interface."
   ]
  },
  {
   "cell_type": "raw",
   "id": "6e14567c-28c2-4e86-9940-6e6a9842496c",
   "metadata": {},
   "source": [
    ".. warning::\n",
    "\n",
    "    This first tutorial illustrates the functionalities of the framework. It presumes a pre-existing knowledge of kernel methods and quantum computing. For a more beginner's level introduction, take a look at the [Learn](learn) page. "
   ]
  },
  {
   "cell_type": "markdown",
   "id": "76b42334-4f31-4391-8053-96bdac09d770",
   "metadata": {},
   "source": [
    "## Fast installation\n",
    "\n",
    "The easiest way to use _quask_ is by installing it in your Python3 environment (version >= 3.10) via the _pip_ packet manager,"
   ]
  },
  {
   "cell_type": "code",
   "execution_count": null,
   "id": "d2de250b-692b-467b-8bbe-6b555eb151e2",
   "metadata": {},
   "outputs": [],
   "source": [
    "!python3 -m pip install quask"
   ]
  },
  {
   "cell_type": "markdown",
   "id": "8ad60ede-fcb9-44ad-859f-15a03b045091",
   "metadata": {},
   "source": [
    "For more information about the installation process, you can see [here](xxx). You can check if the installation has been successful by running the command:"
   ]
  },
  {
   "cell_type": "code",
   "execution_count": null,
   "id": "ab3dc1db-c3ec-41d3-be46-7d9ccafe4b6f",
   "metadata": {},
   "outputs": [],
   "source": [
    "!python3 -m quask"
   ]
  },
  {
   "cell_type": "markdown",
   "id": "5cc35daa-bdd8-47c4-bf87-6921acdbe66b",
   "metadata": {},
   "source": [
    "In this way, _quask_ has been started as a standalone application, meaning it can be used via the command line without the need for coding. This modality is explored in depth later."
   ]
  },
  {
   "cell_type": "markdown",
   "id": "f402ee7a-93a5-4a5e-b6fe-4d5e911f9a62",
   "metadata": {},
   "source": [
    "## Hello world, quantum kernels!\n"
   ]
  },
  {
   "cell_type": "code",
   "execution_count": 12,
   "id": "8558acef-bd9e-465a-a042-43f951474b9f",
   "metadata": {},
   "outputs": [],
   "source": [
    "from quask.core import Ansatz, Kernel, KernelFactory, KernelType\n",
    "import numpy as np"
   ]
  },
  {
   "cell_type": "markdown",
   "id": "7d524a70-c7d2-4c27-b218-b1a5e5206761",
   "metadata": {},
   "source": [
    "Here, we can see the main objects of _quask_. The class `Ansatz` represents the function that maps classical data to the Hilbert space of the quantum system using a parametric quantum circuit. This class is parameterized by the number of qubits in the underlying quantum circuit, which often corresponds to the number of features (although it's not a strict rule), the number of gates applied to the quantum circuit, and the number of features that the classical data point has.\n",
    "\n",
    "The class `Kernel` represents a kernel object, which is essentially an ansatz along with additional information on how to effectively implement the quantum circuit for the entire procedure. The kernel object must be executed using one of the available backends (Qiskit, Pennylane, Qibo, etc.). To achieve this, the kernel class has been designed as an abstract object, meaning it cannot be used directly. Instead, we can use one of its subclasses, with each subclass interfacing with a particular backend. We can instantiate the concrete (non-abstract) kernel objects using the `KernelFactory` class.\n",
    "\n",
    "Since there are several ways to design a quantum kernel using a single ansatz, the `KernelType` class is an enumeration whose values indicate the kind of kernel to be implemented."
   ]
  },
  {
   "cell_type": "code",
   "execution_count": 5,
   "id": "1e8e3d9d-9b2d-47ff-b794-e8b93b6de691",
   "metadata": {},
   "outputs": [],
   "source": [
    "# Number of features in the data point to be mapped in the Hilbert space of the quantum system\n",
    "N_FEATURES = 1\n",
    "\n",
    "# Number of gates applied to the quantum circuit\n",
    "N_OPERATIONS = 1\n",
    "\n",
    "# Number of qubits of the quantum circuit\n",
    "N_QUBITS = 2\n",
    "\n",
    "# Ansatz object, representing the feature map\n",
    "ansatz = Ansatz(n_features=N_FEATURES, n_qubits=N_QUBITS, n_operations=N_OPERATIONS)"
   ]
  },
  {
   "cell_type": "markdown",
   "id": "084113fe-1a32-47b9-a8f5-dccdace1a3ea",
   "metadata": {},
   "source": [
    "The ansatz class is not immediately usable when instantiated. It needs to be initialized so that all its operations correspond to valid gates, in this case, corresponding to the identity."
   ]
  },
  {
   "cell_type": "code",
   "execution_count": 6,
   "id": "b8ff120f-fad9-4f25-9789-ca1cc5f5dc0d",
   "metadata": {},
   "outputs": [],
   "source": [
    "ansatz.initialize_to_identity()"
   ]
  },
  {
   "cell_type": "markdown",
   "id": "446beb1f-81f9-4461-a0c0-eb7c293e5a56",
   "metadata": {},
   "source": [
    "\n",
    "Each operation acts on two qubits and is defined as\n",
    "$$U(\\beta \\theta) = \\exp(-i \\beta \\frac{\\theta}{2} \\sigma_1 \\sigma_2),$$\n",
    "where the generators $\\sigma_1$ and $\\sigma_2$ correspond to the Pauli matrices $X, Y, Z$, and $\\mathrm{Id}$. When one of these generators is the identity, the gate effectively applies nontrivially to a single qubit.\n",
    "\n",
    "All the gates are parameterized by a single real-valued parameter, $\\theta$, which can optionally be rescaled by a global scaling parameter $0 < \\beta < 1$. We can characterize each parametric gate by the following:\n",
    "\n",
    "* The feature that paramet\\erizes the rotation, with $0 \\le f \\le N\\_FEATURES - 1$, or the constant feature $1$. The constant features allow us to construct non-parameterized gates.\n",
    "* A pair of generators, represented by a 2-character string.\n",
    "* The qubits on which the operation acts, denoted as $(q_1, q_2)$, where $0 \\le q_i < N\\_QUBITS$, and $q_1 \\neq q_2$. For 'single-qubit gates' with the identity as one or both generators, the qubit on which the identity is applied has a negligible effect on the transformation.\n",
    "* The scaling parameter $\\beta$."
   ]
  },
  {
   "cell_type": "code",
   "execution_count": 18,
   "id": "bf968d0d-eb19-4397-b868-1ae541c83dbc",
   "metadata": {},
   "outputs": [],
   "source": [
    "ansatz.change_operation(0, new_feature=0, new_wires=[0, 1], new_generator=\"XX\", new_bandwidth=0.9)"
   ]
  },
  {
   "cell_type": "markdown",
   "id": "af97c08c-e43d-4918-a21a-147f31085654",
   "metadata": {},
   "source": [
    "The ansatz serves as the feature map for our quantum kernel. To calculate kernel values, however, we have the opportunity to specify the method of calculation. This can be done using the fidelity test or by computing the expectation value of some observable. Additionally, we need to specify the backend to be used.\r\n",
    "\r\n",
    "Both of these tasks are managed by the `KernelFactory` object. To create the commonly used fidelity kernel, we provide the ansatz, the basis on which we will perform the measurement (typically the computational basis), and the type of kernel to the `create_kernel` method. By default, `KernelFactory` creates objects that rely on the noiseless, infinite-shot simulation of Pennylane as a backen\"\r\n"
   ]
  },
  {
   "cell_type": "code",
   "execution_count": 10,
   "id": "c9ef6a35-235a-4c80-a06c-d50366489a56",
   "metadata": {},
   "outputs": [],
   "source": [
    "kernel = KernelFactory.create_kernel(ansatz, \"Z\" * N_QUBITS, KernelType.FIDELITY)"
   ]
  },
  {
   "cell_type": "markdown",
   "id": "0ba55553-6ef2-4508-bd39-529008816550",
   "metadata": {},
   "source": [
    "To test if the kernel object function correctly we can call the kernel function on a pair of data point."
   ]
  },
  {
   "cell_type": "code",
   "execution_count": 23,
   "id": "814ee677-5dd0-400f-b9d0-3e6eaae1d357",
   "metadata": {},
   "outputs": [
    {
     "name": "stdout",
     "output_type": "stream",
     "text": [
      "The kernel value between x1 and x2 is 0.8115094744693602\n"
     ]
    }
   ],
   "source": [
    "x1 = np.array([0.001])\n",
    "x2 = np.array([0.999])\n",
    "similarity = kernel.kappa(x1, x2)\n",
    "print(\"The kernel value between x1 and x2 is\", similarity)"
   ]
  },
  {
   "cell_type": "markdown",
   "id": "d26baa0c-56f6-46b0-9e24-585abc5f1dfe",
   "metadata": {},
   "source": [
    "## Solve the iris dataset classification using _quask_"
   ]
  },
  {
   "cell_type": "markdown",
   "id": "8955d04c-497a-4771-afcf-5b8a4c66fa7c",
   "metadata": {},
   "source": [
    "We demonstrate how to integrate _quask_ into a machine learning pipeline based on the library [scikit-learn](https://scikit-learn.org/stable). This package allows us to effortlessly set up a toy classification problem that can be solved using kernel machines with quantum kernels.\n"
   ]
  },
  {
   "cell_type": "code",
   "execution_count": 25,
   "id": "0eda078b-a07a-463a-99c7-fdb1a888ac78",
   "metadata": {},
   "outputs": [],
   "source": [
    "from sklearn.datasets import load_iris\n",
    "from sklearn.svm import SVC\n",
    "from sklearn.metrics import mean_squared_error, r2_score\n",
    "from sklearn.model_selection import train_test_split\n",
    "from sklearn.preprocessing import StandardScaler\n",
    "import numpy as np"
   ]
  },
  {
   "cell_type": "markdown",
   "id": "9e528fa6-0568-4d04-8b2c-290826ac1a26",
   "metadata": {},
   "source": [
    "First, we load the dataset. It can be retrieved directly from the Python package of scikit-learn.\r\n",
    "\r\n",
    "It contains 150 samples associated with the three different subspecies of the Iris flower, with 50 samples for each subspecies. To simplify the task, we classify only the first two classes and select 10 samples for each class.\r\n",
    "\r\n",
    "Each sample has 4 real featues.\r\n"
   ]
  },
  {
   "cell_type": "code",
   "execution_count": 56,
   "id": "04903893-8c56-495b-b7e3-c866e2221533",
   "metadata": {},
   "outputs": [],
   "source": [
    "N_ELEMENTS_PER_CLASS = 20\n",
    "iris = load_iris()\n",
    "X = np.row_stack([iris.data[0:N_ELEMENTS_PER_CLASS], iris.data[50:50+N_ELEMENTS_PER_CLASS]])\n",
    "y = np.array([0] * N_ELEMENTS_PER_CLASS + [1] * N_ELEMENTS_PER_CLASS)"
   ]
  },
  {
   "cell_type": "markdown",
   "id": "87ed0d0b-9d5e-4f02-8ad8-c500951b68e9",
   "metadata": {},
   "source": [
    "We preprocess our data and divide the dataset in training and testing set."
   ]
  },
  {
   "cell_type": "code",
   "execution_count": 58,
   "id": "c8860146-d5d5-4b2d-90e0-d5f77e342578",
   "metadata": {},
   "outputs": [],
   "source": [
    "# Standardize the features\n",
    "scaler = StandardScaler()\n",
    "X = scaler.fit_transform(X)\n",
    "\n",
    "# Split the data into training and testing sets\n",
    "X_train, X_test, y_train, y_test = train_test_split(X, y, test_size=0.5, random_state=5454)"
   ]
  },
  {
   "cell_type": "markdown",
   "id": "cbc4df54-4e2c-4765-959b-af7409f17cb2",
   "metadata": {},
   "source": [
    "We then define the machine learning model to solve the classification task. Among the possibilities, we choose the Support Vector Machine. In order to use the quantum kernel, we specify we will give the kernel machine the kernel Gram matrix instead of the original features, by using the precomputed option. "
   ]
  },
  {
   "cell_type": "code",
   "execution_count": 59,
   "id": "8269657d-cc87-457e-bcd3-8c799be57dcd",
   "metadata": {},
   "outputs": [],
   "source": [
    "# Instantiate a machine learning model\n",
    "model = SVC(kernel='precomputed')"
   ]
  },
  {
   "cell_type": "markdown",
   "id": "c5c250f5-5054-41c0-8836-61db77306db2",
   "metadata": {},
   "source": [
    "We then calculate the kernel Gram matrices and train the model. "
   ]
  },
  {
   "cell_type": "code",
   "execution_count": 60,
   "id": "a739941b-20fb-402b-936f-44e7b8758e2f",
   "metadata": {},
   "outputs": [
    {
     "data": {
      "text/html": [
       "<style>#sk-container-id-1 {color: black;}#sk-container-id-1 pre{padding: 0;}#sk-container-id-1 div.sk-toggleable {background-color: white;}#sk-container-id-1 label.sk-toggleable__label {cursor: pointer;display: block;width: 100%;margin-bottom: 0;padding: 0.3em;box-sizing: border-box;text-align: center;}#sk-container-id-1 label.sk-toggleable__label-arrow:before {content: \"▸\";float: left;margin-right: 0.25em;color: #696969;}#sk-container-id-1 label.sk-toggleable__label-arrow:hover:before {color: black;}#sk-container-id-1 div.sk-estimator:hover label.sk-toggleable__label-arrow:before {color: black;}#sk-container-id-1 div.sk-toggleable__content {max-height: 0;max-width: 0;overflow: hidden;text-align: left;background-color: #f0f8ff;}#sk-container-id-1 div.sk-toggleable__content pre {margin: 0.2em;color: black;border-radius: 0.25em;background-color: #f0f8ff;}#sk-container-id-1 input.sk-toggleable__control:checked~div.sk-toggleable__content {max-height: 200px;max-width: 100%;overflow: auto;}#sk-container-id-1 input.sk-toggleable__control:checked~label.sk-toggleable__label-arrow:before {content: \"▾\";}#sk-container-id-1 div.sk-estimator input.sk-toggleable__control:checked~label.sk-toggleable__label {background-color: #d4ebff;}#sk-container-id-1 div.sk-label input.sk-toggleable__control:checked~label.sk-toggleable__label {background-color: #d4ebff;}#sk-container-id-1 input.sk-hidden--visually {border: 0;clip: rect(1px 1px 1px 1px);clip: rect(1px, 1px, 1px, 1px);height: 1px;margin: -1px;overflow: hidden;padding: 0;position: absolute;width: 1px;}#sk-container-id-1 div.sk-estimator {font-family: monospace;background-color: #f0f8ff;border: 1px dotted black;border-radius: 0.25em;box-sizing: border-box;margin-bottom: 0.5em;}#sk-container-id-1 div.sk-estimator:hover {background-color: #d4ebff;}#sk-container-id-1 div.sk-parallel-item::after {content: \"\";width: 100%;border-bottom: 1px solid gray;flex-grow: 1;}#sk-container-id-1 div.sk-label:hover label.sk-toggleable__label {background-color: #d4ebff;}#sk-container-id-1 div.sk-serial::before {content: \"\";position: absolute;border-left: 1px solid gray;box-sizing: border-box;top: 0;bottom: 0;left: 50%;z-index: 0;}#sk-container-id-1 div.sk-serial {display: flex;flex-direction: column;align-items: center;background-color: white;padding-right: 0.2em;padding-left: 0.2em;position: relative;}#sk-container-id-1 div.sk-item {position: relative;z-index: 1;}#sk-container-id-1 div.sk-parallel {display: flex;align-items: stretch;justify-content: center;background-color: white;position: relative;}#sk-container-id-1 div.sk-item::before, #sk-container-id-1 div.sk-parallel-item::before {content: \"\";position: absolute;border-left: 1px solid gray;box-sizing: border-box;top: 0;bottom: 0;left: 50%;z-index: -1;}#sk-container-id-1 div.sk-parallel-item {display: flex;flex-direction: column;z-index: 1;position: relative;background-color: white;}#sk-container-id-1 div.sk-parallel-item:first-child::after {align-self: flex-end;width: 50%;}#sk-container-id-1 div.sk-parallel-item:last-child::after {align-self: flex-start;width: 50%;}#sk-container-id-1 div.sk-parallel-item:only-child::after {width: 0;}#sk-container-id-1 div.sk-dashed-wrapped {border: 1px dashed gray;margin: 0 0.4em 0.5em 0.4em;box-sizing: border-box;padding-bottom: 0.4em;background-color: white;}#sk-container-id-1 div.sk-label label {font-family: monospace;font-weight: bold;display: inline-block;line-height: 1.2em;}#sk-container-id-1 div.sk-label-container {text-align: center;}#sk-container-id-1 div.sk-container {/* jupyter's `normalize.less` sets `[hidden] { display: none; }` but bootstrap.min.css set `[hidden] { display: none !important; }` so we also need the `!important` here to be able to override the default hidden behavior on the sphinx rendered scikit-learn.org. See: https://github.com/scikit-learn/scikit-learn/issues/21755 */display: inline-block !important;position: relative;}#sk-container-id-1 div.sk-text-repr-fallback {display: none;}</style><div id=\"sk-container-id-1\" class=\"sk-top-container\"><div class=\"sk-text-repr-fallback\"><pre>SVC(kernel=&#x27;precomputed&#x27;)</pre><b>In a Jupyter environment, please rerun this cell to show the HTML representation or trust the notebook. <br />On GitHub, the HTML representation is unable to render, please try loading this page with nbviewer.org.</b></div><div class=\"sk-container\" hidden><div class=\"sk-item\"><div class=\"sk-estimator sk-toggleable\"><input class=\"sk-toggleable__control sk-hidden--visually\" id=\"sk-estimator-id-1\" type=\"checkbox\" checked><label for=\"sk-estimator-id-1\" class=\"sk-toggleable__label sk-toggleable__label-arrow\">SVC</label><div class=\"sk-toggleable__content\"><pre>SVC(kernel=&#x27;precomputed&#x27;)</pre></div></div></div></div></div>"
      ],
      "text/plain": [
       "SVC(kernel='precomputed')"
      ]
     },
     "execution_count": 60,
     "metadata": {},
     "output_type": "execute_result"
    }
   ],
   "source": [
    "# Create a quantum kernel\n",
    "ansatz = Ansatz(n_features=4, n_qubits=4, n_operations=4)\n",
    "ansatz.initialize_to_identity()\n",
    "ansatz.change_operation(0, new_feature=0, new_wires=[0, 1], new_generator=\"XX\", new_bandwidth=0.9)\n",
    "ansatz.change_operation(1, new_feature=1, new_wires=[1, 2], new_generator=\"XX\", new_bandwidth=0.9)\n",
    "ansatz.change_operation(2, new_feature=2, new_wires=[2, 3], new_generator=\"XX\", new_bandwidth=0.9)\n",
    "ansatz.change_operation(3, new_feature=3, new_wires=[3, 0], new_generator=\"XX\", new_bandwidth=0.9)\n",
    "kernel = KernelFactory.create_kernel(ansatz, \"ZZZZ\", KernelType.FIDELITY)\n",
    "\n",
    "# Fit the model to the training data\n",
    "K_train = kernel.build_kernel(X_train, X_train)\n",
    "model.fit(K_train, y_train)"
   ]
  },
  {
   "cell_type": "markdown",
   "id": "d166a82e-be7b-49b7-90ed-a992bcfda082",
   "metadata": {},
   "source": [
    "We then use the model to predict the label of elements in the testing set. Again, we need to create the kernel Gram matrix of the elements in the testing set. "
   ]
  },
  {
   "cell_type": "code",
   "execution_count": 62,
   "id": "8d31ead9-007d-48a6-869f-757e5149ca85",
   "metadata": {},
   "outputs": [],
   "source": [
    "# Predict the labels for the test data\n",
    "K_test = kernel.build_kernel(X_test, X_train)\n",
    "y_pred = model.predict(K_test)"
   ]
  },
  {
   "cell_type": "markdown",
   "id": "522071c2-5755-489b-bdf4-7418ac1b2af2",
   "metadata": {},
   "source": [
    "Finally, we can calculate the accuracy with respect to the testing set."
   ]
  },
  {
   "cell_type": "code",
   "execution_count": 67,
   "id": "6b8ff0e5-d8ca-4a9e-b724-64df7e17f6be",
   "metadata": {},
   "outputs": [
    {
     "name": "stdout",
     "output_type": "stream",
     "text": [
      "Accuracy: 1.0\n"
     ]
    }
   ],
   "source": [
    "# Calculate the accuracy\n",
    "accuracy = np.sum(y_test == y_pred) / len(y_test)\n",
    "print(\"Accuracy:\", accuracy)"
   ]
  },
  {
   "cell_type": "markdown",
   "id": "e79c8191-1a01-4bc7-b82c-83a357494ba2",
   "metadata": {},
   "source": [
    "Among the features of _quask_ is the ability to evaluate the kernel according to criteria known in the literature. We demonstrate one possible method for evaluating our quantum kernel with respect to the Centered Kernel Target Alignment. The lower the cost, the better the kernel is suited for the task.\r\n"
   ]
  },
  {
   "cell_type": "code",
   "execution_count": 69,
   "id": "4995cefe-2b79-405a-8371-e82f9bcfcad7",
   "metadata": {},
   "outputs": [
    {
     "name": "stdout",
     "output_type": "stream",
     "text": [
      "[[1.00000000e+00 4.89292604e-02 5.61098565e-04 3.87571927e-01\n",
      "  5.45370834e-03 3.79636451e-04 5.76552136e-03 1.08603459e-01\n",
      "  2.67927862e-01 8.94773943e-02 8.98037079e-02 4.24326637e-02\n",
      "  9.35171738e-01 6.05858881e-03 6.34486816e-02 4.42964282e-01\n",
      "  7.33510591e-02 9.28627143e-01 4.34383010e-05 4.34770675e-01]\n",
      " [4.89292604e-02 1.00000000e+00 2.66233769e-01 2.17340413e-02\n",
      "  8.75294231e-01 8.23077497e-01 8.07548215e-01 1.52085452e-03\n",
      "  2.13056454e-01 4.12585574e-01 1.26047895e-01 7.48474714e-01\n",
      "  6.07933870e-02 8.50410311e-01 4.20153838e-01 5.22882217e-03\n",
      "  5.38461208e-01 3.93644055e-03 8.04601697e-01 1.83697718e-04]\n",
      " [5.61098565e-04 2.66233769e-01 1.00000000e+00 3.54465241e-03\n",
      "  3.83608235e-01 3.26408607e-01 5.76120016e-01 6.28718631e-02\n",
      "  5.28589001e-01 5.65151488e-01 6.01313112e-01 4.51458552e-01\n",
      "  1.62970659e-02 5.87594583e-01 8.67702014e-01 1.80666760e-03\n",
      "  8.12918749e-01 5.16755129e-03 5.45609430e-01 4.36547266e-03]\n",
      " [3.87571927e-01 2.17340413e-02 3.54465241e-03 1.00000000e+00\n",
      "  7.50832968e-03 7.47361610e-03 1.30470578e-03 7.50701465e-01\n",
      "  1.23857308e-01 1.61638232e-01 2.01724167e-02 9.82165842e-02\n",
      "  2.26991333e-01 2.38322936e-02 8.79582305e-02 9.49471680e-01\n",
      "  1.20398545e-01 5.02212517e-01 1.97975780e-03 9.35171738e-01]\n",
      " [5.45370834e-03 8.75294231e-01 3.83608235e-01 7.50832968e-03\n",
      "  1.00000000e+00 9.53597805e-01 9.10722663e-01 2.28325548e-02\n",
      "  1.18120808e-01 2.73646510e-01 9.25276818e-02 5.62945925e-01\n",
      "  4.38571430e-03 8.23721888e-01 4.14103943e-01 1.17677244e-04\n",
      "  5.60063357e-01 5.96859369e-03 9.56940059e-01 5.18492165e-03]\n",
      " [3.79636451e-04 8.23077497e-01 3.26408607e-01 7.47361610e-03\n",
      "  9.53597805e-01 1.00000000e+00 8.66174247e-01 1.03957344e-01\n",
      "  7.86301365e-02 1.67980531e-01 8.25828874e-02 4.31596355e-01\n",
      "  2.60365423e-03 7.25050907e-01 3.11865382e-01 3.42188598e-02\n",
      "  4.31641751e-01 2.65748298e-02 9.04150561e-01 5.74679895e-02]\n",
      " [5.76552136e-03 8.07548215e-01 5.76120016e-01 1.30470578e-03\n",
      "  9.10722663e-01 8.66174247e-01 1.00000000e+00 5.92603541e-02\n",
      "  2.01727657e-01 4.16675275e-01 1.98975392e-01 6.74874993e-01\n",
      "  1.11164327e-02 9.20594812e-01 5.74008249e-01 2.02255279e-02\n",
      "  6.68546478e-01 5.14278253e-02 9.63702286e-01 4.00515300e-02]\n",
      " [1.08603459e-01 1.52085452e-03 6.28718631e-02 7.50701465e-01\n",
      "  2.28325548e-02 1.03957344e-01 5.92603541e-02 1.00000000e+00\n",
      "  7.47453343e-04 4.38752639e-02 3.92937859e-02 3.08599161e-02\n",
      "  5.61004733e-02 1.89937463e-03 1.39376891e-04 7.93505188e-01\n",
      "  2.37867687e-03 2.44532628e-01 3.38417895e-02 7.93505188e-01]\n",
      " [2.67927862e-01 2.13056454e-01 5.28589001e-01 1.23857308e-01\n",
      "  1.18120808e-01 7.86301365e-02 2.01727657e-01 7.47453343e-04\n",
      "  1.00000000e+00 7.89402450e-01 8.80023496e-01 4.93119682e-01\n",
      "  1.54974627e-01 3.55202392e-01 7.69916994e-01 7.61312367e-02\n",
      "  6.11360934e-01 1.68214268e-01 1.60369878e-01 7.56441991e-02]\n",
      " [8.94773943e-02 4.12585574e-01 5.65151488e-01 1.61638232e-01\n",
      "  2.73646510e-01 1.67980531e-01 4.16675275e-01 4.38752639e-02\n",
      "  7.89402450e-01 1.00000000e+00 5.99726728e-01 8.40125149e-01\n",
      "  3.01654165e-02 6.34573846e-01 8.56268929e-01 1.07600751e-01\n",
      "  7.69073654e-01 5.45790939e-02 3.44767200e-01 9.30084394e-02]\n",
      " [8.98037079e-02 1.26047895e-01 6.01313112e-01 2.01724167e-02\n",
      "  9.25276818e-02 8.25828874e-02 1.98975392e-01 3.92937859e-02\n",
      "  8.80023496e-01 5.99726728e-01 1.00000000e+00 3.20331875e-01\n",
      "  3.18053719e-02 2.82488104e-01 6.95523790e-01 4.63747547e-04\n",
      "  4.96063235e-01 2.55858322e-02 1.44965418e-01 1.36417365e-03]\n",
      " [4.24326637e-02 7.48474714e-01 4.51458552e-01 9.82165842e-02\n",
      "  5.62945925e-01 4.31596355e-01 6.74874993e-01 3.08599161e-02\n",
      "  4.93119682e-01 8.40125149e-01 3.20331875e-01 1.00000000e+00\n",
      "  2.07688629e-02 8.82913053e-01 7.20908889e-01 5.80084585e-02\n",
      "  7.66990411e-01 1.23624617e-02 6.13880202e-01 3.61699023e-02]\n",
      " [9.35171738e-01 6.07933870e-02 1.62970659e-02 2.26991333e-01\n",
      "  4.38571430e-03 2.60365423e-03 1.11164327e-02 5.61004733e-02\n",
      "  1.54974627e-01 3.01654165e-02 3.18053719e-02 2.07688629e-02\n",
      "  1.00000000e+00 6.82582940e-04 1.06426067e-02 2.89020648e-01\n",
      "  1.78243187e-02 8.27034134e-01 1.67471438e-03 2.83479135e-01]\n",
      " [6.05858881e-03 8.50410311e-01 5.87594583e-01 2.38322936e-02\n",
      "  8.23721888e-01 7.25050907e-01 9.20594812e-01 1.89937463e-03\n",
      "  3.55202392e-01 6.34573846e-01 2.82488104e-01 8.82913053e-01\n",
      "  6.82582940e-04 1.00000000e+00 7.17318506e-01 3.03914937e-03\n",
      "  8.17578421e-01 3.09079697e-03 8.91750836e-01 1.49582393e-05]\n",
      " [6.34486816e-02 4.20153838e-01 8.67702014e-01 8.79582305e-02\n",
      "  4.14103943e-01 3.11865382e-01 5.74008249e-01 1.39376891e-04\n",
      "  7.69916994e-01 8.56268929e-01 6.95523790e-01 7.20908889e-01\n",
      "  1.06426067e-02 7.17318506e-01 1.00000000e+00 3.87049451e-02\n",
      "  9.44768388e-01 2.31083668e-02 5.33304985e-01 2.72592412e-02]\n",
      " [4.42964282e-01 5.22882217e-03 1.80666760e-03 9.49471680e-01\n",
      "  1.17677244e-04 3.42188598e-02 2.02255279e-02 7.93505188e-01\n",
      "  7.61312367e-02 1.07600751e-01 4.63747547e-04 5.80084585e-02\n",
      "  2.89020648e-01 3.03914937e-03 3.87049451e-02 1.00000000e+00\n",
      "  6.61413011e-02 6.16793383e-01 3.03587188e-03 9.84606676e-01]\n",
      " [7.33510591e-02 5.38461208e-01 8.12918749e-01 1.20398545e-01\n",
      "  5.60063357e-01 4.31641751e-01 6.68546478e-01 2.37867687e-03\n",
      "  6.11360934e-01 7.69073654e-01 4.96063235e-01 7.66990411e-01\n",
      "  1.78243187e-02 8.17578421e-01 9.44768388e-01 6.61413011e-02\n",
      "  1.00000000e+00 3.13692614e-02 6.79415356e-01 4.35228947e-02]\n",
      " [9.28627143e-01 3.93644055e-03 5.16755129e-03 5.02212517e-01\n",
      "  5.96859369e-03 2.65748298e-02 5.14278253e-02 2.44532628e-01\n",
      "  1.68214268e-01 5.45790939e-02 2.55858322e-02 1.23624617e-02\n",
      "  8.27034134e-01 3.09079697e-03 2.31083668e-02 6.16793383e-01\n",
      "  3.13692614e-02 1.00000000e+00 2.14014614e-02 6.18378174e-01]\n",
      " [4.34383010e-05 8.04601697e-01 5.45609430e-01 1.97975780e-03\n",
      "  9.56940059e-01 9.04150561e-01 9.63702286e-01 3.38417895e-02\n",
      "  1.60369878e-01 3.44767200e-01 1.44965418e-01 6.13880202e-01\n",
      "  1.67471438e-03 8.91750836e-01 5.33304985e-01 3.03587188e-03\n",
      "  6.79415356e-01 2.14014614e-02 1.00000000e+00 1.33895815e-02]\n",
      " [4.34770675e-01 1.83697718e-04 4.36547266e-03 9.35171738e-01\n",
      "  5.18492165e-03 5.74679895e-02 4.00515300e-02 7.93505188e-01\n",
      "  7.56441991e-02 9.30084394e-02 1.36417365e-03 3.61699023e-02\n",
      "  2.83479135e-01 1.49582393e-05 2.72592412e-02 9.84606676e-01\n",
      "  4.35228947e-02 6.18378174e-01 1.33895815e-02 1.00000000e+00]]\n",
      "The cost according to the Centered-KTA is: -0.2798265561667427\n"
     ]
    }
   ],
   "source": [
    "from quask.evaluator import CenteredKernelAlignmentEvaluator\n",
    "ce = CenteredKernelAlignmentEvaluator()\n",
    "cost = ce.evaluate(None, K_train, X_train, y_train)\n",
    "print(\"The cost according to the Centered-KTA is:\", cost)"
   ]
  },
  {
   "cell_type": "markdown",
   "id": "633c97d9-893c-481b-b152-8a97918aac4d",
   "metadata": {},
   "source": [
    "## Solve the iris dataset classification using _quask_ from the command line\n",
    "\n",
    "TODO"
   ]
  }
 ],
 "metadata": {
  "kernelspec": {
   "display_name": "Python 3 (ipykernel)",
   "language": "python",
   "name": "python3"
  },
  "language_info": {
   "codemirror_mode": {
    "name": "ipython",
    "version": 3
   },
   "file_extension": ".py",
   "mimetype": "text/x-python",
   "name": "python",
   "nbconvert_exporter": "python",
   "pygments_lexer": "ipython3",
   "version": "3.10.12"
  }
 },
 "nbformat": 4,
 "nbformat_minor": 5
}
