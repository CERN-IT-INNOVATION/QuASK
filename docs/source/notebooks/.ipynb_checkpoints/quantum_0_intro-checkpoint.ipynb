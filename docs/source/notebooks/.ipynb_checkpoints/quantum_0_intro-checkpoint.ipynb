{
 "cells": [
  {
   "cell_type": "markdown",
   "id": "dedc06c6-36d6-41c5-a196-ca9a30a99491",
   "metadata": {},
   "source": [
    "# Quantum kernels "
   ]
  },
  {
   "cell_type": "code",
   "execution_count": 27,
   "id": "ab05cb1d-619d-4b67-877e-b07ae538aeb1",
   "metadata": {},
   "outputs": [],
   "source": [
    "import sys\n",
    "import os\n",
    "# to import quask, move from docs/source/notebooks to src\n",
    "# sys.path.append('../../../src')"
   ]
  },
  {
   "cell_type": "markdown",
   "id": "127ef4d1-53e4-4605-b3ab-9fc86ccf5217",
   "metadata": {},
   "source": [
    "The quantum kernel, in its first proposal, maps the classical data into the Hilbert space of a quantum system. More intro..."
   ]
  },
  {
   "cell_type": "markdown",
   "id": "a3e5d70e-da11-4d29-84a8-0d7d909f6c1d",
   "metadata": {},
   "source": [
    "## Parameterized quantum circuits as feature maps\n",
    "\n",
    "A parameterized quantum circuit, which is a function mapping a classical vector of features $\\mathbf{x} \\in \\mathbb{R}^d$ to a unitary operator $U(\\mathbf{x})$, corresponds to the feature map in the classical machine learning setting. We start the computation in the initial state $\\rho_0$, which is usually the $\\ketbra{0}{0}$ pure density matrix, and then evolve the initial state via the parametric unitary whose arguments correspond to the feature of the first data point, \n",
    "$$\\rho_{\\mathbf{x}} = U^\\dagger(\\mathbf{x}) \\rho_0 U(\\mathbf{x}).$$\n",
    "\n",
    "### The `Operator` class\n",
    "\n",
    "Firstly, we will see how to implement the feature map in _quask_. The object that implements $U(\\cdot)$ is the `Ansatz` class, and each of the gates of the underlying quantum circuit is an `Operation`. "
   ]
  },
  {
   "cell_type": "code",
   "execution_count": 31,
   "id": "49efd83b-24b1-4425-9a8a-e7b89fed0be0",
   "metadata": {},
   "outputs": [],
   "source": [
    "from quask.core import Operation\n",
    "import numpy as np"
   ]
  },
  {
   "cell_type": "markdown",
   "id": "046bbb11-c2e2-42d7-9a4b-59b5d96aacde",
   "metadata": {},
   "source": [
    "Any operation corresponds to a two-qubit gate in the form\n",
    "$$\n",
    "U(\\theta) = \\exp\\left(-i \\frac{\\beta \\theta}{2} \\sigma_1^{(p)} \\sigma_2^{(q)}\\right),\n",
    "$$\n",
    "with $\\theta \\in \\mathbb{R}$ being the single real value that parameterizes the unitary rotation. The operation is also characterized by its generators, $\\sigma_1$ and $\\sigma_2$, the qubits on which the operation is applied, $p$ and $q$, and a scaling constant $\\beta$.\n",
    "\n",
    "The parameter $\\theta$ corresponds to one of the components of $\\mathbf{x} \\in \\mathbb{R}^d$ and can be identified with the index $i \\in \\{0, \\ldots, d-1\\}$. Some works have assigned a function of the parameters of $\\mathbf{x}$, such as $(\\mathbf{x}_1 - \\pi)(\\mathbf{x}_2 - \\pi)$. This can be accomplished by adding a calculated feature to $\\mathbf{x}$, $\\mathbf{x}'_d \\leftarrow (\\mathbf{x}_1 - \\pi)(\\mathbf{x}_2 - \\pi)$. Then, $\\mathbf{x}' \\in \\mathbb{R}^{d+1}$. Furthermore, to allow the action of constant gates, the feature of index $i = d$ corresponds to the constant $1$. By fixing the constant feature and an arbitrary value of $\\beta$, one can define any rotational angle.\n",
    "\n",
    "The generators $\\sigma_1$ and $\\sigma_2$ correspond to one of the Pauli matrices: $X$, $Y$, $Z$, or $\\mathrm{Id}$. For example, if $\\sigma_1 = \\sigma_2 = X$, the transformation corresponds to an $R_{XX}$ rotation, while for $\\sigma_1^{(p)} = X$ and $\\sigma_2^{(q)} = \\mathrm{Id}$, the transformation corresponds to a single-qubit gate acting non-trivially on qubit $p$ via an $R_X$ rotation, while the transformation on qubit $q$ is vacuous.\n",
    "\n",
    "Clearly, $p$ and $q$ are in $\\{0, 1, \\ldots, n-1\\}$ where $n$ is the number of qubits in the quantum circuit, and $p \\neq q$. Due to the design of our API, you need to always specify the qubit on which any transformation acts, even if the corresponding generator is the identity. This aspect, although unnecessary at this stage, simplifies other advanced operations available in _quask_, such as the automatic discovery of quantum kernels.\n",
    "\n",
    "Finally, the scaling constant $0 \\leq \\beta \\leq 1$ is a \"bandwidth\" and is used for different purposes. When used on a constant gate (e.g., non-rotational, with feature index equal to $d$), it allows arbitrary rotations. When used on parameterized gates, it can limit the \"expressibility\" of the feature map, an aspect that is studied in great detail later.\n"
   ]
  },
  {
   "cell_type": "code",
   "execution_count": 35,
   "id": "235a0487-ad2d-40e8-a02f-d4752bdaef73",
   "metadata": {},
   "outputs": [
    {
     "name": "stdout",
     "output_type": "stream",
     "text": [
      "-i 0.12 * x[1] ZZ^(0,1)\n"
     ]
    }
   ],
   "source": [
    "# Define some information about the parameterized quantum circuit\n",
    "N_FEATURES = 2\n",
    "N_QUBITS = 2\n",
    "\n",
    "# Create a random operation\n",
    "allowed_generators = Operation.PAULI_GENERATORS\n",
    "generators = np.random.choice(allowed_generators)\n",
    "\n",
    "allowed_qubits = list(range(N_QUBITS))\n",
    "wires = np.random.choice(allowed_qubits, 2, replace=False)\n",
    "\n",
    "allowed_features_plus_constant_element = list(range(N_FEATURES + 1))\n",
    "feature = np.random.choice(allowed_features_plus_constant_element)\n",
    "\n",
    "bandwidth = np.random.uniform(0.0, 1.0)\n",
    "\n",
    "operation = Operation(generators, wires, feature, bandwidth)\n",
    "print(operation)"
   ]
  },
  {
   "cell_type": "markdown",
   "id": "eb73cba1-6195-42af-b623-d4888d16c6cf",
   "metadata": {},
   "source": [
    "### The `Ansatz` class\n",
    "\n",
    "An `Ansatz` is a sequence of parameterized quantum gates. This class wraps individual operations and performs consistency checks to ensure the validity of each operation. To accomplish this, the Ansatz object contains shared information about the quantum circuit, which need not be redundantly repeated for each operation. This shared information includes:\n",
    "the number of features $d$ in the classical data vector, \n",
    "the total number of operations in the quantum circuit, and\n",
    "the number of qubits in the quantum system.\n",
    "\n",
    "By storing these details at the `Ansatz` level, we streamline the management and validation of operations, ensuring coherence and consistency within the ansatz."
   ]
  },
  {
   "cell_type": "code",
   "execution_count": 29,
   "id": "2b79a211-d202-415e-866d-c55fc26b2105",
   "metadata": {},
   "outputs": [],
   "source": [
    "from quask.core import Ansatz\n",
    "N_FEATURES = 2\n",
    "N_OPERATIONS = 3\n",
    "N_QUBITS = 2\n",
    "ansatz = Ansatz(n_features=N_FEATURES, n_qubits=N_QUBITS, n_operations=N_OPERATIONS)"
   ]
  },
  {
   "cell_type": "markdown",
   "id": "c3fb34b0-3fe7-4a81-935c-294543dffe6f",
   "metadata": {},
   "source": [
    "The `Ansatz` object requires to be initialized, and subsequently, each operation, distinct from the identity transformation, needs to be configured.\n"
   ]
  },
  {
   "cell_type": "code",
   "execution_count": 40,
   "id": "38587449-d15d-4a7e-ab80-986d3d0d8df5",
   "metadata": {},
   "outputs": [],
   "source": [
    "ansatz.initialize_to_identity()\n",
    "\n",
    "# parameterized rotation R_{ZZ}(x_0) on the qubits 0, 1\n",
    "ansatz.change_operation(0, new_feature=0, new_wires=[0, 1], new_generator=\"ZZ\", new_bandwidth=1.0)\n",
    "\n",
    "# parameterized rotation R_{XX}(x_1) on the qubits 0, 1\n",
    "ansatz.change_operation(1, new_feature=1, new_wires=[0, 1], new_generator=\"XX\", new_bandwidth=1.0)\n",
    "\n",
    "# constant R_x(0.123) of the qubit 1 (the second)\n",
    "ansatz.change_operation(2, new_feature=2, new_wires=[0, 1], new_generator=\"IX\", new_bandwidth=0.123)"
   ]
  },
  {
   "cell_type": "markdown",
   "id": "c355a97b-1df4-4ff1-9e04-6fb9fded4592",
   "metadata": {},
   "source": [
    "### Decomposition of complex gates into a product of Pauli gates\n",
    "\n",
    "We have seen that the operation is specified in terms of Pauli matrix generators, instead of being specified as the more commonly used quantum gates $U_3, CNOT$. The scheme we have chosen greatly help in analyzing the _Lie algebra_ associated with the parameterized quantum circuit, which can give some insight on the functioning of the quantum kernel, while still giving the possibility of implementing all the usual quantum gates. In fact, any gate can be decomposed into a product of many of the operations we have specified. "
   ]
  },
  {
   "cell_type": "markdown",
   "id": "3706151d-b144-414f-a36b-52756a1c3858",
   "metadata": {},
   "source": [
    "For example, the $U_3(\\alpha, \\beta, \\gamma)$ quantum gates can be defined in terms of three rotations $R_Z, R_X, R_Z$:"
   ]
  },
  {
   "cell_type": "code",
   "execution_count": null,
   "id": "d6c9b5cd-4565-491a-8ffc-a77baae46c32",
   "metadata": {},
   "outputs": [],
   "source": [
    "# TODO"
   ]
  },
  {
   "cell_type": "markdown",
   "id": "06c1d4de-e979-4b61-9a96-ad5338f82a2f",
   "metadata": {},
   "source": [
    "As another example, the CNOT gate allows for a similar decomposition, requiring a $R_{XX}$ gate and four $U_3$ gates (each of which is decomposed in $ZXZ$):"
   ]
  },
  {
   "cell_type": "code",
   "execution_count": null,
   "id": "05c6337b-92eb-40ba-929d-ca5d25d7bc16",
   "metadata": {},
   "outputs": [],
   "source": [
    "import numpy as np \n",
    "from qiskit.circuit.library import CXGate, RXXGate\n",
    "from qiskit.quantum_info.synthesis import TwoQubitBasisDecomposer\n",
    "\n",
    "decomposer = TwoQubitBasisDecomposer(RXXGate(np.pi / 2), basis_fidelity = 1.0, euler_basis='ZXZ')\n",
    "circ = decomposer(CXGate().to_matrix())\n",
    "circ.draw()\n",
    "# TODO"
   ]
  },
  {
   "cell_type": "markdown",
   "id": "8505300d-2219-4e2e-98a6-f489acf3f1fd",
   "metadata": {},
   "source": [
    "### Serialization of the Ansatz objects\n",
    "\n",
    "Both Operation and Ansatz can be serialized into NumPy arrays. The Operation is serialized into a vector of 5 elements, where a pair of generators corresponds to a single element. The vector includes the two qubits, the feature, and the bandwidth. The elements in the vector are of type float. Consequently, during deserialization, certain elements need to be transformed from float encoding back to integer encoding.\n",
    "\n",
    "On the other hand, the ansatz is serialized into a matrix of $5 \\times p$ elements, where $p$ is the number of operations. This serialization approach represents each operation individually.\n",
    "\n",
    "It's important to note that serializing an Ansatz object at this level results in the loss of information regarding the number of features, operations, and qubits. "
   ]
  },
  {
   "cell_type": "code",
   "execution_count": 57,
   "id": "f3b9d7dd-5895-4e09-965b-cb6f13403456",
   "metadata": {},
   "outputs": [
    {
     "data": {
      "text/plain": [
       "array([15.   ,  0.   ,  1.   ,  0.   ,  1.   ,  5.   ,  0.   ,  1.   ,\n",
       "        1.   ,  1.   ,  1.   ,  0.   ,  1.   ,  2.   ,  0.123])"
      ]
     },
     "execution_count": 57,
     "metadata": {},
     "output_type": "execute_result"
    }
   ],
   "source": [
    "vector = ansatz.to_numpy()\n",
    "vector"
   ]
  },
  {
   "cell_type": "code",
   "execution_count": 58,
   "id": "64b68a99-1ec7-4f9a-bcbc-9829087f84ca",
   "metadata": {},
   "outputs": [
    {
     "data": {
      "text/plain": [
       "[-i 1.00 * x[0] ZZ^(0,1), -i 1.00 * x[1] XX^(0,1), -i 0.12 * x[2] IX^(0,1)]"
      ]
     },
     "execution_count": 58,
     "metadata": {},
     "output_type": "execute_result"
    }
   ],
   "source": [
    "ansatz_back = Ansatz.from_numpy(vector, n_features=N_FEATURES, n_qubits=N_QUBITS, n_operations=N_OPERATIONS, allow_midcircuit_measurement=False)\n",
    "ansatz_back"
   ]
  },
  {
   "cell_type": "markdown",
   "id": "5ebbe61a-ed3f-4e40-82ba-31f65d2173dd",
   "metadata": {},
   "source": [
    "## Quantum circuits for the calculation of the inner product\n",
    "\n",
    "Once implemented the feature map via the parameterized quantum circuit $U(\\cdot)$, and used such an object to encode a pair of classical vectors $\\mathbf{x}, \\mathbf{x}'$, we can implement a kernel function by taking the inner product of the two vectors transformed via the quantum operation, \n",
    "$$\\kappa(\\mathbf{x}, \\mathbf{x}') = \\mathrm{Trace}[\\rho_{\\mathbf{x}} \\rho_{\\mathbf{x}'}],$$\n",
    "where the Trace function corresponds to the inner product in the Hilbert space of density matrices $\\rho$. \n",
    "\n",
    "### The overlap test\n",
    "\n",
    "The transformation can be implemented, at the quantum circuit level, via the _overlap test_ or _fidelity test_. Such a test consists of encoding first the data point $\\mathbf{x}$ using $U$, then the second data point $\\mathbf{x}'$ using $U^\\dagger$. When measuring in the computational basis,\n",
    "$$M = \\{ M_0 = \\ketbra{0}{0}, M_1 = \\ketbra{1}{1}, ..., M_{2^n-1} = \\ketbra{2^n-1}{2^n-1} \\},$$\n",
    "the probability of observing the outcome $M_0$ corresponds to the inner product. The kernel function obtained via the overlap test corresponds to the following equation, \n",
    "$$\\kappa(\\mathbf{x}, \\mathbf{x}') = \\mathrm{Trace}[U^\\dagger(x')U(x) \\rho_0 U^\\dagger(x)U(x') M_0].$$\n",
    "\n",
    "To estimate the inner product with precision $\\varepsilon$, we need $O(1/\\epsilon^2)$ shots. \n",
    "\n",
    "The corresponding quantum circuit is:"
   ]
  },
  {
   "cell_type": "raw",
   "id": "7046dbe1-e35a-47eb-bae9-aa21a142dea9",
   "metadata": {},
   "source": [
    ".. raw:: html\n",
    "    <img src=\"data:image/png;base64,{im}\" />"
   ]
  },
  {
   "cell_type": "markdown",
   "id": "367fea88-8645-4d5d-9712-c7e951c44c08",
   "metadata": {},
   "source": [
    "### Performing the overlap test via the `Kernel` object\n",
    "\n",
    "We can create the function that performs the overlap test using the Kernel class. We need to specify the ansatz and the kind of test we want to use to estimate the kernel function. The overlap test corresponds to setting a measurement parameter to \"ZZ...Z\" ($n$ times the character Z), which means measuring in the computational basis, where each elements belongs to the  eigendecomposition of the Pauli matrix $Z \\otimes Z \\otimes ... \\otimes Z$. Furthermore, we need to specify the KernelType constant set to _fidelity_."
   ]
  },
  {
   "cell_type": "code",
   "execution_count": 44,
   "id": "517bf298-e731-4e7e-9384-1dbd8e836ce1",
   "metadata": {},
   "outputs": [],
   "source": [
    "from quask.core import Kernel, KernelFactory, KernelType\n",
    "kernel = KernelFactory.create_kernel(ansatz, \"Z\" * N_QUBITS, KernelType.FIDELITY)"
   ]
  },
  {
   "cell_type": "markdown",
   "id": "10cda5ae-aaa5-4990-909b-ae46b52aead4",
   "metadata": {},
   "source": [
    "It's worth noting that the kernel object belongs to the `quask.core.Kernel` class. However, we did not instantiate it directly. Instead, we utilized a `KernelFactory` class to create the kernel. This approach is employed because the `Kernel` object deals with the abstract structure of the quantum kernel. At a certain point, we'll need to convert this abstract representation into a concrete one using one of the many quantum frameworks that handle lower-level aspects, such as simulation and execution on quantum hardware. Prominent examples include Qiskit, Pennylane, and Qibo.\n",
    "\n",
    "The `KernelFactory` handles the low-level aspects of executing the quantum circuit, while the `Kernel` class manages the high-level aspects. By default, the `KernelFactory` generates a `Kernel` object with a backend based on the Pennylane framework. For instructions on setting up a different backend, please refer to the advanced _quask_ tutorials.\n",
    "\n",
    "To calculate the kernel values, simply call the `kappa` method."
   ]
  },
  {
   "cell_type": "code",
   "execution_count": 53,
   "id": "87eb269d-af19-47b7-8765-5576d4d5f1b6",
   "metadata": {},
   "outputs": [
    {
     "name": "stdout",
     "output_type": "stream",
     "text": [
      "The kernel value between x1=array([0.45526215, 0.06695402]) and x2=array([0.07777086, 0.6969737 ]) is 0.90401\n"
     ]
    }
   ],
   "source": [
    "x1 = np.random.random(size=(N_FEATURES,))\n",
    "x2 = np.random.random(size=(N_FEATURES,))\n",
    "similarity = kernel.kappa(x1, x2)\n",
    "print(f\"The kernel value between {x1=} and {x2=} is {similarity:0.5f}\")"
   ]
  },
  {
   "cell_type": "markdown",
   "id": "dc6b72b2-0cec-4d93-b000-642b1f4e2c61",
   "metadata": {},
   "source": [
    "### Serialization of the Kernel objects\n",
    "\n",
    "The kernel object can be serialized too into a Numpy array. When de-serializing a kernel object, the KernelFactory.create_kernel method is invoked and the default backend of KernelFactory is chosen. The defualt behaviour of the KernelFactor class can be changed via the KernelFactory API."
   ]
  },
  {
   "cell_type": "code",
   "execution_count": 47,
   "id": "b67e1f54-40a8-45fc-a2e0-9cc2b91596cc",
   "metadata": {},
   "outputs": [
    {
     "name": "stdout",
     "output_type": "stream",
     "text": [
      "[15.0 0.0 1.0 0.0 1.0 5.0 0.0 1.0 1.0 1.0 1.0 0.0 1.0 2.0 0.123 3 3 0]\n",
      "[-i 1.00 * x[0] ZZ^(0,1), -i 1.00 * x[1] XX^(0,1), -i 0.12 * x[2] IX^(0,1)] -> ZZ\n"
     ]
    }
   ],
   "source": [
    "vector = kernel.to_numpy()\n",
    "print(vector)\n",
    "kernel_back = Kernel.from_numpy(vector, n_features=N_FEATURES, n_qubits=N_QUBITS, n_operations=N_OPERATIONS, allow_midcircuit_measurement=False)\n",
    "print(kernel_back)"
   ]
  },
  {
   "cell_type": "markdown",
   "id": "6b939125-137b-42e1-a39a-e82321179a6c",
   "metadata": {},
   "source": [
    "### The swap test\n",
    "\n",
    "TODO \n",
    "\n",
    "### Performing the swap test via the Kernel object\n",
    "\n",
    "TODO AND NOT IMPLEMENTED YET\n"
   ]
  },
  {
   "cell_type": "markdown",
   "id": "1b364175-dc84-4856-b8da-d9183ad1e45c",
   "metadata": {},
   "source": [
    "## References and acknowledgements"
   ]
  },
  {
   "cell_type": "code",
   "execution_count": null,
   "id": "8f5f1911-e3a6-46cc-bc0c-80545159ab98",
   "metadata": {},
   "outputs": [],
   "source": []
  }
 ],
 "metadata": {
  "kernelspec": {
   "display_name": "Python 3 (ipykernel)",
   "language": "python",
   "name": "python3"
  },
  "language_info": {
   "codemirror_mode": {
    "name": "ipython",
    "version": 3
   },
   "file_extension": ".py",
   "mimetype": "text/x-python",
   "name": "python",
   "nbconvert_exporter": "python",
   "pygments_lexer": "ipython3",
   "version": "3.10.12"
  }
 },
 "nbformat": 4,
 "nbformat_minor": 5
}
