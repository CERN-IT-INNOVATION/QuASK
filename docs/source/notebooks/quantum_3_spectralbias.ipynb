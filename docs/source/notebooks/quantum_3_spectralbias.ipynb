{
 "cells": [
  {
   "cell_type": "markdown",
   "id": "5dc0bff7-da04-4e81-8354-9762a3f03f11",
   "metadata": {},
   "source": [
    "# Spectral bias in quantum kernels"
   ]
  },
  {
   "cell_type": "code",
   "execution_count": null,
   "id": "ae9e73ec-df40-4720-8436-1fa0f50016c5",
   "metadata": {},
   "outputs": [],
   "source": []
  }
 ],
 "metadata": {
  "kernelspec": {
   "display_name": "Python 3 (ipykernel)",
   "language": "python",
   "name": "python3"
  },
  "language_info": {
   "codemirror_mode": {
    "name": "ipython",
    "version": 3
   },
   "file_extension": ".py",
   "mimetype": "text/x-python",
   "name": "python",
   "nbconvert_exporter": "python",
   "pygments_lexer": "ipython3",
   "version": "3.10.12"
  }
 },
 "nbformat": 4,
 "nbformat_minor": 5
}
