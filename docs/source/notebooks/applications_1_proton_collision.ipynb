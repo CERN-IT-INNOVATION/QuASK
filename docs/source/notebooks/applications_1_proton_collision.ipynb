{
 "cells": [
  {
   "cell_type": "markdown",
   "id": "fac01518-6cfa-4bb8-aec0-c68c9ba8a6a4",
   "metadata": {},
   "source": [
    "# Anomaly detection in proton collision"
   ]
  },
  {
   "cell_type": "code",
   "execution_count": null,
   "id": "ff762d24-603b-4db3-9989-fa6cdb9300a4",
   "metadata": {},
   "outputs": [],
   "source": []
  }
 ],
 "metadata": {
  "kernelspec": {
   "display_name": "Python 3 (ipykernel)",
   "language": "python",
   "name": "python3"
  },
  "language_info": {
   "codemirror_mode": {
    "name": "ipython",
    "version": 3
   },
   "file_extension": ".py",
   "mimetype": "text/x-python",
   "name": "python",
   "nbconvert_exporter": "python",
   "pygments_lexer": "ipython3",
   "version": "3.10.12"
  }
 },
 "nbformat": 4,
 "nbformat_minor": 5
}
