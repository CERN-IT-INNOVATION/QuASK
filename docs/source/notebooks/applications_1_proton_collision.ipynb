{
 "cells": [
  {
   "cell_type": "markdown",
   "id": "fac01518-6cfa-4bb8-aec0-c68c9ba8a6a4",
   "metadata": {},
   "source": [
    "# Anomaly detection in proton collision"
   ]
  },
  {
   "cell_type": "code",
   "execution_count": null,
   "id": "3a8eca37-1eb6-48b2-a0f5-df66b2c6be33",
   "metadata": {},
   "outputs": [],
   "source": [
    "import numpy as np\n",
    "from sklearn.model_selection import train_test_split\n",
    "from sklearn.svm import SVC"
   ]
  },
  {
   "cell_type": "code",
   "execution_count": null,
   "id": "bb3bc60b-ce21-4642-827c-c39f908b9b95",
   "metadata": {},
   "outputs": [],
   "source": [
    "# !pip install quask==2.0.0-alpha1"
   ]
  },
  {
   "cell_type": "code",
   "execution_count": null,
   "id": "5c78eeef-f2d6-4f7e-b955-e40cf45059ba",
   "metadata": {},
   "outputs": [],
   "source": [
    "import quask\n",
    "from quask.core import Ansatz, Kernel, KernelFactory, KernelType\n",
    "from quask.core_implementation import QiskitKernel"
   ]
  },
  {
   "cell_type": "markdown",
   "id": "cf5ce268-6688-415b-998f-f8b51b86e12f",
   "metadata": {},
   "source": [
    "## Introduction\n",
    "\n",
    "We illustrate an application of _quask_ in High Energy Physics (HEP): specifically, the detection of anomalies in proton collision events. Successfully addressing this task is crucial for advancing our comprehension of novel phenomena, with the potential to shed light on enduring questions within the Standard Model of particle physics—an integral focus of the LHC (Large Hadron Collider) physics program objectives. \n",
    "\n",
    "For a more comprehensive introduction, see \\[woz23\\], \\[sch23\\], \\[inc23\\]."
   ]
  },
  {
   "cell_type": "markdown",
   "id": "c325366c-19ce-4b19-9c04-847734c8b191",
   "metadata": {},
   "source": [
    "## Loading the dataset\n",
    "\n",
    "### How the dataset has been constructed\n",
    "\n",
    "The dataset consists of Monte Carlo simulated samples of standard model physics with the addition of BSM processes related to the actual sensitivity of LHC experiments. \n",
    "To allow a realistic loading and analysis of the adopted dataset on current quantum devices the data are mapped to a latent representation of reduced dimensionality using an autoencoder model.\n",
    "\n",
    "The datasets used in this work are publicly available at [pie23], it represents a dijet collision event. Each jet contains 100 particles and each particle is described by three spatial coordinates for a total of 300 features. The BSM processes (aka anomalies) to benchmark the model performance are: Randall-Sundrum gravitons decaying into W-bosons (narrow G), broad Randall-Sundrum gravitons decaying into W-bosons (broad G), and a scalar boson A decaying into Higgs and Z bosons ($A \\to HZ$). \n",
    "Events are produced with PYTHIA, Jets are clustered from reconstructed particles using the anti-kT clustering algorithm, with typical kinematic cut emulating the effect of a typical LHC online event selection. Subsequently, data are processed with DELPHES to emulate detector effects, specifically with the adoption of CMS configuration card. \n",
    "Then, this huge dataset is manipulated using a classical autoencoder that is trained to compress particle jet objects individually without access to truth labels. This approach is preferred over the more standard PCA method due to its ability to capture nonlinear relationships within the data. The output dimension of the autoencoder is the _latent dimension_.\n",
    "We have used the pre-processed dataset, after the simulation and the autoencoding. These datasets takes the form $\\{ ({x}^{(i)}, y^{(i)}) \\in \\mathbb{R}^{2\\ell} \\times \\{\\mathrm{sm}, \\mathrm{bsm}\\}\\}_{i=1}^m$. The factor of $2\\ell$ arises from the fact that we are studying dijet events. As a result, we have $\\ell$ features for each jet.\n",
    "\n",
    "For this tutorial, we have subsampled the smallest useful subset of this huge dataset. It results in a background signal and one single BSM signal. \n",
    "\n",
    "### Download \n",
    "\n",
    "We can load a HEP dataset. This dataset is proton collision and compares the predictions of the standard model (`background_subsampled.npy`) with the prediction of A->HZ decay (`signal_AtoH_to_ZZZ_subsampled.npy`). These files are a small subset of the true one, built for educational purposes only."
   ]
  },
  {
   "cell_type": "code",
   "execution_count": null,
   "id": "ff762d24-603b-4db3-9989-fa6cdb9300a4",
   "metadata": {},
   "outputs": [],
   "source": [
    "!curl \"https://zenodo.org/records/10570949/files/background_subsampled.npy?download=1\" --output 'background_subsampled.npy'"
   ]
  },
  {
   "cell_type": "code",
   "execution_count": null,
   "id": "c392c5b8-1e19-4fe6-bcff-59c357f03818",
   "metadata": {},
   "outputs": [],
   "source": [
    "!curl \"https://zenodo.org/records/10570949/files/signal_AtoH_to_ZZZ_subsampled.npy?download=1\" --output 'signal_AtoH_to_ZZZ_subsampled.npy'"
   ]
  },
  {
   "cell_type": "markdown",
   "id": "d82cfcd9-edf6-44be-8f69-9583ae21885c",
   "metadata": {},
   "source": [
    "Once downloaded the files, they can be easily loaded via `numpy`."
   ]
  },
  {
   "cell_type": "code",
   "execution_count": null,
   "id": "2ec3a097-1c42-43c9-9c56-3d45a0af3205",
   "metadata": {},
   "outputs": [],
   "source": [
    "qX1 = np.load('background_subsampled.npy')\n",
    "qX2 = np.load('signal_AtoH_to_ZZZ_subsampled.npy')"
   ]
  },
  {
   "cell_type": "markdown",
   "id": "d8177f1d-a30d-407a-bb53-33efb5275424",
   "metadata": {},
   "source": [
    "Analyzing all this data might take a while. To cut the computational time, here, we analyze only the first 10 samples of each class."
   ]
  },
  {
   "cell_type": "code",
   "execution_count": null,
   "id": "c61a5481-2030-413a-ac65-83635f23feff",
   "metadata": {},
   "outputs": [],
   "source": [
    "qX1 = qX1[:10,:]\n",
    "qX2 = qX2[:10,:]"
   ]
  },
  {
   "cell_type": "markdown",
   "id": "ebbc9bc0-e28f-45bc-869b-eb02447d84d6",
   "metadata": {},
   "source": [
    "The dataset is finally constructed as it follows. The background samples are labelled with target $-1$ while the BSM samples are labelled with $+1$."
   ]
  },
  {
   "cell_type": "code",
   "execution_count": null,
   "id": "c373274c-afe6-4f3e-be53-2cf0ae9118e9",
   "metadata": {},
   "outputs": [],
   "source": [
    "qX = np.row_stack([qX1, qX2])\n",
    "qy = np.array([-1] * len(qX1) + [1] * len(qX2))\n",
    "\n",
    "print(f\"{qX.shape=}\")\n",
    "print(f\"{qy.shape=}\")"
   ]
  },
  {
   "cell_type": "markdown",
   "id": "ed147185-19a2-4392-a26f-9401f2be1b08",
   "metadata": {},
   "source": [
    "### Split the dataset in training and testing set"
   ]
  },
  {
   "cell_type": "code",
   "execution_count": null,
   "id": "2893aa81-b82a-4d6b-b8a8-15ee29e2fdd9",
   "metadata": {},
   "outputs": [],
   "source": [
    "qX_train, qX_test, qy_train, qy_test = train_test_split(qX, qy, test_size=0.2, random_state=42)\n",
    "\n",
    "print(\"Shape training set:\", qX_train.shape, qy_train.shape)\n",
    "print(\"Shape testing set:\", qX_test.shape, qy_test.shape)\n",
    "print(\"Example of feature:\", qX_train[0])\n",
    "print(\"Example of label:\", qy_train[0])"
   ]
  },
  {
   "cell_type": "markdown",
   "id": "51ad5623-6be1-4922-a35a-dc46ef4ff743",
   "metadata": {},
   "source": [
    "## Anomaly detection using fixed kernels\n",
    "\n",
    "We can solve our tasks with _quask_. The first step is always setting the backend. We can rely on Qiskit and noiseless simulation. "
   ]
  },
  {
   "cell_type": "code",
   "execution_count": null,
   "id": "b45a07c6-bda1-4061-9fd3-534833981dbd",
   "metadata": {},
   "outputs": [],
   "source": [
    "def create_qiskit_noiseless(ansatz: Ansatz, measurement: str, type: KernelType):\n",
    "    return QiskitKernel(ansatz, measurement, type, n_shots=None)\n",
    "\n",
    "# KernelFactory.add_implementation('qiskit_noiseless', create_qiskit_noiseless)\n",
    "KernelFactory.set_current_implementation('qiskit_noiseless')"
   ]
  },
  {
   "cell_type": "markdown",
   "id": "e9da7699-369b-4f5c-ac09-54f9ff3a0bf7",
   "metadata": {},
   "source": [
    "Then, we can create the ansats. The number of features has to be 8, as they are in the dataset. The number of qubits and operation is arbitrary; in particular, we are not forced to use one qubit per feature. "
   ]
  },
  {
   "cell_type": "code",
   "execution_count": null,
   "id": "292f256c-20ce-4026-92d5-37e44d945b58",
   "metadata": {},
   "outputs": [],
   "source": [
    "# Create a quantum kernel\n",
    "ansatz = Ansatz(n_features=8, n_qubits=2, n_operations=1)\n",
    "ansatz.initialize_to_identity()\n",
    "ansatz.change_operation(0, new_feature=0, new_wires=[0, 1], new_generator=\"XX\", new_bandwidth=0.1)\n",
    "kernel = KernelFactory.create_kernel(ansatz, \"ZZ\", KernelType.FIDELITY)\n",
    "\n",
    "# ansatz.change_operation(1, new_feature=1, new_wires=[1, 2], new_generator=\"XY\", new_bandwidth=0.1)\n",
    "# ansatz.change_operation(2, new_feature=2, new_wires=[2, 3], new_generator=\"XZ\", new_bandwidth=0.1)\n",
    "# ansatz.change_operation(3, new_feature=3, new_wires=[3, 0], new_generator=\"YX\", new_bandwidth=0.1)\n",
    "# ansatz.change_operation(4, new_feature=4, new_wires=[0, 1], new_generator=\"YY\", new_bandwidth=0.1)\n",
    "# ansatz.change_operation(5, new_feature=5, new_wires=[1, 2], new_generator=\"YZ\", new_bandwidth=0.1)\n",
    "# ansatz.change_operation(6, new_feature=6, new_wires=[2, 3], new_generator=\"ZX\", new_bandwidth=0.1)\n",
    "# ansatz.change_operation(7, new_feature=7, new_wires=[3, 0], new_generator=\"ZY\", new_bandwidth=0.1)\n",
    "# kernel = KernelFactory.create_kernel(ansatz, \"ZZZZ\", KernelType.FIDELITY)"
   ]
  },
  {
   "cell_type": "markdown",
   "id": "b60a267f-7603-4ce0-bd41-3497183a7b00",
   "metadata": {},
   "source": [
    "Once defined the kernel, the only information we need to solve the task is the kernel Gram matrices, for both the training and testing set. The rest of the process is done on a classical machine learning pipeline. "
   ]
  },
  {
   "cell_type": "code",
   "execution_count": null,
   "id": "9f509bbe-c769-4a44-9db7-87ca6e62f010",
   "metadata": {},
   "outputs": [],
   "source": [
    "# Create the kernel Gram matrices\n",
    "K_train = kernel.build_kernel(qX_train, qX_train)\n",
    "K_test = kernel.build_kernel(qX_test, qX_train)"
   ]
  },
  {
   "cell_type": "markdown",
   "id": "dd1bd4f4-e346-4082-a154-2f578d66bc97",
   "metadata": {},
   "source": [
    "We use a simple support vector classifier. "
   ]
  },
  {
   "cell_type": "code",
   "execution_count": null,
   "id": "b2441b65-41a2-45fa-bc92-7837c2aa373e",
   "metadata": {},
   "outputs": [],
   "source": [
    "# Fit the model to the training data\n",
    "model = SVC(kernel='precomputed')\n",
    "model.fit(K_train, qy_train)"
   ]
  },
  {
   "cell_type": "markdown",
   "id": "dee32506-dab0-4be7-bea0-ebe591362899",
   "metadata": {},
   "source": [
    "Finally, we get the accuracy of the model."
   ]
  },
  {
   "cell_type": "code",
   "execution_count": null,
   "id": "55a5cce1-01bd-4fdb-89b5-f8fdcb7781ef",
   "metadata": {},
   "outputs": [],
   "source": [
    "# Test the model and calculate the score\n",
    "y_pred = model.predict(K_test)\n",
    "accuracy = np.sum(qy_test == y_pred) / len(qy_test)\n",
    "print(\"Accuracy:\", accuracy)"
   ]
  },
  {
   "cell_type": "markdown",
   "id": "8d1a268c-ed17-40b2-819b-fb7f715790d8",
   "metadata": {},
   "source": [
    "## Anomaly detection using optimized kernels\n",
    "\n",
    "_quask_ support also the creation of optimized kernels, tailored for each task. This approach has been used in [inc23]. To test an implementation of this, have a look at the optimizers/evaluators API."
   ]
  },
  {
   "cell_type": "markdown",
   "id": "ddd82299-9770-4190-9d42-0281a89ff279",
   "metadata": {},
   "source": [
    "## References\n",
    "\n",
    "[pie23] Pierini M. and Wozniak K. A. Dataset for Quantum anomaly detection in the latent space of proton collision events at the LHC. Zenodo. https://doi.org/10.5281/zenodo.7673769 (2023).\n",
    "\n",
    "[woz23] Woźniak K. A., Belis V., Puljak E., Barkoutsos P., Dissertori G., Grossi M., ... & Vallecorsa S. Quantum anomaly detection in the latent space of proton collision events at the LHC. arXiv preprint arXiv:2301.10780 (2023). \n",
    "\n",
    "[sch23] Schuhmacher J., Boggia L., Belis V., Puljak E., Grossi M., Pierini M., ... & Tavernelli I. Unravelling physics beyond the standard model with classical and quantum anomaly detection. arXiv preprint arXiv:2301.10787 (2023).\n",
    "\n",
    "[inc23] Incudini M., Lizzio Bosco D., Martini F., Grossi M., Serra G., Di Pierro A.\n",
    "Automatic and effective discovery of quantum kernels. \n",
    "arXiv preprint arXiv:2209.11144 (2023)."
   ]
  },
  {
   "cell_type": "code",
   "execution_count": null,
   "id": "aa8598f0-0014-4a99-9834-0880dbcb41f7",
   "metadata": {},
   "outputs": [],
   "source": []
  }
 ],
 "metadata": {
  "kernelspec": {
   "display_name": "Python 3 (ipykernel)",
   "language": "python",
   "name": "python3"
  },
  "language_info": {
   "codemirror_mode": {
    "name": "ipython",
    "version": 3
   },
   "file_extension": ".py",
   "mimetype": "text/x-python",
   "name": "python",
   "nbconvert_exporter": "python",
   "pygments_lexer": "ipython3",
   "version": "3.10.12"
  }
 },
 "nbformat": 4,
 "nbformat_minor": 5
}
